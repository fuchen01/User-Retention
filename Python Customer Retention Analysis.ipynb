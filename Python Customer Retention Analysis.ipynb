{
 "cells": [
  {
   "cell_type": "code",
   "execution_count": 165,
   "metadata": {},
   "outputs": [],
   "source": [
    "import pandas as pd\n",
    "import numpy as np\n",
    "import matplotlib.pyplot as plt\n",
    "import os\n",
    "import plotly.graph_objects as go"
   ]
  },
  {
   "cell_type": "code",
   "execution_count": 6,
   "metadata": {},
   "outputs": [],
   "source": [
    "path = os.getcwd()"
   ]
  },
  {
   "cell_type": "code",
   "execution_count": 8,
   "metadata": {},
   "outputs": [],
   "source": [
    "users = pd.read_excel(path+'/user_purchase_data.xlsx', sheet_name='user_registration')"
   ]
  },
  {
   "cell_type": "code",
   "execution_count": 9,
   "metadata": {},
   "outputs": [
    {
     "data": {
      "text/html": [
       "<div>\n",
       "<style scoped>\n",
       "    .dataframe tbody tr th:only-of-type {\n",
       "        vertical-align: middle;\n",
       "    }\n",
       "\n",
       "    .dataframe tbody tr th {\n",
       "        vertical-align: top;\n",
       "    }\n",
       "\n",
       "    .dataframe thead th {\n",
       "        text-align: right;\n",
       "    }\n",
       "</style>\n",
       "<table border=\"1\" class=\"dataframe\">\n",
       "  <thead>\n",
       "    <tr style=\"text-align: right;\">\n",
       "      <th></th>\n",
       "      <th>userID</th>\n",
       "      <th>is_subscriber</th>\n",
       "    </tr>\n",
       "  </thead>\n",
       "  <tbody>\n",
       "    <tr>\n",
       "      <th>0</th>\n",
       "      <td>1</td>\n",
       "      <td>No</td>\n",
       "    </tr>\n",
       "    <tr>\n",
       "      <th>1</th>\n",
       "      <td>2</td>\n",
       "      <td>No</td>\n",
       "    </tr>\n",
       "    <tr>\n",
       "      <th>2</th>\n",
       "      <td>3</td>\n",
       "      <td>No</td>\n",
       "    </tr>\n",
       "  </tbody>\n",
       "</table>\n",
       "</div>"
      ],
      "text/plain": [
       "   userID is_subscriber\n",
       "0       1            No\n",
       "1       2            No\n",
       "2       3            No"
      ]
     },
     "execution_count": 9,
     "metadata": {},
     "output_type": "execute_result"
    }
   ],
   "source": [
    "users.head(3)"
   ]
  },
  {
   "cell_type": "code",
   "execution_count": 10,
   "metadata": {},
   "outputs": [
    {
     "data": {
      "text/plain": [
       "(201217, 2)"
      ]
     },
     "execution_count": 10,
     "metadata": {},
     "output_type": "execute_result"
    }
   ],
   "source": [
    "users.shape"
   ]
  },
  {
   "cell_type": "code",
   "execution_count": 11,
   "metadata": {},
   "outputs": [
    {
     "data": {
      "text/plain": [
       "userID           0\n",
       "is_subscriber    0\n",
       "dtype: int64"
      ]
     },
     "execution_count": 11,
     "metadata": {},
     "output_type": "execute_result"
    }
   ],
   "source": [
    "users.isna().sum()"
   ]
  },
  {
   "cell_type": "code",
   "execution_count": 16,
   "metadata": {},
   "outputs": [
    {
     "data": {
      "text/plain": [
       "0"
      ]
     },
     "execution_count": 16,
     "metadata": {},
     "output_type": "execute_result"
    }
   ],
   "source": [
    "users[users['userID'].duplicated()].shape[0]"
   ]
  },
  {
   "cell_type": "code",
   "execution_count": 20,
   "metadata": {},
   "outputs": [
    {
     "data": {
      "text/plain": [
       "No     99.21\n",
       "Yes     0.79\n",
       "Name: is_subscriber, dtype: float64"
      ]
     },
     "execution_count": 20,
     "metadata": {},
     "output_type": "execute_result"
    }
   ],
   "source": [
    "round(100*users['is_subscriber'].value_counts(dropna=False, normalize = True),2)"
   ]
  },
  {
   "cell_type": "code",
   "execution_count": 21,
   "metadata": {
    "scrolled": true
   },
   "outputs": [
    {
     "data": {
      "text/plain": [
       "<matplotlib.axes._subplots.AxesSubplot at 0x7f8bfe119b50>"
      ]
     },
     "execution_count": 21,
     "metadata": {},
     "output_type": "execute_result"
    },
    {
     "data": {
      "image/png": "[encoded data removed]",
      "text/plain": [
       "<Figure size 432x288 with 1 Axes>"
      ]
     },
     "metadata": {
      "needs_background": "light"
     },
     "output_type": "display_data"
    }
   ],
   "source": [
    "users['is_subscriber'].value_counts(dropna=False, normalize = True).plot(kind = 'bar') "
   ]
  },
  {
   "cell_type": "markdown",
   "metadata": {},
   "source": [
    "### Mobile orders table"
   ]
  },
  {
   "cell_type": "code",
   "execution_count": 22,
   "metadata": {},
   "outputs": [
    {
     "data": {
      "text/html": [
       "<div>\n",
       "<style scoped>\n",
       "    .dataframe tbody tr th:only-of-type {\n",
       "        vertical-align: middle;\n",
       "    }\n",
       "\n",
       "    .dataframe tbody tr th {\n",
       "        vertical-align: top;\n",
       "    }\n",
       "\n",
       "    .dataframe thead th {\n",
       "        text-align: right;\n",
       "    }\n",
       "</style>\n",
       "<table border=\"1\" class=\"dataframe\">\n",
       "  <thead>\n",
       "    <tr style=\"text-align: right;\">\n",
       "      <th></th>\n",
       "      <th>user_id</th>\n",
       "      <th>mobile_orders</th>\n",
       "    </tr>\n",
       "  </thead>\n",
       "  <tbody>\n",
       "    <tr>\n",
       "      <th>43368</th>\n",
       "      <td>61804</td>\n",
       "      <td>3</td>\n",
       "    </tr>\n",
       "    <tr>\n",
       "      <th>79276</th>\n",
       "      <td>112747</td>\n",
       "      <td>2</td>\n",
       "    </tr>\n",
       "    <tr>\n",
       "      <th>64331</th>\n",
       "      <td>91620</td>\n",
       "      <td>7</td>\n",
       "    </tr>\n",
       "    <tr>\n",
       "      <th>119489</th>\n",
       "      <td>169861</td>\n",
       "      <td>1</td>\n",
       "    </tr>\n",
       "  </tbody>\n",
       "</table>\n",
       "</div>"
      ],
      "text/plain": [
       "        user_id  mobile_orders\n",
       "43368     61804              3\n",
       "79276    112747              2\n",
       "64331     91620              7\n",
       "119489   169861              1"
      ]
     },
     "execution_count": 22,
     "metadata": {},
     "output_type": "execute_result"
    }
   ],
   "source": [
    "mobile = pd.read_excel(path+'/user_purchase_data.xlsx', sheet_name='mobile_orders')\n",
    "mobile.sample(4)"
   ]
  },
  {
   "cell_type": "code",
   "execution_count": 23,
   "metadata": {},
   "outputs": [
    {
     "data": {
      "text/plain": [
       "(141690, 2)"
      ]
     },
     "execution_count": 23,
     "metadata": {},
     "output_type": "execute_result"
    }
   ],
   "source": [
    "mobile.shape"
   ]
  },
  {
   "cell_type": "code",
   "execution_count": 24,
   "metadata": {},
   "outputs": [
    {
     "data": {
      "text/plain": [
       "user_id          0\n",
       "mobile_orders    0\n",
       "dtype: int64"
      ]
     },
     "execution_count": 24,
     "metadata": {},
     "output_type": "execute_result"
    }
   ],
   "source": [
    "mobile.isna().sum()"
   ]
  },
  {
   "cell_type": "code",
   "execution_count": 27,
   "metadata": {},
   "outputs": [
    {
     "data": {
      "text/plain": [
       "0"
      ]
     },
     "execution_count": 27,
     "metadata": {},
     "output_type": "execute_result"
    }
   ],
   "source": [
    "mobile[mobile['user_id'].duplicated()].shape[0]"
   ]
  },
  {
   "cell_type": "code",
   "execution_count": 28,
   "metadata": {},
   "outputs": [
    {
     "data": {
      "text/plain": [
       "count    141690.000000\n",
       "mean          9.565947\n",
       "std          24.138480\n",
       "min           1.000000\n",
       "25%           2.000000\n",
       "50%           4.000000\n",
       "75%           8.000000\n",
       "max        1174.000000\n",
       "Name: mobile_orders, dtype: float64"
      ]
     },
     "execution_count": 28,
     "metadata": {},
     "output_type": "execute_result"
    }
   ],
   "source": [
    "mobile['mobile_orders'].describe()"
   ]
  },
  {
   "cell_type": "code",
   "execution_count": 30,
   "metadata": {},
   "outputs": [
    {
     "data": {
      "text/plain": [
       "user_id          int64\n",
       "mobile_orders    int64\n",
       "dtype: object"
      ]
     },
     "execution_count": 30,
     "metadata": {},
     "output_type": "execute_result"
    }
   ],
   "source": [
    "mobile.dtypes"
   ]
  },
  {
   "cell_type": "code",
   "execution_count": 32,
   "metadata": {},
   "outputs": [
    {
     "data": {
      "text/plain": [
       "<matplotlib.axes._subplots.AxesSubplot at 0x7f8bfc47e6a0>"
      ]
     },
     "execution_count": 32,
     "metadata": {},
     "output_type": "execute_result"
    },
    {
     "data": {
      "image/png": "[encoded data removed]",
      "text/plain": [
       "<Figure size 432x288 with 1 Axes>"
      ]
     },
     "metadata": {
      "needs_background": "light"
     },
     "output_type": "display_data"
    }
   ],
   "source": [
    "mobile['mobile_orders'].plot(kind = 'hist', bins =130, range=[0,50])"
   ]
  },
  {
   "cell_type": "code",
   "execution_count": 35,
   "metadata": {},
   "outputs": [
    {
     "data": {
      "text/plain": [
       "1827"
      ]
     },
     "execution_count": 35,
     "metadata": {},
     "output_type": "execute_result"
    }
   ],
   "source": [
    "## users not made the purchase or delete their account before\n",
    "mobile[~mobile['user_id'].isin(users['userID'])].shape[0]"
   ]
  },
  {
   "cell_type": "code",
   "execution_count": 38,
   "metadata": {},
   "outputs": [
    {
     "data": {
      "text/plain": [
       "[201218,\n",
       " 201219,\n",
       " 201220,\n",
       " 201221,\n",
       " 201222,\n",
       " 201223,\n",
       " 201224,\n",
       " 201225,\n",
       " 201226,\n",
       " 201227,\n",
       " 201228,\n",
       " 201229,\n",
       " 201230,\n",
       " 201231,\n",
       " 201232,\n",
       " 201233,\n",
       " 201234,\n",
       " 201235,\n",
       " 201236,\n",
       " 201237,\n",
       " 201238,\n",
       " 201239,\n",
       " 201240,\n",
       " 201241,\n",
       " 201242,\n",
       " 201243,\n",
       " 201244,\n",
       " 201245,\n",
       " 201246,\n",
       " 201247,\n",
       " 201248,\n",
       " 201249,\n",
       " 201250,\n",
       " 201251,\n",
       " 201252,\n",
       " 201253,\n",
       " 201254,\n",
       " 201255,\n",
       " 201256,\n",
       " 201257,\n",
       " 201258,\n",
       " 201259,\n",
       " 201260,\n",
       " 201261,\n",
       " 201262,\n",
       " 201263,\n",
       " 201264,\n",
       " 201265,\n",
       " 201266,\n",
       " 201267,\n",
       " 201268,\n",
       " 201269,\n",
       " 201270,\n",
       " 201271,\n",
       " 201272,\n",
       " 201273,\n",
       " 201274,\n",
       " 201275,\n",
       " 201276,\n",
       " 201277,\n",
       " 201278,\n",
       " 201279,\n",
       " 201280,\n",
       " 201281,\n",
       " 201282,\n",
       " 201283,\n",
       " 201284,\n",
       " 201285,\n",
       " 201286,\n",
       " 201287,\n",
       " 201288,\n",
       " 201289,\n",
       " 201290,\n",
       " 201291,\n",
       " 201292,\n",
       " 201293,\n",
       " 201294,\n",
       " 201295,\n",
       " 201296,\n",
       " 201297,\n",
       " 201298,\n",
       " 201299,\n",
       " 201300,\n",
       " 201301,\n",
       " 201302,\n",
       " 201303,\n",
       " 201304,\n",
       " 201305,\n",
       " 201306,\n",
       " 201307,\n",
       " 201308,\n",
       " 201309,\n",
       " 201310,\n",
       " 201311,\n",
       " 201312,\n",
       " 201313,\n",
       " 201314,\n",
       " 201315,\n",
       " 201316,\n",
       " 201317,\n",
       " 201318,\n",
       " 201319,\n",
       " 201320,\n",
       " 201321,\n",
       " 201322,\n",
       " 201323,\n",
       " 201324,\n",
       " 201325,\n",
       " 201326,\n",
       " 201327,\n",
       " 201328,\n",
       " 201329,\n",
       " 201330,\n",
       " 201331,\n",
       " 201332,\n",
       " 201333,\n",
       " 201334,\n",
       " 201335,\n",
       " 201336,\n",
       " 201337,\n",
       " 201338,\n",
       " 201339,\n",
       " 201340,\n",
       " 201341,\n",
       " 201342,\n",
       " 201343,\n",
       " 201344,\n",
       " 201345,\n",
       " 201346,\n",
       " 201347,\n",
       " 201348,\n",
       " 201349,\n",
       " 201350,\n",
       " 201351,\n",
       " 201352,\n",
       " 201353,\n",
       " 201354,\n",
       " 201355,\n",
       " 201356,\n",
       " 201357,\n",
       " 201358,\n",
       " 201359,\n",
       " 201360,\n",
       " 201361,\n",
       " 201362,\n",
       " 201363,\n",
       " 201364,\n",
       " 201365,\n",
       " 201366,\n",
       " 201367,\n",
       " 201368,\n",
       " 201369,\n",
       " 201370,\n",
       " 201371,\n",
       " 201372,\n",
       " 201373,\n",
       " 201374,\n",
       " 201375,\n",
       " 201376,\n",
       " 201377,\n",
       " 201378,\n",
       " 201379,\n",
       " 201380,\n",
       " 201381,\n",
       " 201382,\n",
       " 201383,\n",
       " 201384,\n",
       " 201385,\n",
       " 201386,\n",
       " 201387,\n",
       " 201388,\n",
       " 201389,\n",
       " 201390,\n",
       " 201391,\n",
       " 201392,\n",
       " 201393,\n",
       " 201394,\n",
       " 201395,\n",
       " 201396,\n",
       " 201397,\n",
       " 201398,\n",
       " 201399,\n",
       " 201400,\n",
       " 201401,\n",
       " 201402,\n",
       " 201403,\n",
       " 201404,\n",
       " 201405,\n",
       " 201406,\n",
       " 201407,\n",
       " 201408,\n",
       " 201409,\n",
       " 201410,\n",
       " 201411,\n",
       " 201412,\n",
       " 201413,\n",
       " 201414,\n",
       " 201415,\n",
       " 201416,\n",
       " 201417,\n",
       " 201418,\n",
       " 201419,\n",
       " 201420,\n",
       " 201421,\n",
       " 201422,\n",
       " 201423,\n",
       " 201424,\n",
       " 201425,\n",
       " 201426,\n",
       " 201427,\n",
       " 201428,\n",
       " 201429,\n",
       " 201430,\n",
       " 201431,\n",
       " 201432,\n",
       " 201433,\n",
       " 201434,\n",
       " 201435,\n",
       " 201436,\n",
       " 201437,\n",
       " 201438,\n",
       " 201439,\n",
       " 201440,\n",
       " 201441,\n",
       " 201442,\n",
       " 201443,\n",
       " 201444,\n",
       " 201445,\n",
       " 201446,\n",
       " 201447,\n",
       " 201448,\n",
       " 201449,\n",
       " 201450,\n",
       " 201451,\n",
       " 201452,\n",
       " 201453,\n",
       " 201454,\n",
       " 201455,\n",
       " 201456,\n",
       " 201457,\n",
       " 201458,\n",
       " 201459,\n",
       " 201460,\n",
       " 201461,\n",
       " 201462,\n",
       " 201463,\n",
       " 201464,\n",
       " 201465,\n",
       " 201466,\n",
       " 201467,\n",
       " 201468,\n",
       " 201469,\n",
       " 201470,\n",
       " 201471,\n",
       " 201472,\n",
       " 201473,\n",
       " 201474,\n",
       " 201475,\n",
       " 201476,\n",
       " 201477,\n",
       " 201478,\n",
       " 201479,\n",
       " 201480,\n",
       " 201481,\n",
       " 201482,\n",
       " 201483,\n",
       " 201484,\n",
       " 201485,\n",
       " 201486,\n",
       " 201487,\n",
       " 201488,\n",
       " 201489,\n",
       " 201490,\n",
       " 201491,\n",
       " 201492,\n",
       " 201493,\n",
       " 201494,\n",
       " 201495,\n",
       " 201496,\n",
       " 201497,\n",
       " 201498,\n",
       " 201499,\n",
       " 201500,\n",
       " 201501,\n",
       " 201502,\n",
       " 201503,\n",
       " 201504,\n",
       " 201505,\n",
       " 201506,\n",
       " 201507,\n",
       " 201508,\n",
       " 201509,\n",
       " 201510,\n",
       " 201511,\n",
       " 201512,\n",
       " 201513,\n",
       " 201514,\n",
       " 201515,\n",
       " 201516,\n",
       " 201517,\n",
       " 201518,\n",
       " 201519,\n",
       " 201520,\n",
       " 201521,\n",
       " 201522,\n",
       " 201523,\n",
       " 201524,\n",
       " 201525,\n",
       " 201526,\n",
       " 201527,\n",
       " 201528,\n",
       " 201529,\n",
       " 201530,\n",
       " 201531,\n",
       " 201532,\n",
       " 201533,\n",
       " 201534,\n",
       " 201535,\n",
       " 201536,\n",
       " 201537,\n",
       " 201538,\n",
       " 201539,\n",
       " 201540,\n",
       " 201541,\n",
       " 201542,\n",
       " 201543,\n",
       " 201544,\n",
       " 201545,\n",
       " 201546,\n",
       " 201547,\n",
       " 201548,\n",
       " 201549,\n",
       " 201550,\n",
       " 201551,\n",
       " 201552,\n",
       " 201553,\n",
       " 201554,\n",
       " 201555,\n",
       " 201556,\n",
       " 201557,\n",
       " 201558,\n",
       " 201559,\n",
       " 201560,\n",
       " 201561,\n",
       " 201562,\n",
       " 201563,\n",
       " 201564,\n",
       " 201565,\n",
       " 201566,\n",
       " 201567,\n",
       " 201568,\n",
       " 201569,\n",
       " 201570,\n",
       " 201571,\n",
       " 201572,\n",
       " 201573,\n",
       " 201574,\n",
       " 201575,\n",
       " 201576,\n",
       " 201577,\n",
       " 201578,\n",
       " 201579,\n",
       " 201580,\n",
       " 201581,\n",
       " 201582,\n",
       " 201583,\n",
       " 201584,\n",
       " 201585,\n",
       " 201586,\n",
       " 201587,\n",
       " 201588,\n",
       " 201589,\n",
       " 201590,\n",
       " 201591,\n",
       " 201592,\n",
       " 201593,\n",
       " 201594,\n",
       " 201595,\n",
       " 201596,\n",
       " 201597,\n",
       " 201598,\n",
       " 201599,\n",
       " 201600,\n",
       " 201601,\n",
       " 201602,\n",
       " 201603,\n",
       " 201604,\n",
       " 201605,\n",
       " 201606,\n",
       " 201607,\n",
       " 201608,\n",
       " 201609,\n",
       " 201610,\n",
       " 201611,\n",
       " 201612,\n",
       " 201613,\n",
       " 201614,\n",
       " 201615,\n",
       " 201616,\n",
       " 201617,\n",
       " 201618,\n",
       " 201619,\n",
       " 201620,\n",
       " 201621,\n",
       " 201622,\n",
       " 201623,\n",
       " 201624,\n",
       " 201625,\n",
       " 201626,\n",
       " 201627,\n",
       " 201628,\n",
       " 201629,\n",
       " 201630,\n",
       " 201631,\n",
       " 201632,\n",
       " 201633,\n",
       " 201634,\n",
       " 201635,\n",
       " 201636,\n",
       " 201637,\n",
       " 201638,\n",
       " 201639,\n",
       " 201640,\n",
       " 201641,\n",
       " 201642,\n",
       " 201643,\n",
       " 201644,\n",
       " 201645,\n",
       " 201646,\n",
       " 201647,\n",
       " 201648,\n",
       " 201649,\n",
       " 201650,\n",
       " 201651,\n",
       " 201652,\n",
       " 201653,\n",
       " 201654,\n",
       " 201655,\n",
       " 201656,\n",
       " 201657,\n",
       " 201658,\n",
       " 201659,\n",
       " 201660,\n",
       " 201661,\n",
       " 201662,\n",
       " 201663,\n",
       " 201664,\n",
       " 201665,\n",
       " 201666,\n",
       " 201667,\n",
       " 201668,\n",
       " 201669,\n",
       " 201670,\n",
       " 201671,\n",
       " 201672,\n",
       " 201673,\n",
       " 201674,\n",
       " 201675,\n",
       " 201676,\n",
       " 201677,\n",
       " 201678,\n",
       " 201679,\n",
       " 201680,\n",
       " 201681,\n",
       " 201682,\n",
       " 201683,\n",
       " 201684,\n",
       " 201685,\n",
       " 201686,\n",
       " 201687,\n",
       " 201688,\n",
       " 201689,\n",
       " 201690,\n",
       " 201691,\n",
       " 201692,\n",
       " 201693,\n",
       " 201694,\n",
       " 201695,\n",
       " 201696,\n",
       " 201697,\n",
       " 201698,\n",
       " 201699,\n",
       " 201700,\n",
       " 201701,\n",
       " 201702,\n",
       " 201703,\n",
       " 201704,\n",
       " 201705,\n",
       " 201706,\n",
       " 201707,\n",
       " 201708,\n",
       " 201709,\n",
       " 201710,\n",
       " 201711,\n",
       " 201712,\n",
       " 201713,\n",
       " 201714,\n",
       " 201715,\n",
       " 201716,\n",
       " 201717,\n",
       " 201718,\n",
       " 201719,\n",
       " 201720,\n",
       " 201721,\n",
       " 201722,\n",
       " 201723,\n",
       " 201724,\n",
       " 201725,\n",
       " 201726,\n",
       " 201727,\n",
       " 201728,\n",
       " 201729,\n",
       " 201730,\n",
       " 201731,\n",
       " 201732,\n",
       " 201733,\n",
       " 201734,\n",
       " 201735,\n",
       " 201736,\n",
       " 201737,\n",
       " 201738,\n",
       " 201739,\n",
       " 201740,\n",
       " 201741,\n",
       " 201742,\n",
       " 201743,\n",
       " 201744,\n",
       " 201745,\n",
       " 201746,\n",
       " 201747,\n",
       " 201748,\n",
       " 201749,\n",
       " 201750,\n",
       " 201751,\n",
       " 201752,\n",
       " 201753,\n",
       " 201754,\n",
       " 201755,\n",
       " 201756,\n",
       " 201757,\n",
       " 201758,\n",
       " 201759,\n",
       " 201760,\n",
       " 201761,\n",
       " 201762,\n",
       " 201763,\n",
       " 201764,\n",
       " 201765,\n",
       " 201766,\n",
       " 201767,\n",
       " 201768,\n",
       " 201769,\n",
       " 201770,\n",
       " 201771,\n",
       " 201772,\n",
       " 201773,\n",
       " 201774,\n",
       " 201775,\n",
       " 201776,\n",
       " 201777,\n",
       " 201778,\n",
       " 201779,\n",
       " 201780,\n",
       " 201781,\n",
       " 201782,\n",
       " 201783,\n",
       " 201784,\n",
       " 201785,\n",
       " 201786,\n",
       " 201787,\n",
       " 201788,\n",
       " 201789,\n",
       " 201790,\n",
       " 201791,\n",
       " 201792,\n",
       " 201793,\n",
       " 201794,\n",
       " 201795,\n",
       " 201796,\n",
       " 201797,\n",
       " 201798,\n",
       " 201799,\n",
       " 201800,\n",
       " 201801,\n",
       " 201802,\n",
       " 201803,\n",
       " 201804,\n",
       " 201805,\n",
       " 201806,\n",
       " 201807,\n",
       " 201808,\n",
       " 201809,\n",
       " 201810,\n",
       " 201811,\n",
       " 201812,\n",
       " 201813,\n",
       " 201814,\n",
       " 201815,\n",
       " 201816,\n",
       " 201817,\n",
       " 201818,\n",
       " 201819,\n",
       " 201820,\n",
       " 201821,\n",
       " 201822,\n",
       " 201823,\n",
       " 201824,\n",
       " 201825,\n",
       " 201826,\n",
       " 201827,\n",
       " 201828,\n",
       " 201829,\n",
       " 201830,\n",
       " 201831,\n",
       " 201832,\n",
       " 201833,\n",
       " 201834,\n",
       " 201835,\n",
       " 201836,\n",
       " 201837,\n",
       " 201838,\n",
       " 201839,\n",
       " 201840,\n",
       " 201841,\n",
       " 201842,\n",
       " 201843,\n",
       " 201844,\n",
       " 201845,\n",
       " 201846,\n",
       " 201847,\n",
       " 201848,\n",
       " 201849,\n",
       " 201850,\n",
       " 201851,\n",
       " 201852,\n",
       " 201853,\n",
       " 201854,\n",
       " 201855,\n",
       " 201856,\n",
       " 201857,\n",
       " 201858,\n",
       " 201859,\n",
       " 201860,\n",
       " 201861,\n",
       " 201862,\n",
       " 201863,\n",
       " 201864,\n",
       " 201865,\n",
       " 201866,\n",
       " 201867,\n",
       " 201868,\n",
       " 201869,\n",
       " 201870,\n",
       " 201871,\n",
       " 201872,\n",
       " 201873,\n",
       " 201874,\n",
       " 201875,\n",
       " 201876,\n",
       " 201877,\n",
       " 201878,\n",
       " 201879,\n",
       " 201880,\n",
       " 201881,\n",
       " 201882,\n",
       " 201883,\n",
       " 201884,\n",
       " 201885,\n",
       " 201886,\n",
       " 201887,\n",
       " 201888,\n",
       " 201889,\n",
       " 201890,\n",
       " 201891,\n",
       " 201892,\n",
       " 201893,\n",
       " 201894,\n",
       " 201895,\n",
       " 201896,\n",
       " 201897,\n",
       " 201898,\n",
       " 201899,\n",
       " 201900,\n",
       " 201901,\n",
       " 201902,\n",
       " 201903,\n",
       " 201904,\n",
       " 201905,\n",
       " 201906,\n",
       " 201907,\n",
       " 201908,\n",
       " 201909,\n",
       " 201910,\n",
       " 201911,\n",
       " 201912,\n",
       " 201913,\n",
       " 201914,\n",
       " 201915,\n",
       " 201916,\n",
       " 201917,\n",
       " 201918,\n",
       " 201919,\n",
       " 201920,\n",
       " 201921,\n",
       " 201922,\n",
       " 201923,\n",
       " 201924,\n",
       " 201925,\n",
       " 201926,\n",
       " 201927,\n",
       " 201928,\n",
       " 201929,\n",
       " 201930,\n",
       " 201931,\n",
       " 201932,\n",
       " 201933,\n",
       " 201934,\n",
       " 201935,\n",
       " 201936,\n",
       " 201937,\n",
       " 201938,\n",
       " 201939,\n",
       " 201940,\n",
       " 201941,\n",
       " 201942,\n",
       " 201943,\n",
       " 201944,\n",
       " 201945,\n",
       " 201946,\n",
       " 201947,\n",
       " 201948,\n",
       " 201949,\n",
       " 201950,\n",
       " 201951,\n",
       " 201952,\n",
       " 201953,\n",
       " 201954,\n",
       " 201955,\n",
       " 201956,\n",
       " 201957,\n",
       " 201958,\n",
       " 201959,\n",
       " 201960,\n",
       " 201961,\n",
       " 201962,\n",
       " 201963,\n",
       " 201964,\n",
       " 201965,\n",
       " 201966,\n",
       " 201967,\n",
       " 201968,\n",
       " 201969,\n",
       " 201970,\n",
       " 201971,\n",
       " 201972,\n",
       " 201973,\n",
       " 201974,\n",
       " 201975,\n",
       " 201976,\n",
       " 201977,\n",
       " 201978,\n",
       " 201979,\n",
       " 201980,\n",
       " 201981,\n",
       " 201982,\n",
       " 201983,\n",
       " 201984,\n",
       " 201985,\n",
       " 201986,\n",
       " 201987,\n",
       " 201988,\n",
       " 201989,\n",
       " 201990,\n",
       " 201991,\n",
       " 201992,\n",
       " 201993,\n",
       " 201994,\n",
       " 201995,\n",
       " 201996,\n",
       " 201997,\n",
       " 201998,\n",
       " 201999,\n",
       " 202000,\n",
       " 202001,\n",
       " 202002,\n",
       " 202003,\n",
       " 202004,\n",
       " 202005,\n",
       " 202006,\n",
       " 202007,\n",
       " 202008,\n",
       " 202009,\n",
       " 202010,\n",
       " 202011,\n",
       " 202012,\n",
       " 202013,\n",
       " 202014,\n",
       " 202015,\n",
       " 202016,\n",
       " 202017,\n",
       " 202018,\n",
       " 202019,\n",
       " 202020,\n",
       " 202021,\n",
       " 202022,\n",
       " 202023,\n",
       " 202024,\n",
       " 202025,\n",
       " 202026,\n",
       " 202027,\n",
       " 202028,\n",
       " 202029,\n",
       " 202030,\n",
       " 202031,\n",
       " 202032,\n",
       " 202033,\n",
       " 202034,\n",
       " 202035,\n",
       " 202036,\n",
       " 202037,\n",
       " 202038,\n",
       " 202039,\n",
       " 202040,\n",
       " 202041,\n",
       " 202042,\n",
       " 202043,\n",
       " 202044,\n",
       " 202045,\n",
       " 202046,\n",
       " 202047,\n",
       " 202048,\n",
       " 202049,\n",
       " 202050,\n",
       " 202051,\n",
       " 202052,\n",
       " 202053,\n",
       " 202054,\n",
       " 202055,\n",
       " 202056,\n",
       " 202057,\n",
       " 202058,\n",
       " 202059,\n",
       " 202060,\n",
       " 202061,\n",
       " 202062,\n",
       " 202063,\n",
       " 202064,\n",
       " 202065,\n",
       " 202066,\n",
       " 202067,\n",
       " 202068,\n",
       " 202069,\n",
       " 202070,\n",
       " 202071,\n",
       " 202072,\n",
       " 202073,\n",
       " 202074,\n",
       " 202075,\n",
       " 202076,\n",
       " 202077,\n",
       " 202078,\n",
       " 202079,\n",
       " 202080,\n",
       " 202081,\n",
       " 202082,\n",
       " 202083,\n",
       " 202084,\n",
       " 202085,\n",
       " 202086,\n",
       " 202087,\n",
       " 202088,\n",
       " 202089,\n",
       " 202090,\n",
       " 202091,\n",
       " 202092,\n",
       " 202093,\n",
       " 202094,\n",
       " 202095,\n",
       " 202096,\n",
       " 202097,\n",
       " 202098,\n",
       " 202099,\n",
       " 202100,\n",
       " 202101,\n",
       " 202102,\n",
       " 202103,\n",
       " 202104,\n",
       " 202105,\n",
       " 202106,\n",
       " 202107,\n",
       " 202108,\n",
       " 202109,\n",
       " 202110,\n",
       " 202111,\n",
       " 202112,\n",
       " 202113,\n",
       " 202114,\n",
       " 202115,\n",
       " 202116,\n",
       " 202117,\n",
       " 202118,\n",
       " 202119,\n",
       " 202120,\n",
       " 202121,\n",
       " 202122,\n",
       " 202123,\n",
       " 202124,\n",
       " 202125,\n",
       " 202126,\n",
       " 202127,\n",
       " 202128,\n",
       " 202129,\n",
       " 202130,\n",
       " 202131,\n",
       " 202132,\n",
       " 202133,\n",
       " 202134,\n",
       " 202135,\n",
       " 202136,\n",
       " 202137,\n",
       " 202138,\n",
       " 202139,\n",
       " 202140,\n",
       " 202141,\n",
       " 202142,\n",
       " 202143,\n",
       " 202144,\n",
       " 202145,\n",
       " 202146,\n",
       " 202147,\n",
       " 202148,\n",
       " 202149,\n",
       " 202150,\n",
       " 202151,\n",
       " 202152,\n",
       " 202153,\n",
       " 202154,\n",
       " 202155,\n",
       " 202156,\n",
       " 202157,\n",
       " 202158,\n",
       " 202159,\n",
       " 202160,\n",
       " 202161,\n",
       " 202162,\n",
       " 202163,\n",
       " 202164,\n",
       " 202165,\n",
       " 202166,\n",
       " 202167,\n",
       " 202168,\n",
       " 202169,\n",
       " 202170,\n",
       " 202171,\n",
       " 202172,\n",
       " 202173,\n",
       " 202174,\n",
       " 202175,\n",
       " 202176,\n",
       " 202177,\n",
       " 202178,\n",
       " 202179,\n",
       " 202180,\n",
       " 202181,\n",
       " 202182,\n",
       " 202183,\n",
       " 202184,\n",
       " 202185,\n",
       " 202186,\n",
       " 202187,\n",
       " 202188,\n",
       " 202189,\n",
       " 202190,\n",
       " 202191,\n",
       " 202192,\n",
       " 202193,\n",
       " 202194,\n",
       " 202195,\n",
       " 202196,\n",
       " 202197,\n",
       " 202198,\n",
       " 202199,\n",
       " 202200,\n",
       " 202201,\n",
       " 202202,\n",
       " 202203,\n",
       " 202204,\n",
       " 202205,\n",
       " 202206,\n",
       " 202207,\n",
       " 202208,\n",
       " 202209,\n",
       " 202210,\n",
       " 202211,\n",
       " 202212,\n",
       " 202213,\n",
       " 202214,\n",
       " 202215,\n",
       " 202216,\n",
       " 202217,\n",
       " ...]"
      ]
     },
     "execution_count": 38,
     "metadata": {},
     "output_type": "execute_result"
    }
   ],
   "source": [
    "mobile.loc[~mobile['user_id'].isin(users['userID']), 'user_id'].tolist()"
   ]
  },
  {
   "cell_type": "markdown",
   "metadata": {},
   "source": [
    "### In store order table"
   ]
  },
  {
   "cell_type": "code",
   "execution_count": 39,
   "metadata": {},
   "outputs": [
    {
     "data": {
      "text/html": [
       "<div>\n",
       "<style scoped>\n",
       "    .dataframe tbody tr th:only-of-type {\n",
       "        vertical-align: middle;\n",
       "    }\n",
       "\n",
       "    .dataframe tbody tr th {\n",
       "        vertical-align: top;\n",
       "    }\n",
       "\n",
       "    .dataframe thead th {\n",
       "        text-align: right;\n",
       "    }\n",
       "</style>\n",
       "<table border=\"1\" class=\"dataframe\">\n",
       "  <thead>\n",
       "    <tr style=\"text-align: right;\">\n",
       "      <th></th>\n",
       "      <th>user_id</th>\n",
       "      <th>in_store_orders</th>\n",
       "    </tr>\n",
       "  </thead>\n",
       "  <tbody>\n",
       "    <tr>\n",
       "      <th>0</th>\n",
       "      <td>5</td>\n",
       "      <td>26</td>\n",
       "    </tr>\n",
       "    <tr>\n",
       "      <th>1</th>\n",
       "      <td>6</td>\n",
       "      <td>1</td>\n",
       "    </tr>\n",
       "    <tr>\n",
       "      <th>2</th>\n",
       "      <td>26</td>\n",
       "      <td>5</td>\n",
       "    </tr>\n",
       "  </tbody>\n",
       "</table>\n",
       "</div>"
      ],
      "text/plain": [
       "   user_id  in_store_orders\n",
       "0        5               26\n",
       "1        6                1\n",
       "2       26                5"
      ]
     },
     "execution_count": 39,
     "metadata": {},
     "output_type": "execute_result"
    }
   ],
   "source": [
    "in_store = pd.read_excel(path+'/user_purchase_data.xlsx', sheet_name='in_store_orders')\n",
    "in_store.head(3)"
   ]
  },
  {
   "cell_type": "code",
   "execution_count": 40,
   "metadata": {},
   "outputs": [
    {
     "data": {
      "text/plain": [
       "(53287, 2)"
      ]
     },
     "execution_count": 40,
     "metadata": {},
     "output_type": "execute_result"
    }
   ],
   "source": [
    "in_store.shape"
   ]
  },
  {
   "cell_type": "code",
   "execution_count": 41,
   "metadata": {},
   "outputs": [
    {
     "data": {
      "text/plain": [
       "user_id            0\n",
       "in_store_orders    0\n",
       "dtype: int64"
      ]
     },
     "execution_count": 41,
     "metadata": {},
     "output_type": "execute_result"
    }
   ],
   "source": [
    "in_store.isna().sum()"
   ]
  },
  {
   "cell_type": "code",
   "execution_count": 43,
   "metadata": {},
   "outputs": [
    {
     "data": {
      "text/plain": [
       "True"
      ]
     },
     "execution_count": 43,
     "metadata": {},
     "output_type": "execute_result"
    }
   ],
   "source": [
    "in_store['user_id'].nunique() == in_store.shape[0]"
   ]
  },
  {
   "cell_type": "code",
   "execution_count": 44,
   "metadata": {},
   "outputs": [
    {
     "data": {
      "text/plain": [
       "count    53287.000000\n",
       "mean        23.849701\n",
       "std         55.010021\n",
       "min          1.000000\n",
       "25%          3.000000\n",
       "50%          9.000000\n",
       "75%         24.000000\n",
       "max       1419.000000\n",
       "Name: in_store_orders, dtype: float64"
      ]
     },
     "execution_count": 44,
     "metadata": {},
     "output_type": "execute_result"
    }
   ],
   "source": [
    "in_store['in_store_orders'].describe()"
   ]
  },
  {
   "cell_type": "code",
   "execution_count": 47,
   "metadata": {
    "scrolled": true
   },
   "outputs": [
    {
     "data": {
      "text/plain": [
       "user_id            int64\n",
       "in_store_orders    int64\n",
       "dtype: object"
      ]
     },
     "execution_count": 47,
     "metadata": {},
     "output_type": "execute_result"
    }
   ],
   "source": [
    "in_store.dtypes"
   ]
  },
  {
   "cell_type": "code",
   "execution_count": 52,
   "metadata": {},
   "outputs": [
    {
     "data": {
      "text/plain": [
       "<matplotlib.axes._subplots.AxesSubplot at 0x7f8bfc90e970>"
      ]
     },
     "execution_count": 52,
     "metadata": {},
     "output_type": "execute_result"
    },
    {
     "data": {
      "image/png": "[encoded data removed]",
      "text/plain": [
       "<Figure size 432x288 with 1 Axes>"
      ]
     },
     "metadata": {
      "needs_background": "light"
     },
     "output_type": "display_data"
    }
   ],
   "source": [
    "in_store['in_store_orders'].plot(kind='hist', bins =140, range = [0,200])"
   ]
  },
  {
   "cell_type": "code",
   "execution_count": 53,
   "metadata": {
    "scrolled": true
   },
   "outputs": [
    {
     "data": {
      "text/plain": [
       "[367,\n",
       " 201222,\n",
       " 582,\n",
       " 1029,\n",
       " 1199,\n",
       " 1236,\n",
       " 1264,\n",
       " 1351,\n",
       " 1563,\n",
       " 1638,\n",
       " 1726,\n",
       " 2014,\n",
       " 2305,\n",
       " 2468,\n",
       " 2506,\n",
       " 2614,\n",
       " 2793,\n",
       " 3004,\n",
       " 3183,\n",
       " 3231,\n",
       " 3748,\n",
       " 3968,\n",
       " 4268,\n",
       " 4904,\n",
       " 5217,\n",
       " 5670,\n",
       " 6025,\n",
       " 6665,\n",
       " 7110,\n",
       " 8291,\n",
       " 8629,\n",
       " 8741,\n",
       " 8910,\n",
       " 9004,\n",
       " 9291,\n",
       " 9660,\n",
       " 10305,\n",
       " 11404,\n",
       " 11915,\n",
       " 12852,\n",
       " 13127,\n",
       " 13355,\n",
       " 14204,\n",
       " 14478,\n",
       " 14605,\n",
       " 14681,\n",
       " 15833,\n",
       " 16167,\n",
       " 16194,\n",
       " 16254,\n",
       " 16603,\n",
       " 17581,\n",
       " 17759,\n",
       " 17904,\n",
       " 19106,\n",
       " 19150,\n",
       " 19380,\n",
       " 19844,\n",
       " 19879,\n",
       " 19884,\n",
       " 20453,\n",
       " 203166,\n",
       " 20812,\n",
       " 21321,\n",
       " 21398,\n",
       " 21407,\n",
       " 21420,\n",
       " 21845,\n",
       " 21876,\n",
       " 22154,\n",
       " 22289,\n",
       " 22839,\n",
       " 23963,\n",
       " 24845,\n",
       " 25155,\n",
       " 25231,\n",
       " 25675,\n",
       " 26406,\n",
       " 26672,\n",
       " 203203,\n",
       " 26963,\n",
       " 27119,\n",
       " 27211,\n",
       " 27277,\n",
       " 27542,\n",
       " 27877,\n",
       " 28248,\n",
       " 28791,\n",
       " 28960,\n",
       " 29409,\n",
       " 29590,\n",
       " 30527,\n",
       " 30965,\n",
       " 31164,\n",
       " 31225,\n",
       " 31344,\n",
       " 31523,\n",
       " 31605,\n",
       " 31842,\n",
       " 32253,\n",
       " 32621,\n",
       " 32847,\n",
       " 32889,\n",
       " 33116,\n",
       " 33574,\n",
       " 33598,\n",
       " 33646,\n",
       " 33904,\n",
       " 34162,\n",
       " 203240,\n",
       " 34379,\n",
       " 34760,\n",
       " 35279,\n",
       " 35509,\n",
       " 35583,\n",
       " 35893,\n",
       " 36408,\n",
       " 36409,\n",
       " 36465,\n",
       " 36653,\n",
       " 37093,\n",
       " 37464,\n",
       " 37553,\n",
       " 37724,\n",
       " 37878,\n",
       " 38202,\n",
       " 38445,\n",
       " 38644,\n",
       " 38708,\n",
       " 38808,\n",
       " 39137,\n",
       " 39159,\n",
       " 39342,\n",
       " 39927,\n",
       " 40716,\n",
       " 41077,\n",
       " 41218,\n",
       " 41745,\n",
       " 41878,\n",
       " 41926,\n",
       " 42543,\n",
       " 42798,\n",
       " 43023,\n",
       " 43072,\n",
       " 43642,\n",
       " 43684,\n",
       " 44069,\n",
       " 44074,\n",
       " 44544,\n",
       " 44645,\n",
       " 45206,\n",
       " 45510,\n",
       " 203296,\n",
       " 46412,\n",
       " 46705,\n",
       " 46766,\n",
       " 46982,\n",
       " 47321,\n",
       " 47611,\n",
       " 47659,\n",
       " 47696,\n",
       " 47994,\n",
       " 48247,\n",
       " 48367,\n",
       " 48975,\n",
       " 49309,\n",
       " 49438,\n",
       " 49492,\n",
       " 49542,\n",
       " 49663,\n",
       " 49839,\n",
       " 50328,\n",
       " 50429,\n",
       " 203331,\n",
       " 51137,\n",
       " 51249,\n",
       " 52016,\n",
       " 52067,\n",
       " 52172,\n",
       " 52367,\n",
       " 52448,\n",
       " 52460,\n",
       " 53104,\n",
       " 53245,\n",
       " 53262,\n",
       " 53759,\n",
       " 54075,\n",
       " 54497,\n",
       " 54565,\n",
       " 54997,\n",
       " 55186,\n",
       " 55423,\n",
       " 55560,\n",
       " 56121,\n",
       " 201722,\n",
       " 56416,\n",
       " 56484,\n",
       " 56560,\n",
       " 56676,\n",
       " 56913,\n",
       " 57287,\n",
       " 58007,\n",
       " 58136,\n",
       " 59184,\n",
       " 59823,\n",
       " 60434,\n",
       " 61748,\n",
       " 61823,\n",
       " 62007,\n",
       " 62269,\n",
       " 62619,\n",
       " 63666,\n",
       " 63847,\n",
       " 64680,\n",
       " 64736,\n",
       " 64782,\n",
       " 65381,\n",
       " 66383,\n",
       " 66704,\n",
       " 66740,\n",
       " 66782,\n",
       " 67563,\n",
       " 67581,\n",
       " 67729,\n",
       " 67986,\n",
       " 68097,\n",
       " 68401,\n",
       " 69057,\n",
       " 69134,\n",
       " 69220,\n",
       " 69308,\n",
       " 69400,\n",
       " 69554,\n",
       " 70185,\n",
       " 70206,\n",
       " 70308,\n",
       " 70325,\n",
       " 70347,\n",
       " 70830,\n",
       " 71674,\n",
       " 71716,\n",
       " 71822,\n",
       " 72300,\n",
       " 72695,\n",
       " 72945,\n",
       " 73576,\n",
       " 73711,\n",
       " 74401,\n",
       " 74520,\n",
       " 74840,\n",
       " 74930,\n",
       " 76202,\n",
       " 76211,\n",
       " 76775,\n",
       " 76796,\n",
       " 77109,\n",
       " 77353,\n",
       " 77797,\n",
       " 77901,\n",
       " 78079,\n",
       " 79667,\n",
       " 79834,\n",
       " 80111,\n",
       " 81240,\n",
       " 81417,\n",
       " 82222,\n",
       " 82406,\n",
       " 82611,\n",
       " 82932,\n",
       " 84327,\n",
       " 84427,\n",
       " 84882,\n",
       " 85048,\n",
       " 85146,\n",
       " 203508,\n",
       " 203514,\n",
       " 86136,\n",
       " 86202,\n",
       " 86767,\n",
       " 86877,\n",
       " 87053,\n",
       " 87307,\n",
       " 87443,\n",
       " 87618,\n",
       " 87822,\n",
       " 88120,\n",
       " 88132,\n",
       " 88441,\n",
       " 88464,\n",
       " 89238,\n",
       " 89682,\n",
       " 89792,\n",
       " 90208,\n",
       " 90472,\n",
       " 91182,\n",
       " 91817,\n",
       " 92342,\n",
       " 92816,\n",
       " 93021,\n",
       " 93553,\n",
       " 93798,\n",
       " 94131,\n",
       " 94225,\n",
       " 94906,\n",
       " 94960,\n",
       " 95139,\n",
       " 95440,\n",
       " 95553,\n",
       " 96063,\n",
       " 96064,\n",
       " 96101,\n",
       " 202071,\n",
       " 96595,\n",
       " 203572,\n",
       " 97527,\n",
       " 97623,\n",
       " 97710,\n",
       " 98095,\n",
       " 98417,\n",
       " 98518,\n",
       " 98840,\n",
       " 98842,\n",
       " 99246,\n",
       " 99636,\n",
       " 99804,\n",
       " 99946,\n",
       " 100521,\n",
       " 100552,\n",
       " 100644,\n",
       " 202099,\n",
       " 101632,\n",
       " 101675,\n",
       " 101740,\n",
       " 102358,\n",
       " 102367,\n",
       " 102957,\n",
       " 103157,\n",
       " 103929,\n",
       " 104008,\n",
       " 104344,\n",
       " 104651,\n",
       " 104794,\n",
       " 105347,\n",
       " 105759,\n",
       " 105790,\n",
       " 106202,\n",
       " 106209,\n",
       " 106317,\n",
       " 106423,\n",
       " 106469,\n",
       " 107183,\n",
       " 108651,\n",
       " 108695,\n",
       " 108838,\n",
       " 109016,\n",
       " 109091,\n",
       " 109426,\n",
       " 109808,\n",
       " 110117,\n",
       " 110127,\n",
       " 110175,\n",
       " 110326,\n",
       " 110919,\n",
       " 110934,\n",
       " 110960,\n",
       " 111175,\n",
       " 111529,\n",
       " 111674,\n",
       " 112329,\n",
       " 202208,\n",
       " 112692,\n",
       " 112801,\n",
       " 202213,\n",
       " 112828,\n",
       " 113046,\n",
       " 113298,\n",
       " 113616,\n",
       " 115109,\n",
       " 115418,\n",
       " 202241,\n",
       " 203672,\n",
       " 116853,\n",
       " 117196,\n",
       " 117406,\n",
       " 117451,\n",
       " 117498,\n",
       " 117695,\n",
       " 117766,\n",
       " 118218,\n",
       " 203681,\n",
       " 118700,\n",
       " 119055,\n",
       " 119191,\n",
       " 119360,\n",
       " 119511,\n",
       " 120343,\n",
       " 121195,\n",
       " 121298,\n",
       " 121323,\n",
       " 121432,\n",
       " 202304,\n",
       " 122986,\n",
       " 203712,\n",
       " 124001,\n",
       " 124438,\n",
       " 124724,\n",
       " 124996,\n",
       " 125573,\n",
       " 125801,\n",
       " 125956,\n",
       " 126047,\n",
       " 126076,\n",
       " 126367,\n",
       " 126386,\n",
       " 126906,\n",
       " 127759,\n",
       " 127935,\n",
       " 127960,\n",
       " 128052,\n",
       " 128500,\n",
       " 128569,\n",
       " 128846,\n",
       " 129280,\n",
       " 129932,\n",
       " 130324,\n",
       " 130466,\n",
       " 130580,\n",
       " 130674,\n",
       " 130718,\n",
       " 131126,\n",
       " 131312,\n",
       " 131366,\n",
       " 131816,\n",
       " 131876,\n",
       " 131943,\n",
       " 131957,\n",
       " 132340,\n",
       " 132393,\n",
       " 132409,\n",
       " 132444,\n",
       " 132647,\n",
       " 203759,\n",
       " 132896,\n",
       " 133028,\n",
       " 133342,\n",
       " 133659,\n",
       " 133711,\n",
       " 133748,\n",
       " 133795,\n",
       " 133999,\n",
       " 203768,\n",
       " 134236,\n",
       " 134444,\n",
       " 134521,\n",
       " 135182,\n",
       " 135380,\n",
       " 136161,\n",
       " 136238,\n",
       " 136678,\n",
       " 203794,\n",
       " 137711,\n",
       " 137795,\n",
       " 138253,\n",
       " 139123,\n",
       " 139249,\n",
       " 139264,\n",
       " 139590,\n",
       " 139721,\n",
       " 140162,\n",
       " 140429,\n",
       " 140737,\n",
       " 140867,\n",
       " 141064,\n",
       " 141491,\n",
       " 141724,\n",
       " 142077,\n",
       " 142102,\n",
       " 142230,\n",
       " 142342,\n",
       " 142374,\n",
       " 142533,\n",
       " 142855,\n",
       " 142994,\n",
       " 143220,\n",
       " 143445,\n",
       " 143717,\n",
       " 143866,\n",
       " 143966,\n",
       " 144406,\n",
       " 145223,\n",
       " 145286,\n",
       " 145526,\n",
       " 145612,\n",
       " 145916,\n",
       " 145971,\n",
       " 146081,\n",
       " 146185,\n",
       " 146825,\n",
       " 147445,\n",
       " 147480,\n",
       " 203856,\n",
       " 148125,\n",
       " 148127,\n",
       " 148458,\n",
       " 149159,\n",
       " 149196,\n",
       " 149862,\n",
       " 150374,\n",
       " 150585,\n",
       " 150989,\n",
       " 151030,\n",
       " 151533,\n",
       " 152080,\n",
       " 152360,\n",
       " 152678,\n",
       " 152738,\n",
       " 203880,\n",
       " 153004,\n",
       " 153387,\n",
       " 153590,\n",
       " 153970,\n",
       " 154236,\n",
       " 154767,\n",
       " 155039,\n",
       " 155480,\n",
       " 155967,\n",
       " 156519,\n",
       " 156837,\n",
       " 157068,\n",
       " 157447,\n",
       " 157766,\n",
       " 158018,\n",
       " 158452,\n",
       " 158478,\n",
       " 159059,\n",
       " 159398,\n",
       " 203926,\n",
       " 159580,\n",
       " 160209,\n",
       " 160690,\n",
       " 161243,\n",
       " 162259,\n",
       " 162297,\n",
       " 162694,\n",
       " 162765,\n",
       " 162870,\n",
       " 203951,\n",
       " 164329,\n",
       " 164880,\n",
       " 164985,\n",
       " 165184,\n",
       " 165482,\n",
       " 165907,\n",
       " 166079,\n",
       " 166681,\n",
       " 167317,\n",
       " 167663,\n",
       " 167786,\n",
       " 167953,\n",
       " 168106,\n",
       " 168377,\n",
       " 169224,\n",
       " 169274,\n",
       " 169699,\n",
       " 170055,\n",
       " 170301,\n",
       " 170703,\n",
       " 170969,\n",
       " 172621,\n",
       " 172675,\n",
       " 173136,\n",
       " 173440,\n",
       " 174381,\n",
       " 175061,\n",
       " 175063,\n",
       " 175128,\n",
       " 175140,\n",
       " 175921,\n",
       " 175953,\n",
       " 176203,\n",
       " 176238,\n",
       " 176929,\n",
       " 177285,\n",
       " 177322,\n",
       " 177905,\n",
       " 177981,\n",
       " 178560,\n",
       " 179584,\n",
       " 179619,\n",
       " 179796,\n",
       " 180802,\n",
       " 181739,\n",
       " 182056,\n",
       " 182065,\n",
       " 182193,\n",
       " 182299,\n",
       " 182410,\n",
       " 183052,\n",
       " 183308,\n",
       " 183595,\n",
       " 183950,\n",
       " 183958,\n",
       " 184238,\n",
       " 184289,\n",
       " 184460,\n",
       " 184769,\n",
       " 184958,\n",
       " 185526,\n",
       " 185630,\n",
       " 186449,\n",
       " 186501,\n",
       " 187090,\n",
       " 187304,\n",
       " 187425,\n",
       " 187523,\n",
       " 187819,\n",
       " 187824,\n",
       " 188304,\n",
       " 188459,\n",
       " 188589,\n",
       " 189127,\n",
       " 189261,\n",
       " 189634,\n",
       " 189828,\n",
       " 202931,\n",
       " 190178,\n",
       " 190564,\n",
       " 190732,\n",
       " 190934,\n",
       " 191359,\n",
       " 191410,\n",
       " 191559,\n",
       " 191811,\n",
       " 191896,\n",
       " 191987,\n",
       " 192125,\n",
       " 192376,\n",
       " 193435,\n",
       " 195386,\n",
       " 195529,\n",
       " 195976,\n",
       " 196255,\n",
       " 197085,\n",
       " 197396,\n",
       " 198478,\n",
       " 198728,\n",
       " 198946,\n",
       " 199097,\n",
       " 199951,\n",
       " 200223,\n",
       " 200934]"
      ]
     },
     "execution_count": 53,
     "metadata": {},
     "output_type": "execute_result"
    }
   ],
   "source": [
    "in_store.loc[~mobile['user_id'].isin(users['userID']), 'user_id'].tolist()"
   ]
  },
  {
   "cell_type": "markdown",
   "metadata": {},
   "source": [
    "## DataFrame manipulation"
   ]
  },
  {
   "cell_type": "code",
   "execution_count": 54,
   "metadata": {},
   "outputs": [],
   "source": [
    "users.rename(columns = {'userID':'user_id'}, inplace = True)"
   ]
  },
  {
   "cell_type": "code",
   "execution_count": 55,
   "metadata": {},
   "outputs": [
    {
     "data": {
      "text/html": [
       "<div>\n",
       "<style scoped>\n",
       "    .dataframe tbody tr th:only-of-type {\n",
       "        vertical-align: middle;\n",
       "    }\n",
       "\n",
       "    .dataframe tbody tr th {\n",
       "        vertical-align: top;\n",
       "    }\n",
       "\n",
       "    .dataframe thead th {\n",
       "        text-align: right;\n",
       "    }\n",
       "</style>\n",
       "<table border=\"1\" class=\"dataframe\">\n",
       "  <thead>\n",
       "    <tr style=\"text-align: right;\">\n",
       "      <th></th>\n",
       "      <th>user_id</th>\n",
       "      <th>is_subscriber</th>\n",
       "    </tr>\n",
       "  </thead>\n",
       "  <tbody>\n",
       "    <tr>\n",
       "      <th>0</th>\n",
       "      <td>1</td>\n",
       "      <td>No</td>\n",
       "    </tr>\n",
       "    <tr>\n",
       "      <th>1</th>\n",
       "      <td>2</td>\n",
       "      <td>No</td>\n",
       "    </tr>\n",
       "    <tr>\n",
       "      <th>2</th>\n",
       "      <td>3</td>\n",
       "      <td>No</td>\n",
       "    </tr>\n",
       "  </tbody>\n",
       "</table>\n",
       "</div>"
      ],
      "text/plain": [
       "   user_id is_subscriber\n",
       "0        1            No\n",
       "1        2            No\n",
       "2        3            No"
      ]
     },
     "execution_count": 55,
     "metadata": {},
     "output_type": "execute_result"
    }
   ],
   "source": [
    "users.head(3)"
   ]
  },
  {
   "cell_type": "code",
   "execution_count": 59,
   "metadata": {},
   "outputs": [],
   "source": [
    "users['user_category'] = ['Premium' if i=='Yes' else 'Free' for i in users['is_subscriber']]\n",
    "users.drop(columns = 'is_subscriber', inplace = True)"
   ]
  },
  {
   "cell_type": "code",
   "execution_count": 60,
   "metadata": {},
   "outputs": [
    {
     "data": {
      "text/html": [
       "<div>\n",
       "<style scoped>\n",
       "    .dataframe tbody tr th:only-of-type {\n",
       "        vertical-align: middle;\n",
       "    }\n",
       "\n",
       "    .dataframe tbody tr th {\n",
       "        vertical-align: top;\n",
       "    }\n",
       "\n",
       "    .dataframe thead th {\n",
       "        text-align: right;\n",
       "    }\n",
       "</style>\n",
       "<table border=\"1\" class=\"dataframe\">\n",
       "  <thead>\n",
       "    <tr style=\"text-align: right;\">\n",
       "      <th></th>\n",
       "      <th>user_id</th>\n",
       "      <th>user_category</th>\n",
       "    </tr>\n",
       "  </thead>\n",
       "  <tbody>\n",
       "    <tr>\n",
       "      <th>201214</th>\n",
       "      <td>201215</td>\n",
       "      <td>Free</td>\n",
       "    </tr>\n",
       "    <tr>\n",
       "      <th>201215</th>\n",
       "      <td>201216</td>\n",
       "      <td>Free</td>\n",
       "    </tr>\n",
       "    <tr>\n",
       "      <th>201216</th>\n",
       "      <td>201217</td>\n",
       "      <td>Free</td>\n",
       "    </tr>\n",
       "  </tbody>\n",
       "</table>\n",
       "</div>"
      ],
      "text/plain": [
       "        user_id user_category\n",
       "201214   201215          Free\n",
       "201215   201216          Free\n",
       "201216   201217          Free"
      ]
     },
     "execution_count": 60,
     "metadata": {},
     "output_type": "execute_result"
    }
   ],
   "source": [
    "users.tail(3)"
   ]
  },
  {
   "cell_type": "code",
   "execution_count": 62,
   "metadata": {},
   "outputs": [
    {
     "data": {
      "text/plain": [
       "Free       199633\n",
       "Premium      1584\n",
       "Name: user_category, dtype: int64"
      ]
     },
     "execution_count": 62,
     "metadata": {},
     "output_type": "execute_result"
    }
   ],
   "source": [
    "users['user_category'].value_counts()"
   ]
  },
  {
   "cell_type": "code",
   "execution_count": 86,
   "metadata": {},
   "outputs": [
    {
     "data": {
      "text/html": [
       "<div>\n",
       "<style scoped>\n",
       "    .dataframe tbody tr th:only-of-type {\n",
       "        vertical-align: middle;\n",
       "    }\n",
       "\n",
       "    .dataframe tbody tr th {\n",
       "        vertical-align: top;\n",
       "    }\n",
       "\n",
       "    .dataframe thead th {\n",
       "        text-align: right;\n",
       "    }\n",
       "</style>\n",
       "<table border=\"1\" class=\"dataframe\">\n",
       "  <thead>\n",
       "    <tr style=\"text-align: right;\">\n",
       "      <th></th>\n",
       "      <th>user_id</th>\n",
       "      <th>user_category</th>\n",
       "      <th>mobile_orders</th>\n",
       "      <th>in_store_orders</th>\n",
       "    </tr>\n",
       "  </thead>\n",
       "  <tbody>\n",
       "    <tr>\n",
       "      <th>0</th>\n",
       "      <td>1</td>\n",
       "      <td>Free</td>\n",
       "      <td>NaN</td>\n",
       "      <td>NaN</td>\n",
       "    </tr>\n",
       "    <tr>\n",
       "      <th>1</th>\n",
       "      <td>2</td>\n",
       "      <td>Free</td>\n",
       "      <td>5.0</td>\n",
       "      <td>NaN</td>\n",
       "    </tr>\n",
       "    <tr>\n",
       "      <th>2</th>\n",
       "      <td>3</td>\n",
       "      <td>Free</td>\n",
       "      <td>NaN</td>\n",
       "      <td>NaN</td>\n",
       "    </tr>\n",
       "    <tr>\n",
       "      <th>3</th>\n",
       "      <td>4</td>\n",
       "      <td>Free</td>\n",
       "      <td>2.0</td>\n",
       "      <td>NaN</td>\n",
       "    </tr>\n",
       "    <tr>\n",
       "      <th>4</th>\n",
       "      <td>5</td>\n",
       "      <td>Free</td>\n",
       "      <td>5.0</td>\n",
       "      <td>26.0</td>\n",
       "    </tr>\n",
       "  </tbody>\n",
       "</table>\n",
       "</div>"
      ],
      "text/plain": [
       "   user_id user_category  mobile_orders  in_store_orders\n",
       "0        1          Free            NaN              NaN\n",
       "1        2          Free            5.0              NaN\n",
       "2        3          Free            NaN              NaN\n",
       "3        4          Free            2.0              NaN\n",
       "4        5          Free            5.0             26.0"
      ]
     },
     "execution_count": 86,
     "metadata": {},
     "output_type": "execute_result"
    }
   ],
   "source": [
    "orders = pd.merge(users, mobile, how='left', on='user_id').merge(in_store, how='left', on='user_id')\n",
    "orders.head(5)"
   ]
  },
  {
   "cell_type": "code",
   "execution_count": 87,
   "metadata": {},
   "outputs": [
    {
     "data": {
      "text/plain": [
       "user_id                 0\n",
       "user_category           0\n",
       "mobile_orders       61354\n",
       "in_store_orders    149484\n",
       "dtype: int64"
      ]
     },
     "execution_count": 87,
     "metadata": {},
     "output_type": "execute_result"
    }
   ],
   "source": [
    "orders.isna().sum()"
   ]
  },
  {
   "cell_type": "code",
   "execution_count": 88,
   "metadata": {},
   "outputs": [
    {
     "data": {
      "text/html": [
       "<div>\n",
       "<style scoped>\n",
       "    .dataframe tbody tr th:only-of-type {\n",
       "        vertical-align: middle;\n",
       "    }\n",
       "\n",
       "    .dataframe tbody tr th {\n",
       "        vertical-align: top;\n",
       "    }\n",
       "\n",
       "    .dataframe thead th {\n",
       "        text-align: right;\n",
       "    }\n",
       "</style>\n",
       "<table border=\"1\" class=\"dataframe\">\n",
       "  <thead>\n",
       "    <tr style=\"text-align: right;\">\n",
       "      <th></th>\n",
       "      <th>user_id</th>\n",
       "      <th>user_category</th>\n",
       "      <th>mobile_orders</th>\n",
       "      <th>in_store_orders</th>\n",
       "    </tr>\n",
       "  </thead>\n",
       "  <tbody>\n",
       "    <tr>\n",
       "      <th>0</th>\n",
       "      <td>1</td>\n",
       "      <td>Free</td>\n",
       "      <td>0.0</td>\n",
       "      <td>0.0</td>\n",
       "    </tr>\n",
       "    <tr>\n",
       "      <th>1</th>\n",
       "      <td>2</td>\n",
       "      <td>Free</td>\n",
       "      <td>5.0</td>\n",
       "      <td>0.0</td>\n",
       "    </tr>\n",
       "    <tr>\n",
       "      <th>2</th>\n",
       "      <td>3</td>\n",
       "      <td>Free</td>\n",
       "      <td>0.0</td>\n",
       "      <td>0.0</td>\n",
       "    </tr>\n",
       "    <tr>\n",
       "      <th>3</th>\n",
       "      <td>4</td>\n",
       "      <td>Free</td>\n",
       "      <td>2.0</td>\n",
       "      <td>0.0</td>\n",
       "    </tr>\n",
       "    <tr>\n",
       "      <th>4</th>\n",
       "      <td>5</td>\n",
       "      <td>Free</td>\n",
       "      <td>5.0</td>\n",
       "      <td>26.0</td>\n",
       "    </tr>\n",
       "  </tbody>\n",
       "</table>\n",
       "</div>"
      ],
      "text/plain": [
       "   user_id user_category  mobile_orders  in_store_orders\n",
       "0        1          Free            0.0              0.0\n",
       "1        2          Free            5.0              0.0\n",
       "2        3          Free            0.0              0.0\n",
       "3        4          Free            2.0              0.0\n",
       "4        5          Free            5.0             26.0"
      ]
     },
     "execution_count": 88,
     "metadata": {},
     "output_type": "execute_result"
    }
   ],
   "source": [
    "for col in orders.columns[2:]:\n",
    "    orders[col] = orders[col].fillna(0)\n",
    "orders.head()"
   ]
  },
  {
   "cell_type": "code",
   "execution_count": 71,
   "metadata": {},
   "outputs": [
    {
     "data": {
      "text/plain": [
       "user_id              int64\n",
       "user_category       object\n",
       "mobile_orders      float64\n",
       "in_store_orders    float64\n",
       "dtype: object"
      ]
     },
     "execution_count": 71,
     "metadata": {},
     "output_type": "execute_result"
    }
   ],
   "source": [
    "orders.dtypes"
   ]
  },
  {
   "cell_type": "code",
   "execution_count": 89,
   "metadata": {},
   "outputs": [
    {
     "data": {
      "text/html": [
       "<div>\n",
       "<style scoped>\n",
       "    .dataframe tbody tr th:only-of-type {\n",
       "        vertical-align: middle;\n",
       "    }\n",
       "\n",
       "    .dataframe tbody tr th {\n",
       "        vertical-align: top;\n",
       "    }\n",
       "\n",
       "    .dataframe thead th {\n",
       "        text-align: right;\n",
       "    }\n",
       "</style>\n",
       "<table border=\"1\" class=\"dataframe\">\n",
       "  <thead>\n",
       "    <tr style=\"text-align: right;\">\n",
       "      <th></th>\n",
       "      <th>user_id</th>\n",
       "      <th>user_category</th>\n",
       "      <th>mobile_orders</th>\n",
       "      <th>in_store_orders</th>\n",
       "      <th>total_orders</th>\n",
       "    </tr>\n",
       "  </thead>\n",
       "  <tbody>\n",
       "    <tr>\n",
       "      <th>0</th>\n",
       "      <td>1</td>\n",
       "      <td>Free</td>\n",
       "      <td>0.0</td>\n",
       "      <td>0.0</td>\n",
       "      <td>0</td>\n",
       "    </tr>\n",
       "    <tr>\n",
       "      <th>1</th>\n",
       "      <td>2</td>\n",
       "      <td>Free</td>\n",
       "      <td>5.0</td>\n",
       "      <td>0.0</td>\n",
       "      <td>5</td>\n",
       "    </tr>\n",
       "    <tr>\n",
       "      <th>2</th>\n",
       "      <td>3</td>\n",
       "      <td>Free</td>\n",
       "      <td>0.0</td>\n",
       "      <td>0.0</td>\n",
       "      <td>0</td>\n",
       "    </tr>\n",
       "    <tr>\n",
       "      <th>3</th>\n",
       "      <td>4</td>\n",
       "      <td>Free</td>\n",
       "      <td>2.0</td>\n",
       "      <td>0.0</td>\n",
       "      <td>2</td>\n",
       "    </tr>\n",
       "    <tr>\n",
       "      <th>4</th>\n",
       "      <td>5</td>\n",
       "      <td>Free</td>\n",
       "      <td>5.0</td>\n",
       "      <td>26.0</td>\n",
       "      <td>31</td>\n",
       "    </tr>\n",
       "  </tbody>\n",
       "</table>\n",
       "</div>"
      ],
      "text/plain": [
       "   user_id user_category  mobile_orders  in_store_orders  total_orders\n",
       "0        1          Free            0.0              0.0             0\n",
       "1        2          Free            5.0              0.0             5\n",
       "2        3          Free            0.0              0.0             0\n",
       "3        4          Free            2.0              0.0             2\n",
       "4        5          Free            5.0             26.0            31"
      ]
     },
     "execution_count": 89,
     "metadata": {},
     "output_type": "execute_result"
    }
   ],
   "source": [
    "orders['total_orders'] = orders['mobile_orders'] + orders['in_store_orders']\n",
    "orders['total_orders'] = orders['total_orders'].astype(int)\n",
    "orders.head(5)"
   ]
  },
  {
   "cell_type": "code",
   "execution_count": 90,
   "metadata": {},
   "outputs": [],
   "source": [
    "orders.drop(columns = ['mobile_orders','in_store_orders'], inplace= True)"
   ]
  },
  {
   "cell_type": "code",
   "execution_count": 91,
   "metadata": {},
   "outputs": [
    {
     "data": {
      "text/html": [
       "<div>\n",
       "<style scoped>\n",
       "    .dataframe tbody tr th:only-of-type {\n",
       "        vertical-align: middle;\n",
       "    }\n",
       "\n",
       "    .dataframe tbody tr th {\n",
       "        vertical-align: top;\n",
       "    }\n",
       "\n",
       "    .dataframe thead th {\n",
       "        text-align: right;\n",
       "    }\n",
       "</style>\n",
       "<table border=\"1\" class=\"dataframe\">\n",
       "  <thead>\n",
       "    <tr style=\"text-align: right;\">\n",
       "      <th></th>\n",
       "      <th>user_id</th>\n",
       "      <th>user_category</th>\n",
       "      <th>total_orders</th>\n",
       "    </tr>\n",
       "  </thead>\n",
       "  <tbody>\n",
       "    <tr>\n",
       "      <th>0</th>\n",
       "      <td>1</td>\n",
       "      <td>Free</td>\n",
       "      <td>0</td>\n",
       "    </tr>\n",
       "    <tr>\n",
       "      <th>1</th>\n",
       "      <td>2</td>\n",
       "      <td>Free</td>\n",
       "      <td>5</td>\n",
       "    </tr>\n",
       "    <tr>\n",
       "      <th>2</th>\n",
       "      <td>3</td>\n",
       "      <td>Free</td>\n",
       "      <td>0</td>\n",
       "    </tr>\n",
       "    <tr>\n",
       "      <th>3</th>\n",
       "      <td>4</td>\n",
       "      <td>Free</td>\n",
       "      <td>2</td>\n",
       "    </tr>\n",
       "    <tr>\n",
       "      <th>4</th>\n",
       "      <td>5</td>\n",
       "      <td>Free</td>\n",
       "      <td>31</td>\n",
       "    </tr>\n",
       "  </tbody>\n",
       "</table>\n",
       "</div>"
      ],
      "text/plain": [
       "   user_id user_category  total_orders\n",
       "0        1          Free             0\n",
       "1        2          Free             5\n",
       "2        3          Free             0\n",
       "3        4          Free             2\n",
       "4        5          Free            31"
      ]
     },
     "execution_count": 91,
     "metadata": {},
     "output_type": "execute_result"
    }
   ],
   "source": [
    "orders.head(5)"
   ]
  },
  {
   "cell_type": "code",
   "execution_count": 94,
   "metadata": {},
   "outputs": [
    {
     "data": {
      "text/plain": [
       "count    201217.000000\n",
       "mean         12.952131\n",
       "std          46.347289\n",
       "min           0.000000\n",
       "25%           1.000000\n",
       "50%           3.000000\n",
       "75%           9.000000\n",
       "max        2279.000000\n",
       "Name: total_orders, dtype: float64"
      ]
     },
     "execution_count": 94,
     "metadata": {},
     "output_type": "execute_result"
    }
   ],
   "source": [
    "orders['total_orders'].describe()"
   ]
  },
  {
   "cell_type": "code",
   "execution_count": 96,
   "metadata": {},
   "outputs": [
    {
     "data": {
      "text/plain": [
       "150055"
      ]
     },
     "execution_count": 96,
     "metadata": {},
     "output_type": "execute_result"
    }
   ],
   "source": [
    "orders[(orders['user_category']=='Free') & (orders['total_orders']>=1)].shape[0]"
   ]
  },
  {
   "cell_type": "code",
   "execution_count": 108,
   "metadata": {},
   "outputs": [
    {
     "data": {
      "text/plain": [
       "75.16542856141018"
      ]
     },
     "execution_count": 108,
     "metadata": {},
     "output_type": "execute_result"
    }
   ],
   "source": [
    "## we can play around to check the difference between free and premium users \n",
    "cat = 'Free'\n",
    "min_orders = 1\n",
    "\n",
    "100* orders[(orders['user_category']== cat) & (orders['total_orders']>= min_orders)].shape[0]/\\\n",
    "(orders['user_category']== cat).sum()"
   ]
  },
  {
   "cell_type": "code",
   "execution_count": 116,
   "metadata": {},
   "outputs": [],
   "source": [
    "order_bins = [0,1,2,3,4,5,6,7,8,10,12,15,20,25,30,35,40,45,50,55,60,70,80,90,100,120,\n",
    "             140,160,180,200,250,300,350,400,450,500,550,600,700,800,900,1000,1100]"
   ]
  },
  {
   "cell_type": "code",
   "execution_count": 117,
   "metadata": {},
   "outputs": [
    {
     "data": {
      "text/plain": [
       "43"
      ]
     },
     "execution_count": 117,
     "metadata": {},
     "output_type": "execute_result"
    }
   ],
   "source": [
    "len(order_bins)"
   ]
  },
  {
   "cell_type": "code",
   "execution_count": 118,
   "metadata": {},
   "outputs": [
    {
     "data": {
      "text/html": [
       "<div>\n",
       "<style scoped>\n",
       "    .dataframe tbody tr th:only-of-type {\n",
       "        vertical-align: middle;\n",
       "    }\n",
       "\n",
       "    .dataframe tbody tr th {\n",
       "        vertical-align: top;\n",
       "    }\n",
       "\n",
       "    .dataframe thead th {\n",
       "        text-align: right;\n",
       "    }\n",
       "</style>\n",
       "<table border=\"1\" class=\"dataframe\">\n",
       "  <thead>\n",
       "    <tr style=\"text-align: right;\">\n",
       "      <th></th>\n",
       "      <th>user_id</th>\n",
       "      <th>user_category</th>\n",
       "      <th>total_orders</th>\n",
       "      <th>orders&gt;=0</th>\n",
       "      <th>orders&gt;=1</th>\n",
       "      <th>orders&gt;=2</th>\n",
       "      <th>orders&gt;=3</th>\n",
       "      <th>orders&gt;=4</th>\n",
       "      <th>orders&gt;=5</th>\n",
       "      <th>orders&gt;=6</th>\n",
       "      <th>...</th>\n",
       "      <th>orders&gt;=400</th>\n",
       "      <th>orders&gt;=450</th>\n",
       "      <th>orders&gt;=500</th>\n",
       "      <th>orders&gt;=550</th>\n",
       "      <th>orders&gt;=600</th>\n",
       "      <th>orders&gt;=700</th>\n",
       "      <th>orders&gt;=800</th>\n",
       "      <th>orders&gt;=900</th>\n",
       "      <th>orders&gt;=1000</th>\n",
       "      <th>orders&gt;=1100</th>\n",
       "    </tr>\n",
       "  </thead>\n",
       "  <tbody>\n",
       "    <tr>\n",
       "      <th>0</th>\n",
       "      <td>1</td>\n",
       "      <td>Free</td>\n",
       "      <td>0</td>\n",
       "      <td>1</td>\n",
       "      <td>0</td>\n",
       "      <td>0</td>\n",
       "      <td>0</td>\n",
       "      <td>0</td>\n",
       "      <td>0</td>\n",
       "      <td>0</td>\n",
       "      <td>...</td>\n",
       "      <td>0</td>\n",
       "      <td>0</td>\n",
       "      <td>0</td>\n",
       "      <td>0</td>\n",
       "      <td>0</td>\n",
       "      <td>0</td>\n",
       "      <td>0</td>\n",
       "      <td>0</td>\n",
       "      <td>0</td>\n",
       "      <td>0</td>\n",
       "    </tr>\n",
       "    <tr>\n",
       "      <th>1</th>\n",
       "      <td>2</td>\n",
       "      <td>Free</td>\n",
       "      <td>5</td>\n",
       "      <td>1</td>\n",
       "      <td>1</td>\n",
       "      <td>1</td>\n",
       "      <td>1</td>\n",
       "      <td>1</td>\n",
       "      <td>1</td>\n",
       "      <td>0</td>\n",
       "      <td>...</td>\n",
       "      <td>0</td>\n",
       "      <td>0</td>\n",
       "      <td>0</td>\n",
       "      <td>0</td>\n",
       "      <td>0</td>\n",
       "      <td>0</td>\n",
       "      <td>0</td>\n",
       "      <td>0</td>\n",
       "      <td>0</td>\n",
       "      <td>0</td>\n",
       "    </tr>\n",
       "    <tr>\n",
       "      <th>2</th>\n",
       "      <td>3</td>\n",
       "      <td>Free</td>\n",
       "      <td>0</td>\n",
       "      <td>1</td>\n",
       "      <td>0</td>\n",
       "      <td>0</td>\n",
       "      <td>0</td>\n",
       "      <td>0</td>\n",
       "      <td>0</td>\n",
       "      <td>0</td>\n",
       "      <td>...</td>\n",
       "      <td>0</td>\n",
       "      <td>0</td>\n",
       "      <td>0</td>\n",
       "      <td>0</td>\n",
       "      <td>0</td>\n",
       "      <td>0</td>\n",
       "      <td>0</td>\n",
       "      <td>0</td>\n",
       "      <td>0</td>\n",
       "      <td>0</td>\n",
       "    </tr>\n",
       "    <tr>\n",
       "      <th>3</th>\n",
       "      <td>4</td>\n",
       "      <td>Free</td>\n",
       "      <td>2</td>\n",
       "      <td>1</td>\n",
       "      <td>1</td>\n",
       "      <td>1</td>\n",
       "      <td>0</td>\n",
       "      <td>0</td>\n",
       "      <td>0</td>\n",
       "      <td>0</td>\n",
       "      <td>...</td>\n",
       "      <td>0</td>\n",
       "      <td>0</td>\n",
       "      <td>0</td>\n",
       "      <td>0</td>\n",
       "      <td>0</td>\n",
       "      <td>0</td>\n",
       "      <td>0</td>\n",
       "      <td>0</td>\n",
       "      <td>0</td>\n",
       "      <td>0</td>\n",
       "    </tr>\n",
       "    <tr>\n",
       "      <th>4</th>\n",
       "      <td>5</td>\n",
       "      <td>Free</td>\n",
       "      <td>31</td>\n",
       "      <td>1</td>\n",
       "      <td>1</td>\n",
       "      <td>1</td>\n",
       "      <td>1</td>\n",
       "      <td>1</td>\n",
       "      <td>1</td>\n",
       "      <td>1</td>\n",
       "      <td>...</td>\n",
       "      <td>0</td>\n",
       "      <td>0</td>\n",
       "      <td>0</td>\n",
       "      <td>0</td>\n",
       "      <td>0</td>\n",
       "      <td>0</td>\n",
       "      <td>0</td>\n",
       "      <td>0</td>\n",
       "      <td>0</td>\n",
       "      <td>0</td>\n",
       "    </tr>\n",
       "  </tbody>\n",
       "</table>\n",
       "<p>5 rows × 46 columns</p>\n",
       "</div>"
      ],
      "text/plain": [
       "   user_id user_category  total_orders  orders>=0  orders>=1  orders>=2  \\\n",
       "0        1          Free             0          1          0          0   \n",
       "1        2          Free             5          1          1          1   \n",
       "2        3          Free             0          1          0          0   \n",
       "3        4          Free             2          1          1          1   \n",
       "4        5          Free            31          1          1          1   \n",
       "\n",
       "   orders>=3  orders>=4  orders>=5  orders>=6  ...  orders>=400  orders>=450  \\\n",
       "0          0          0          0          0  ...            0            0   \n",
       "1          1          1          1          0  ...            0            0   \n",
       "2          0          0          0          0  ...            0            0   \n",
       "3          0          0          0          0  ...            0            0   \n",
       "4          1          1          1          1  ...            0            0   \n",
       "\n",
       "   orders>=500  orders>=550  orders>=600  orders>=700  orders>=800  \\\n",
       "0            0            0            0            0            0   \n",
       "1            0            0            0            0            0   \n",
       "2            0            0            0            0            0   \n",
       "3            0            0            0            0            0   \n",
       "4            0            0            0            0            0   \n",
       "\n",
       "   orders>=900  orders>=1000  orders>=1100  \n",
       "0            0             0             0  \n",
       "1            0             0             0  \n",
       "2            0             0             0  \n",
       "3            0             0             0  \n",
       "4            0             0             0  \n",
       "\n",
       "[5 rows x 46 columns]"
      ]
     },
     "execution_count": 118,
     "metadata": {},
     "output_type": "execute_result"
    }
   ],
   "source": [
    "for order_bin in order_bins:\n",
    "    orders['orders>='+str(order_bin)] =[1 if i>=order_bin else 0 for i in orders['total_orders']]\n",
    "orders.head(5)"
   ]
  },
  {
   "cell_type": "code",
   "execution_count": 119,
   "metadata": {},
   "outputs": [
    {
     "data": {
      "text/html": [
       "<div>\n",
       "<style scoped>\n",
       "    .dataframe tbody tr th:only-of-type {\n",
       "        vertical-align: middle;\n",
       "    }\n",
       "\n",
       "    .dataframe tbody tr th {\n",
       "        vertical-align: top;\n",
       "    }\n",
       "\n",
       "    .dataframe thead th {\n",
       "        text-align: right;\n",
       "    }\n",
       "</style>\n",
       "<table border=\"1\" class=\"dataframe\">\n",
       "  <thead>\n",
       "    <tr style=\"text-align: right;\">\n",
       "      <th></th>\n",
       "      <th>user_id</th>\n",
       "      <th>user_category</th>\n",
       "      <th>total_orders</th>\n",
       "      <th>orders&gt;=0</th>\n",
       "      <th>orders&gt;=1</th>\n",
       "      <th>orders&gt;=2</th>\n",
       "      <th>orders&gt;=3</th>\n",
       "      <th>orders&gt;=4</th>\n",
       "      <th>orders&gt;=5</th>\n",
       "      <th>orders&gt;=6</th>\n",
       "      <th>orders&gt;=7</th>\n",
       "      <th>orders&gt;=8</th>\n",
       "      <th>orders&gt;=10</th>\n",
       "      <th>orders&gt;=12</th>\n",
       "      <th>orders&gt;=15</th>\n",
       "      <th>orders&gt;=20</th>\n",
       "      <th>orders&gt;=25</th>\n",
       "      <th>orders&gt;=30</th>\n",
       "      <th>orders&gt;=35</th>\n",
       "      <th>orders&gt;=40</th>\n",
       "      <th>orders&gt;=45</th>\n",
       "      <th>orders&gt;=50</th>\n",
       "      <th>orders&gt;=55</th>\n",
       "      <th>orders&gt;=60</th>\n",
       "      <th>orders&gt;=70</th>\n",
       "      <th>orders&gt;=80</th>\n",
       "      <th>orders&gt;=90</th>\n",
       "      <th>orders&gt;=100</th>\n",
       "      <th>orders&gt;=120</th>\n",
       "      <th>orders&gt;=140</th>\n",
       "      <th>orders&gt;=160</th>\n",
       "      <th>orders&gt;=180</th>\n",
       "      <th>orders&gt;=200</th>\n",
       "      <th>orders&gt;=250</th>\n",
       "      <th>orders&gt;=300</th>\n",
       "      <th>orders&gt;=350</th>\n",
       "      <th>orders&gt;=400</th>\n",
       "      <th>orders&gt;=450</th>\n",
       "      <th>orders&gt;=500</th>\n",
       "      <th>orders&gt;=550</th>\n",
       "      <th>orders&gt;=600</th>\n",
       "      <th>orders&gt;=700</th>\n",
       "      <th>orders&gt;=800</th>\n",
       "      <th>orders&gt;=900</th>\n",
       "      <th>orders&gt;=1000</th>\n",
       "      <th>orders&gt;=1100</th>\n",
       "    </tr>\n",
       "  </thead>\n",
       "  <tbody>\n",
       "    <tr>\n",
       "      <th>0</th>\n",
       "      <td>1</td>\n",
       "      <td>Free</td>\n",
       "      <td>0</td>\n",
       "      <td>1</td>\n",
       "      <td>0</td>\n",
       "      <td>0</td>\n",
       "      <td>0</td>\n",
       "      <td>0</td>\n",
       "      <td>0</td>\n",
       "      <td>0</td>\n",
       "      <td>0</td>\n",
       "      <td>0</td>\n",
       "      <td>0</td>\n",
       "      <td>0</td>\n",
       "      <td>0</td>\n",
       "      <td>0</td>\n",
       "      <td>0</td>\n",
       "      <td>0</td>\n",
       "      <td>0</td>\n",
       "      <td>0</td>\n",
       "      <td>0</td>\n",
       "      <td>0</td>\n",
       "      <td>0</td>\n",
       "      <td>0</td>\n",
       "      <td>0</td>\n",
       "      <td>0</td>\n",
       "      <td>0</td>\n",
       "      <td>0</td>\n",
       "      <td>0</td>\n",
       "      <td>0</td>\n",
       "      <td>0</td>\n",
       "      <td>0</td>\n",
       "      <td>0</td>\n",
       "      <td>0</td>\n",
       "      <td>0</td>\n",
       "      <td>0</td>\n",
       "      <td>0</td>\n",
       "      <td>0</td>\n",
       "      <td>0</td>\n",
       "      <td>0</td>\n",
       "      <td>0</td>\n",
       "      <td>0</td>\n",
       "      <td>0</td>\n",
       "      <td>0</td>\n",
       "      <td>0</td>\n",
       "      <td>0</td>\n",
       "    </tr>\n",
       "    <tr>\n",
       "      <th>1</th>\n",
       "      <td>2</td>\n",
       "      <td>Free</td>\n",
       "      <td>5</td>\n",
       "      <td>1</td>\n",
       "      <td>1</td>\n",
       "      <td>1</td>\n",
       "      <td>1</td>\n",
       "      <td>1</td>\n",
       "      <td>1</td>\n",
       "      <td>0</td>\n",
       "      <td>0</td>\n",
       "      <td>0</td>\n",
       "      <td>0</td>\n",
       "      <td>0</td>\n",
       "      <td>0</td>\n",
       "      <td>0</td>\n",
       "      <td>0</td>\n",
       "      <td>0</td>\n",
       "      <td>0</td>\n",
       "      <td>0</td>\n",
       "      <td>0</td>\n",
       "      <td>0</td>\n",
       "      <td>0</td>\n",
       "      <td>0</td>\n",
       "      <td>0</td>\n",
       "      <td>0</td>\n",
       "      <td>0</td>\n",
       "      <td>0</td>\n",
       "      <td>0</td>\n",
       "      <td>0</td>\n",
       "      <td>0</td>\n",
       "      <td>0</td>\n",
       "      <td>0</td>\n",
       "      <td>0</td>\n",
       "      <td>0</td>\n",
       "      <td>0</td>\n",
       "      <td>0</td>\n",
       "      <td>0</td>\n",
       "      <td>0</td>\n",
       "      <td>0</td>\n",
       "      <td>0</td>\n",
       "      <td>0</td>\n",
       "      <td>0</td>\n",
       "      <td>0</td>\n",
       "      <td>0</td>\n",
       "      <td>0</td>\n",
       "    </tr>\n",
       "    <tr>\n",
       "      <th>2</th>\n",
       "      <td>3</td>\n",
       "      <td>Free</td>\n",
       "      <td>0</td>\n",
       "      <td>1</td>\n",
       "      <td>0</td>\n",
       "      <td>0</td>\n",
       "      <td>0</td>\n",
       "      <td>0</td>\n",
       "      <td>0</td>\n",
       "      <td>0</td>\n",
       "      <td>0</td>\n",
       "      <td>0</td>\n",
       "      <td>0</td>\n",
       "      <td>0</td>\n",
       "      <td>0</td>\n",
       "      <td>0</td>\n",
       "      <td>0</td>\n",
       "      <td>0</td>\n",
       "      <td>0</td>\n",
       "      <td>0</td>\n",
       "      <td>0</td>\n",
       "      <td>0</td>\n",
       "      <td>0</td>\n",
       "      <td>0</td>\n",
       "      <td>0</td>\n",
       "      <td>0</td>\n",
       "      <td>0</td>\n",
       "      <td>0</td>\n",
       "      <td>0</td>\n",
       "      <td>0</td>\n",
       "      <td>0</td>\n",
       "      <td>0</td>\n",
       "      <td>0</td>\n",
       "      <td>0</td>\n",
       "      <td>0</td>\n",
       "      <td>0</td>\n",
       "      <td>0</td>\n",
       "      <td>0</td>\n",
       "      <td>0</td>\n",
       "      <td>0</td>\n",
       "      <td>0</td>\n",
       "      <td>0</td>\n",
       "      <td>0</td>\n",
       "      <td>0</td>\n",
       "      <td>0</td>\n",
       "      <td>0</td>\n",
       "    </tr>\n",
       "    <tr>\n",
       "      <th>3</th>\n",
       "      <td>4</td>\n",
       "      <td>Free</td>\n",
       "      <td>2</td>\n",
       "      <td>1</td>\n",
       "      <td>1</td>\n",
       "      <td>1</td>\n",
       "      <td>0</td>\n",
       "      <td>0</td>\n",
       "      <td>0</td>\n",
       "      <td>0</td>\n",
       "      <td>0</td>\n",
       "      <td>0</td>\n",
       "      <td>0</td>\n",
       "      <td>0</td>\n",
       "      <td>0</td>\n",
       "      <td>0</td>\n",
       "      <td>0</td>\n",
       "      <td>0</td>\n",
       "      <td>0</td>\n",
       "      <td>0</td>\n",
       "      <td>0</td>\n",
       "      <td>0</td>\n",
       "      <td>0</td>\n",
       "      <td>0</td>\n",
       "      <td>0</td>\n",
       "      <td>0</td>\n",
       "      <td>0</td>\n",
       "      <td>0</td>\n",
       "      <td>0</td>\n",
       "      <td>0</td>\n",
       "      <td>0</td>\n",
       "      <td>0</td>\n",
       "      <td>0</td>\n",
       "      <td>0</td>\n",
       "      <td>0</td>\n",
       "      <td>0</td>\n",
       "      <td>0</td>\n",
       "      <td>0</td>\n",
       "      <td>0</td>\n",
       "      <td>0</td>\n",
       "      <td>0</td>\n",
       "      <td>0</td>\n",
       "      <td>0</td>\n",
       "      <td>0</td>\n",
       "      <td>0</td>\n",
       "      <td>0</td>\n",
       "    </tr>\n",
       "    <tr>\n",
       "      <th>4</th>\n",
       "      <td>5</td>\n",
       "      <td>Free</td>\n",
       "      <td>31</td>\n",
       "      <td>1</td>\n",
       "      <td>1</td>\n",
       "      <td>1</td>\n",
       "      <td>1</td>\n",
       "      <td>1</td>\n",
       "      <td>1</td>\n",
       "      <td>1</td>\n",
       "      <td>1</td>\n",
       "      <td>1</td>\n",
       "      <td>1</td>\n",
       "      <td>1</td>\n",
       "      <td>1</td>\n",
       "      <td>1</td>\n",
       "      <td>1</td>\n",
       "      <td>1</td>\n",
       "      <td>0</td>\n",
       "      <td>0</td>\n",
       "      <td>0</td>\n",
       "      <td>0</td>\n",
       "      <td>0</td>\n",
       "      <td>0</td>\n",
       "      <td>0</td>\n",
       "      <td>0</td>\n",
       "      <td>0</td>\n",
       "      <td>0</td>\n",
       "      <td>0</td>\n",
       "      <td>0</td>\n",
       "      <td>0</td>\n",
       "      <td>0</td>\n",
       "      <td>0</td>\n",
       "      <td>0</td>\n",
       "      <td>0</td>\n",
       "      <td>0</td>\n",
       "      <td>0</td>\n",
       "      <td>0</td>\n",
       "      <td>0</td>\n",
       "      <td>0</td>\n",
       "      <td>0</td>\n",
       "      <td>0</td>\n",
       "      <td>0</td>\n",
       "      <td>0</td>\n",
       "      <td>0</td>\n",
       "      <td>0</td>\n",
       "    </tr>\n",
       "  </tbody>\n",
       "</table>\n",
       "</div>"
      ],
      "text/plain": [
       "   user_id user_category  total_orders  orders>=0  orders>=1  orders>=2  \\\n",
       "0        1          Free             0          1          0          0   \n",
       "1        2          Free             5          1          1          1   \n",
       "2        3          Free             0          1          0          0   \n",
       "3        4          Free             2          1          1          1   \n",
       "4        5          Free            31          1          1          1   \n",
       "\n",
       "   orders>=3  orders>=4  orders>=5  orders>=6  orders>=7  orders>=8  \\\n",
       "0          0          0          0          0          0          0   \n",
       "1          1          1          1          0          0          0   \n",
       "2          0          0          0          0          0          0   \n",
       "3          0          0          0          0          0          0   \n",
       "4          1          1          1          1          1          1   \n",
       "\n",
       "   orders>=10  orders>=12  orders>=15  orders>=20  orders>=25  orders>=30  \\\n",
       "0           0           0           0           0           0           0   \n",
       "1           0           0           0           0           0           0   \n",
       "2           0           0           0           0           0           0   \n",
       "3           0           0           0           0           0           0   \n",
       "4           1           1           1           1           1           1   \n",
       "\n",
       "   orders>=35  orders>=40  orders>=45  orders>=50  orders>=55  orders>=60  \\\n",
       "0           0           0           0           0           0           0   \n",
       "1           0           0           0           0           0           0   \n",
       "2           0           0           0           0           0           0   \n",
       "3           0           0           0           0           0           0   \n",
       "4           0           0           0           0           0           0   \n",
       "\n",
       "   orders>=70  orders>=80  orders>=90  orders>=100  orders>=120  orders>=140  \\\n",
       "0           0           0           0            0            0            0   \n",
       "1           0           0           0            0            0            0   \n",
       "2           0           0           0            0            0            0   \n",
       "3           0           0           0            0            0            0   \n",
       "4           0           0           0            0            0            0   \n",
       "\n",
       "   orders>=160  orders>=180  orders>=200  orders>=250  orders>=300  \\\n",
       "0            0            0            0            0            0   \n",
       "1            0            0            0            0            0   \n",
       "2            0            0            0            0            0   \n",
       "3            0            0            0            0            0   \n",
       "4            0            0            0            0            0   \n",
       "\n",
       "   orders>=350  orders>=400  orders>=450  orders>=500  orders>=550  \\\n",
       "0            0            0            0            0            0   \n",
       "1            0            0            0            0            0   \n",
       "2            0            0            0            0            0   \n",
       "3            0            0            0            0            0   \n",
       "4            0            0            0            0            0   \n",
       "\n",
       "   orders>=600  orders>=700  orders>=800  orders>=900  orders>=1000  \\\n",
       "0            0            0            0            0             0   \n",
       "1            0            0            0            0             0   \n",
       "2            0            0            0            0             0   \n",
       "3            0            0            0            0             0   \n",
       "4            0            0            0            0             0   \n",
       "\n",
       "   orders>=1100  \n",
       "0             0  \n",
       "1             0  \n",
       "2             0  \n",
       "3             0  \n",
       "4             0  "
      ]
     },
     "execution_count": 119,
     "metadata": {},
     "output_type": "execute_result"
    }
   ],
   "source": [
    "pd.set_option('display.max_columns',None)\n",
    "orders.head(5)"
   ]
  },
  {
   "cell_type": "code",
   "execution_count": 121,
   "metadata": {},
   "outputs": [
    {
     "data": {
      "text/html": [
       "<div>\n",
       "<style scoped>\n",
       "    .dataframe tbody tr th:only-of-type {\n",
       "        vertical-align: middle;\n",
       "    }\n",
       "\n",
       "    .dataframe tbody tr th {\n",
       "        vertical-align: top;\n",
       "    }\n",
       "\n",
       "    .dataframe thead th {\n",
       "        text-align: right;\n",
       "    }\n",
       "</style>\n",
       "<table border=\"1\" class=\"dataframe\">\n",
       "  <thead>\n",
       "    <tr style=\"text-align: right;\">\n",
       "      <th></th>\n",
       "      <th>user_category</th>\n",
       "      <th>orders&gt;=0</th>\n",
       "      <th>orders&gt;=1</th>\n",
       "      <th>orders&gt;=2</th>\n",
       "      <th>orders&gt;=3</th>\n",
       "      <th>orders&gt;=4</th>\n",
       "      <th>orders&gt;=5</th>\n",
       "      <th>orders&gt;=6</th>\n",
       "      <th>orders&gt;=7</th>\n",
       "      <th>orders&gt;=8</th>\n",
       "      <th>orders&gt;=10</th>\n",
       "      <th>orders&gt;=12</th>\n",
       "      <th>orders&gt;=15</th>\n",
       "      <th>orders&gt;=20</th>\n",
       "      <th>orders&gt;=25</th>\n",
       "      <th>orders&gt;=30</th>\n",
       "      <th>orders&gt;=35</th>\n",
       "      <th>orders&gt;=40</th>\n",
       "      <th>orders&gt;=45</th>\n",
       "      <th>orders&gt;=50</th>\n",
       "      <th>orders&gt;=55</th>\n",
       "      <th>orders&gt;=60</th>\n",
       "      <th>orders&gt;=70</th>\n",
       "      <th>orders&gt;=80</th>\n",
       "      <th>orders&gt;=90</th>\n",
       "      <th>orders&gt;=100</th>\n",
       "      <th>orders&gt;=120</th>\n",
       "      <th>orders&gt;=140</th>\n",
       "      <th>orders&gt;=160</th>\n",
       "      <th>orders&gt;=180</th>\n",
       "      <th>orders&gt;=200</th>\n",
       "      <th>orders&gt;=250</th>\n",
       "      <th>orders&gt;=300</th>\n",
       "      <th>orders&gt;=350</th>\n",
       "      <th>orders&gt;=400</th>\n",
       "      <th>orders&gt;=450</th>\n",
       "      <th>orders&gt;=500</th>\n",
       "      <th>orders&gt;=550</th>\n",
       "      <th>orders&gt;=600</th>\n",
       "      <th>orders&gt;=700</th>\n",
       "      <th>orders&gt;=800</th>\n",
       "      <th>orders&gt;=900</th>\n",
       "      <th>orders&gt;=1000</th>\n",
       "      <th>orders&gt;=1100</th>\n",
       "    </tr>\n",
       "  </thead>\n",
       "  <tbody>\n",
       "    <tr>\n",
       "      <th>0</th>\n",
       "      <td>Free</td>\n",
       "      <td>1</td>\n",
       "      <td>0</td>\n",
       "      <td>0</td>\n",
       "      <td>0</td>\n",
       "      <td>0</td>\n",
       "      <td>0</td>\n",
       "      <td>0</td>\n",
       "      <td>0</td>\n",
       "      <td>0</td>\n",
       "      <td>0</td>\n",
       "      <td>0</td>\n",
       "      <td>0</td>\n",
       "      <td>0</td>\n",
       "      <td>0</td>\n",
       "      <td>0</td>\n",
       "      <td>0</td>\n",
       "      <td>0</td>\n",
       "      <td>0</td>\n",
       "      <td>0</td>\n",
       "      <td>0</td>\n",
       "      <td>0</td>\n",
       "      <td>0</td>\n",
       "      <td>0</td>\n",
       "      <td>0</td>\n",
       "      <td>0</td>\n",
       "      <td>0</td>\n",
       "      <td>0</td>\n",
       "      <td>0</td>\n",
       "      <td>0</td>\n",
       "      <td>0</td>\n",
       "      <td>0</td>\n",
       "      <td>0</td>\n",
       "      <td>0</td>\n",
       "      <td>0</td>\n",
       "      <td>0</td>\n",
       "      <td>0</td>\n",
       "      <td>0</td>\n",
       "      <td>0</td>\n",
       "      <td>0</td>\n",
       "      <td>0</td>\n",
       "      <td>0</td>\n",
       "      <td>0</td>\n",
       "      <td>0</td>\n",
       "    </tr>\n",
       "    <tr>\n",
       "      <th>1</th>\n",
       "      <td>Free</td>\n",
       "      <td>1</td>\n",
       "      <td>1</td>\n",
       "      <td>1</td>\n",
       "      <td>1</td>\n",
       "      <td>1</td>\n",
       "      <td>1</td>\n",
       "      <td>0</td>\n",
       "      <td>0</td>\n",
       "      <td>0</td>\n",
       "      <td>0</td>\n",
       "      <td>0</td>\n",
       "      <td>0</td>\n",
       "      <td>0</td>\n",
       "      <td>0</td>\n",
       "      <td>0</td>\n",
       "      <td>0</td>\n",
       "      <td>0</td>\n",
       "      <td>0</td>\n",
       "      <td>0</td>\n",
       "      <td>0</td>\n",
       "      <td>0</td>\n",
       "      <td>0</td>\n",
       "      <td>0</td>\n",
       "      <td>0</td>\n",
       "      <td>0</td>\n",
       "      <td>0</td>\n",
       "      <td>0</td>\n",
       "      <td>0</td>\n",
       "      <td>0</td>\n",
       "      <td>0</td>\n",
       "      <td>0</td>\n",
       "      <td>0</td>\n",
       "      <td>0</td>\n",
       "      <td>0</td>\n",
       "      <td>0</td>\n",
       "      <td>0</td>\n",
       "      <td>0</td>\n",
       "      <td>0</td>\n",
       "      <td>0</td>\n",
       "      <td>0</td>\n",
       "      <td>0</td>\n",
       "      <td>0</td>\n",
       "      <td>0</td>\n",
       "    </tr>\n",
       "    <tr>\n",
       "      <th>2</th>\n",
       "      <td>Free</td>\n",
       "      <td>1</td>\n",
       "      <td>0</td>\n",
       "      <td>0</td>\n",
       "      <td>0</td>\n",
       "      <td>0</td>\n",
       "      <td>0</td>\n",
       "      <td>0</td>\n",
       "      <td>0</td>\n",
       "      <td>0</td>\n",
       "      <td>0</td>\n",
       "      <td>0</td>\n",
       "      <td>0</td>\n",
       "      <td>0</td>\n",
       "      <td>0</td>\n",
       "      <td>0</td>\n",
       "      <td>0</td>\n",
       "      <td>0</td>\n",
       "      <td>0</td>\n",
       "      <td>0</td>\n",
       "      <td>0</td>\n",
       "      <td>0</td>\n",
       "      <td>0</td>\n",
       "      <td>0</td>\n",
       "      <td>0</td>\n",
       "      <td>0</td>\n",
       "      <td>0</td>\n",
       "      <td>0</td>\n",
       "      <td>0</td>\n",
       "      <td>0</td>\n",
       "      <td>0</td>\n",
       "      <td>0</td>\n",
       "      <td>0</td>\n",
       "      <td>0</td>\n",
       "      <td>0</td>\n",
       "      <td>0</td>\n",
       "      <td>0</td>\n",
       "      <td>0</td>\n",
       "      <td>0</td>\n",
       "      <td>0</td>\n",
       "      <td>0</td>\n",
       "      <td>0</td>\n",
       "      <td>0</td>\n",
       "      <td>0</td>\n",
       "    </tr>\n",
       "    <tr>\n",
       "      <th>3</th>\n",
       "      <td>Free</td>\n",
       "      <td>1</td>\n",
       "      <td>1</td>\n",
       "      <td>1</td>\n",
       "      <td>0</td>\n",
       "      <td>0</td>\n",
       "      <td>0</td>\n",
       "      <td>0</td>\n",
       "      <td>0</td>\n",
       "      <td>0</td>\n",
       "      <td>0</td>\n",
       "      <td>0</td>\n",
       "      <td>0</td>\n",
       "      <td>0</td>\n",
       "      <td>0</td>\n",
       "      <td>0</td>\n",
       "      <td>0</td>\n",
       "      <td>0</td>\n",
       "      <td>0</td>\n",
       "      <td>0</td>\n",
       "      <td>0</td>\n",
       "      <td>0</td>\n",
       "      <td>0</td>\n",
       "      <td>0</td>\n",
       "      <td>0</td>\n",
       "      <td>0</td>\n",
       "      <td>0</td>\n",
       "      <td>0</td>\n",
       "      <td>0</td>\n",
       "      <td>0</td>\n",
       "      <td>0</td>\n",
       "      <td>0</td>\n",
       "      <td>0</td>\n",
       "      <td>0</td>\n",
       "      <td>0</td>\n",
       "      <td>0</td>\n",
       "      <td>0</td>\n",
       "      <td>0</td>\n",
       "      <td>0</td>\n",
       "      <td>0</td>\n",
       "      <td>0</td>\n",
       "      <td>0</td>\n",
       "      <td>0</td>\n",
       "      <td>0</td>\n",
       "    </tr>\n",
       "    <tr>\n",
       "      <th>4</th>\n",
       "      <td>Free</td>\n",
       "      <td>1</td>\n",
       "      <td>1</td>\n",
       "      <td>1</td>\n",
       "      <td>1</td>\n",
       "      <td>1</td>\n",
       "      <td>1</td>\n",
       "      <td>1</td>\n",
       "      <td>1</td>\n",
       "      <td>1</td>\n",
       "      <td>1</td>\n",
       "      <td>1</td>\n",
       "      <td>1</td>\n",
       "      <td>1</td>\n",
       "      <td>1</td>\n",
       "      <td>1</td>\n",
       "      <td>0</td>\n",
       "      <td>0</td>\n",
       "      <td>0</td>\n",
       "      <td>0</td>\n",
       "      <td>0</td>\n",
       "      <td>0</td>\n",
       "      <td>0</td>\n",
       "      <td>0</td>\n",
       "      <td>0</td>\n",
       "      <td>0</td>\n",
       "      <td>0</td>\n",
       "      <td>0</td>\n",
       "      <td>0</td>\n",
       "      <td>0</td>\n",
       "      <td>0</td>\n",
       "      <td>0</td>\n",
       "      <td>0</td>\n",
       "      <td>0</td>\n",
       "      <td>0</td>\n",
       "      <td>0</td>\n",
       "      <td>0</td>\n",
       "      <td>0</td>\n",
       "      <td>0</td>\n",
       "      <td>0</td>\n",
       "      <td>0</td>\n",
       "      <td>0</td>\n",
       "      <td>0</td>\n",
       "      <td>0</td>\n",
       "    </tr>\n",
       "  </tbody>\n",
       "</table>\n",
       "</div>"
      ],
      "text/plain": [
       "  user_category  orders>=0  orders>=1  orders>=2  orders>=3  orders>=4  \\\n",
       "0          Free          1          0          0          0          0   \n",
       "1          Free          1          1          1          1          1   \n",
       "2          Free          1          0          0          0          0   \n",
       "3          Free          1          1          1          0          0   \n",
       "4          Free          1          1          1          1          1   \n",
       "\n",
       "   orders>=5  orders>=6  orders>=7  orders>=8  orders>=10  orders>=12  \\\n",
       "0          0          0          0          0           0           0   \n",
       "1          1          0          0          0           0           0   \n",
       "2          0          0          0          0           0           0   \n",
       "3          0          0          0          0           0           0   \n",
       "4          1          1          1          1           1           1   \n",
       "\n",
       "   orders>=15  orders>=20  orders>=25  orders>=30  orders>=35  orders>=40  \\\n",
       "0           0           0           0           0           0           0   \n",
       "1           0           0           0           0           0           0   \n",
       "2           0           0           0           0           0           0   \n",
       "3           0           0           0           0           0           0   \n",
       "4           1           1           1           1           0           0   \n",
       "\n",
       "   orders>=45  orders>=50  orders>=55  orders>=60  orders>=70  orders>=80  \\\n",
       "0           0           0           0           0           0           0   \n",
       "1           0           0           0           0           0           0   \n",
       "2           0           0           0           0           0           0   \n",
       "3           0           0           0           0           0           0   \n",
       "4           0           0           0           0           0           0   \n",
       "\n",
       "   orders>=90  orders>=100  orders>=120  orders>=140  orders>=160  \\\n",
       "0           0            0            0            0            0   \n",
       "1           0            0            0            0            0   \n",
       "2           0            0            0            0            0   \n",
       "3           0            0            0            0            0   \n",
       "4           0            0            0            0            0   \n",
       "\n",
       "   orders>=180  orders>=200  orders>=250  orders>=300  orders>=350  \\\n",
       "0            0            0            0            0            0   \n",
       "1            0            0            0            0            0   \n",
       "2            0            0            0            0            0   \n",
       "3            0            0            0            0            0   \n",
       "4            0            0            0            0            0   \n",
       "\n",
       "   orders>=400  orders>=450  orders>=500  orders>=550  orders>=600  \\\n",
       "0            0            0            0            0            0   \n",
       "1            0            0            0            0            0   \n",
       "2            0            0            0            0            0   \n",
       "3            0            0            0            0            0   \n",
       "4            0            0            0            0            0   \n",
       "\n",
       "   orders>=700  orders>=800  orders>=900  orders>=1000  orders>=1100  \n",
       "0            0            0            0             0             0  \n",
       "1            0            0            0             0             0  \n",
       "2            0            0            0             0             0  \n",
       "3            0            0            0             0             0  \n",
       "4            0            0            0             0             0  "
      ]
     },
     "execution_count": 121,
     "metadata": {},
     "output_type": "execute_result"
    }
   ],
   "source": [
    "totals = orders.drop(columns = ['user_id','total_orders'])\n",
    "totals.head()"
   ]
  },
  {
   "cell_type": "code",
   "execution_count": 124,
   "metadata": {},
   "outputs": [
    {
     "data": {
      "text/plain": [
       "Index(['orders>=0', 'orders>=1', 'orders>=2', 'orders>=3', 'orders>=4',\n",
       "       'orders>=5', 'orders>=6', 'orders>=7', 'orders>=8', 'orders>=10',\n",
       "       'orders>=12', 'orders>=15', 'orders>=20', 'orders>=25', 'orders>=30',\n",
       "       'orders>=35', 'orders>=40', 'orders>=45', 'orders>=50', 'orders>=55',\n",
       "       'orders>=60', 'orders>=70', 'orders>=80', 'orders>=90', 'orders>=100',\n",
       "       'orders>=120', 'orders>=140', 'orders>=160', 'orders>=180',\n",
       "       'orders>=200', 'orders>=250', 'orders>=300', 'orders>=350',\n",
       "       'orders>=400', 'orders>=450', 'orders>=500', 'orders>=550',\n",
       "       'orders>=600', 'orders>=700', 'orders>=800', 'orders>=900',\n",
       "       'orders>=1000', 'orders>=1100'],\n",
       "      dtype='object')"
      ]
     },
     "execution_count": 124,
     "metadata": {},
     "output_type": "execute_result"
    }
   ],
   "source": [
    "totals.columns[1:]"
   ]
  },
  {
   "cell_type": "code",
   "execution_count": 127,
   "metadata": {},
   "outputs": [
    {
     "data": {
      "text/html": [
       "<div>\n",
       "<style scoped>\n",
       "    .dataframe tbody tr th:only-of-type {\n",
       "        vertical-align: middle;\n",
       "    }\n",
       "\n",
       "    .dataframe tbody tr th {\n",
       "        vertical-align: top;\n",
       "    }\n",
       "\n",
       "    .dataframe thead th {\n",
       "        text-align: right;\n",
       "    }\n",
       "</style>\n",
       "<table border=\"1\" class=\"dataframe\">\n",
       "  <thead>\n",
       "    <tr style=\"text-align: right;\">\n",
       "      <th></th>\n",
       "      <th>user_category</th>\n",
       "      <th>orders&gt;=0</th>\n",
       "      <th>orders&gt;=1</th>\n",
       "      <th>orders&gt;=2</th>\n",
       "      <th>orders&gt;=3</th>\n",
       "      <th>orders&gt;=4</th>\n",
       "      <th>orders&gt;=5</th>\n",
       "      <th>orders&gt;=6</th>\n",
       "      <th>orders&gt;=7</th>\n",
       "      <th>orders&gt;=8</th>\n",
       "      <th>orders&gt;=10</th>\n",
       "      <th>orders&gt;=12</th>\n",
       "      <th>orders&gt;=15</th>\n",
       "      <th>orders&gt;=20</th>\n",
       "      <th>orders&gt;=25</th>\n",
       "      <th>orders&gt;=30</th>\n",
       "      <th>orders&gt;=35</th>\n",
       "      <th>orders&gt;=40</th>\n",
       "      <th>orders&gt;=45</th>\n",
       "      <th>orders&gt;=50</th>\n",
       "      <th>orders&gt;=55</th>\n",
       "      <th>orders&gt;=60</th>\n",
       "      <th>orders&gt;=70</th>\n",
       "      <th>orders&gt;=80</th>\n",
       "      <th>orders&gt;=90</th>\n",
       "      <th>orders&gt;=100</th>\n",
       "      <th>orders&gt;=120</th>\n",
       "      <th>orders&gt;=140</th>\n",
       "      <th>orders&gt;=160</th>\n",
       "      <th>orders&gt;=180</th>\n",
       "      <th>orders&gt;=200</th>\n",
       "      <th>orders&gt;=250</th>\n",
       "      <th>orders&gt;=300</th>\n",
       "      <th>orders&gt;=350</th>\n",
       "      <th>orders&gt;=400</th>\n",
       "      <th>orders&gt;=450</th>\n",
       "      <th>orders&gt;=500</th>\n",
       "      <th>orders&gt;=550</th>\n",
       "      <th>orders&gt;=600</th>\n",
       "      <th>orders&gt;=700</th>\n",
       "      <th>orders&gt;=800</th>\n",
       "      <th>orders&gt;=900</th>\n",
       "      <th>orders&gt;=1000</th>\n",
       "      <th>orders&gt;=1100</th>\n",
       "    </tr>\n",
       "  </thead>\n",
       "  <tbody>\n",
       "    <tr>\n",
       "      <th>0</th>\n",
       "      <td>Free</td>\n",
       "      <td>199633</td>\n",
       "      <td>150055</td>\n",
       "      <td>127507</td>\n",
       "      <td>105052</td>\n",
       "      <td>88675</td>\n",
       "      <td>76665</td>\n",
       "      <td>66874</td>\n",
       "      <td>59841</td>\n",
       "      <td>54505</td>\n",
       "      <td>46510</td>\n",
       "      <td>40463</td>\n",
       "      <td>34116</td>\n",
       "      <td>26777</td>\n",
       "      <td>21938</td>\n",
       "      <td>18467</td>\n",
       "      <td>15787</td>\n",
       "      <td>13669</td>\n",
       "      <td>11960</td>\n",
       "      <td>10551</td>\n",
       "      <td>9377</td>\n",
       "      <td>8452</td>\n",
       "      <td>6985</td>\n",
       "      <td>5922</td>\n",
       "      <td>5125</td>\n",
       "      <td>4442</td>\n",
       "      <td>3432</td>\n",
       "      <td>2761</td>\n",
       "      <td>2226</td>\n",
       "      <td>1805</td>\n",
       "      <td>1497</td>\n",
       "      <td>952</td>\n",
       "      <td>668</td>\n",
       "      <td>501</td>\n",
       "      <td>377</td>\n",
       "      <td>296</td>\n",
       "      <td>242</td>\n",
       "      <td>205</td>\n",
       "      <td>165</td>\n",
       "      <td>118</td>\n",
       "      <td>86</td>\n",
       "      <td>73</td>\n",
       "      <td>60</td>\n",
       "      <td>50</td>\n",
       "    </tr>\n",
       "    <tr>\n",
       "      <th>1</th>\n",
       "      <td>Premium</td>\n",
       "      <td>1584</td>\n",
       "      <td>1271</td>\n",
       "      <td>1162</td>\n",
       "      <td>1089</td>\n",
       "      <td>1032</td>\n",
       "      <td>972</td>\n",
       "      <td>915</td>\n",
       "      <td>863</td>\n",
       "      <td>804</td>\n",
       "      <td>741</td>\n",
       "      <td>692</td>\n",
       "      <td>635</td>\n",
       "      <td>548</td>\n",
       "      <td>489</td>\n",
       "      <td>455</td>\n",
       "      <td>410</td>\n",
       "      <td>380</td>\n",
       "      <td>362</td>\n",
       "      <td>330</td>\n",
       "      <td>317</td>\n",
       "      <td>307</td>\n",
       "      <td>277</td>\n",
       "      <td>257</td>\n",
       "      <td>227</td>\n",
       "      <td>201</td>\n",
       "      <td>171</td>\n",
       "      <td>153</td>\n",
       "      <td>137</td>\n",
       "      <td>113</td>\n",
       "      <td>105</td>\n",
       "      <td>90</td>\n",
       "      <td>73</td>\n",
       "      <td>58</td>\n",
       "      <td>51</td>\n",
       "      <td>45</td>\n",
       "      <td>43</td>\n",
       "      <td>41</td>\n",
       "      <td>37</td>\n",
       "      <td>29</td>\n",
       "      <td>24</td>\n",
       "      <td>19</td>\n",
       "      <td>12</td>\n",
       "      <td>7</td>\n",
       "    </tr>\n",
       "  </tbody>\n",
       "</table>\n",
       "</div>"
      ],
      "text/plain": [
       "  user_category  orders>=0  orders>=1  orders>=2  orders>=3  orders>=4  \\\n",
       "0          Free     199633     150055     127507     105052      88675   \n",
       "1       Premium       1584       1271       1162       1089       1032   \n",
       "\n",
       "   orders>=5  orders>=6  orders>=7  orders>=8  orders>=10  orders>=12  \\\n",
       "0      76665      66874      59841      54505       46510       40463   \n",
       "1        972        915        863        804         741         692   \n",
       "\n",
       "   orders>=15  orders>=20  orders>=25  orders>=30  orders>=35  orders>=40  \\\n",
       "0       34116       26777       21938       18467       15787       13669   \n",
       "1         635         548         489         455         410         380   \n",
       "\n",
       "   orders>=45  orders>=50  orders>=55  orders>=60  orders>=70  orders>=80  \\\n",
       "0       11960       10551        9377        8452        6985        5922   \n",
       "1         362         330         317         307         277         257   \n",
       "\n",
       "   orders>=90  orders>=100  orders>=120  orders>=140  orders>=160  \\\n",
       "0        5125         4442         3432         2761         2226   \n",
       "1         227          201          171          153          137   \n",
       "\n",
       "   orders>=180  orders>=200  orders>=250  orders>=300  orders>=350  \\\n",
       "0         1805         1497          952          668          501   \n",
       "1          113          105           90           73           58   \n",
       "\n",
       "   orders>=400  orders>=450  orders>=500  orders>=550  orders>=600  \\\n",
       "0          377          296          242          205          165   \n",
       "1           51           45           43           41           37   \n",
       "\n",
       "   orders>=700  orders>=800  orders>=900  orders>=1000  orders>=1100  \n",
       "0          118           86           73            60            50  \n",
       "1           29           24           19            12             7  "
      ]
     },
     "execution_count": 127,
     "metadata": {},
     "output_type": "execute_result"
    }
   ],
   "source": [
    "totals.groupby('user_category')[totals.columns[1:]].sum().reset_index()"
   ]
  },
  {
   "cell_type": "code",
   "execution_count": 128,
   "metadata": {},
   "outputs": [],
   "source": [
    "totals = totals.groupby('user_category')[totals.columns[1:]].sum().reset_index()"
   ]
  },
  {
   "cell_type": "code",
   "execution_count": 131,
   "metadata": {},
   "outputs": [],
   "source": [
    "graph_df = pd.melt(totals, id_vars = 'user_category', value_vars = totals.columns[1:], \n",
    "        var_name='order_bin', value_name = 'registered_users' )"
   ]
  },
  {
   "cell_type": "code",
   "execution_count": 132,
   "metadata": {},
   "outputs": [
    {
     "data": {
      "text/html": [
       "<div>\n",
       "<style scoped>\n",
       "    .dataframe tbody tr th:only-of-type {\n",
       "        vertical-align: middle;\n",
       "    }\n",
       "\n",
       "    .dataframe tbody tr th {\n",
       "        vertical-align: top;\n",
       "    }\n",
       "\n",
       "    .dataframe thead th {\n",
       "        text-align: right;\n",
       "    }\n",
       "</style>\n",
       "<table border=\"1\" class=\"dataframe\">\n",
       "  <thead>\n",
       "    <tr style=\"text-align: right;\">\n",
       "      <th></th>\n",
       "      <th>user_category</th>\n",
       "      <th>order_bin</th>\n",
       "      <th>registered_users</th>\n",
       "    </tr>\n",
       "  </thead>\n",
       "  <tbody>\n",
       "    <tr>\n",
       "      <th>0</th>\n",
       "      <td>Free</td>\n",
       "      <td>orders&gt;=0</td>\n",
       "      <td>199633</td>\n",
       "    </tr>\n",
       "    <tr>\n",
       "      <th>1</th>\n",
       "      <td>Premium</td>\n",
       "      <td>orders&gt;=0</td>\n",
       "      <td>1584</td>\n",
       "    </tr>\n",
       "    <tr>\n",
       "      <th>2</th>\n",
       "      <td>Free</td>\n",
       "      <td>orders&gt;=1</td>\n",
       "      <td>150055</td>\n",
       "    </tr>\n",
       "    <tr>\n",
       "      <th>3</th>\n",
       "      <td>Premium</td>\n",
       "      <td>orders&gt;=1</td>\n",
       "      <td>1271</td>\n",
       "    </tr>\n",
       "    <tr>\n",
       "      <th>4</th>\n",
       "      <td>Free</td>\n",
       "      <td>orders&gt;=2</td>\n",
       "      <td>127507</td>\n",
       "    </tr>\n",
       "    <tr>\n",
       "      <th>...</th>\n",
       "      <td>...</td>\n",
       "      <td>...</td>\n",
       "      <td>...</td>\n",
       "    </tr>\n",
       "    <tr>\n",
       "      <th>81</th>\n",
       "      <td>Premium</td>\n",
       "      <td>orders&gt;=900</td>\n",
       "      <td>19</td>\n",
       "    </tr>\n",
       "    <tr>\n",
       "      <th>82</th>\n",
       "      <td>Free</td>\n",
       "      <td>orders&gt;=1000</td>\n",
       "      <td>60</td>\n",
       "    </tr>\n",
       "    <tr>\n",
       "      <th>83</th>\n",
       "      <td>Premium</td>\n",
       "      <td>orders&gt;=1000</td>\n",
       "      <td>12</td>\n",
       "    </tr>\n",
       "    <tr>\n",
       "      <th>84</th>\n",
       "      <td>Free</td>\n",
       "      <td>orders&gt;=1100</td>\n",
       "      <td>50</td>\n",
       "    </tr>\n",
       "    <tr>\n",
       "      <th>85</th>\n",
       "      <td>Premium</td>\n",
       "      <td>orders&gt;=1100</td>\n",
       "      <td>7</td>\n",
       "    </tr>\n",
       "  </tbody>\n",
       "</table>\n",
       "<p>86 rows × 3 columns</p>\n",
       "</div>"
      ],
      "text/plain": [
       "   user_category     order_bin  registered_users\n",
       "0           Free     orders>=0            199633\n",
       "1        Premium     orders>=0              1584\n",
       "2           Free     orders>=1            150055\n",
       "3        Premium     orders>=1              1271\n",
       "4           Free     orders>=2            127507\n",
       "..           ...           ...               ...\n",
       "81       Premium   orders>=900                19\n",
       "82          Free  orders>=1000                60\n",
       "83       Premium  orders>=1000                12\n",
       "84          Free  orders>=1100                50\n",
       "85       Premium  orders>=1100                 7\n",
       "\n",
       "[86 rows x 3 columns]"
      ]
     },
     "execution_count": 132,
     "metadata": {},
     "output_type": "execute_result"
    }
   ],
   "source": [
    "graph_df"
   ]
  },
  {
   "cell_type": "code",
   "execution_count": 137,
   "metadata": {},
   "outputs": [
    {
     "data": {
      "text/html": [
       "<div>\n",
       "<style scoped>\n",
       "    .dataframe tbody tr th:only-of-type {\n",
       "        vertical-align: middle;\n",
       "    }\n",
       "\n",
       "    .dataframe tbody tr th {\n",
       "        vertical-align: top;\n",
       "    }\n",
       "\n",
       "    .dataframe thead th {\n",
       "        text-align: right;\n",
       "    }\n",
       "</style>\n",
       "<table border=\"1\" class=\"dataframe\">\n",
       "  <thead>\n",
       "    <tr style=\"text-align: right;\">\n",
       "      <th></th>\n",
       "      <th>user_category</th>\n",
       "      <th>registered_users</th>\n",
       "      <th>min_orders</th>\n",
       "    </tr>\n",
       "  </thead>\n",
       "  <tbody>\n",
       "    <tr>\n",
       "      <th>0</th>\n",
       "      <td>Free</td>\n",
       "      <td>199633</td>\n",
       "      <td>0</td>\n",
       "    </tr>\n",
       "    <tr>\n",
       "      <th>1</th>\n",
       "      <td>Premium</td>\n",
       "      <td>1584</td>\n",
       "      <td>0</td>\n",
       "    </tr>\n",
       "    <tr>\n",
       "      <th>2</th>\n",
       "      <td>Free</td>\n",
       "      <td>150055</td>\n",
       "      <td>1</td>\n",
       "    </tr>\n",
       "    <tr>\n",
       "      <th>3</th>\n",
       "      <td>Premium</td>\n",
       "      <td>1271</td>\n",
       "      <td>1</td>\n",
       "    </tr>\n",
       "    <tr>\n",
       "      <th>4</th>\n",
       "      <td>Free</td>\n",
       "      <td>127507</td>\n",
       "      <td>2</td>\n",
       "    </tr>\n",
       "    <tr>\n",
       "      <th>...</th>\n",
       "      <td>...</td>\n",
       "      <td>...</td>\n",
       "      <td>...</td>\n",
       "    </tr>\n",
       "    <tr>\n",
       "      <th>81</th>\n",
       "      <td>Premium</td>\n",
       "      <td>19</td>\n",
       "      <td>900</td>\n",
       "    </tr>\n",
       "    <tr>\n",
       "      <th>82</th>\n",
       "      <td>Free</td>\n",
       "      <td>60</td>\n",
       "      <td>1000</td>\n",
       "    </tr>\n",
       "    <tr>\n",
       "      <th>83</th>\n",
       "      <td>Premium</td>\n",
       "      <td>12</td>\n",
       "      <td>1000</td>\n",
       "    </tr>\n",
       "    <tr>\n",
       "      <th>84</th>\n",
       "      <td>Free</td>\n",
       "      <td>50</td>\n",
       "      <td>1100</td>\n",
       "    </tr>\n",
       "    <tr>\n",
       "      <th>85</th>\n",
       "      <td>Premium</td>\n",
       "      <td>7</td>\n",
       "      <td>1100</td>\n",
       "    </tr>\n",
       "  </tbody>\n",
       "</table>\n",
       "<p>86 rows × 3 columns</p>\n",
       "</div>"
      ],
      "text/plain": [
       "   user_category  registered_users  min_orders\n",
       "0           Free            199633           0\n",
       "1        Premium              1584           0\n",
       "2           Free            150055           1\n",
       "3        Premium              1271           1\n",
       "4           Free            127507           2\n",
       "..           ...               ...         ...\n",
       "81       Premium                19         900\n",
       "82          Free                60        1000\n",
       "83       Premium                12        1000\n",
       "84          Free                50        1100\n",
       "85       Premium                 7        1100\n",
       "\n",
       "[86 rows x 3 columns]"
      ]
     },
     "execution_count": 137,
     "metadata": {},
     "output_type": "execute_result"
    }
   ],
   "source": [
    "graph_df['min_orders'] = [int(i.split('>=')[1]) for i in graph_df['order_bin']]\n",
    "graph_df.drop(columns = 'order_bin', inplace = True)\n",
    "graph_df"
   ]
  },
  {
   "cell_type": "code",
   "execution_count": 157,
   "metadata": {},
   "outputs": [],
   "source": [
    "baseline = 0\n",
    "graph_df['category_totals'] =\\\n",
    "[graph_df.loc[(graph_df['user_category'] == i)&\n",
    "             (graph_df['min_orders']== baseline),'registered_users'].max() for i in graph_df['user_category']]"
   ]
  },
  {
   "cell_type": "code",
   "execution_count": 158,
   "metadata": {},
   "outputs": [
    {
     "data": {
      "text/html": [
       "<div>\n",
       "<style scoped>\n",
       "    .dataframe tbody tr th:only-of-type {\n",
       "        vertical-align: middle;\n",
       "    }\n",
       "\n",
       "    .dataframe tbody tr th {\n",
       "        vertical-align: top;\n",
       "    }\n",
       "\n",
       "    .dataframe thead th {\n",
       "        text-align: right;\n",
       "    }\n",
       "</style>\n",
       "<table border=\"1\" class=\"dataframe\">\n",
       "  <thead>\n",
       "    <tr style=\"text-align: right;\">\n",
       "      <th></th>\n",
       "      <th>user_category</th>\n",
       "      <th>registered_users</th>\n",
       "      <th>min_orders</th>\n",
       "      <th>category_totals</th>\n",
       "    </tr>\n",
       "  </thead>\n",
       "  <tbody>\n",
       "    <tr>\n",
       "      <th>0</th>\n",
       "      <td>Free</td>\n",
       "      <td>199633</td>\n",
       "      <td>0</td>\n",
       "      <td>199633</td>\n",
       "    </tr>\n",
       "    <tr>\n",
       "      <th>1</th>\n",
       "      <td>Premium</td>\n",
       "      <td>1584</td>\n",
       "      <td>0</td>\n",
       "      <td>1584</td>\n",
       "    </tr>\n",
       "    <tr>\n",
       "      <th>2</th>\n",
       "      <td>Free</td>\n",
       "      <td>150055</td>\n",
       "      <td>1</td>\n",
       "      <td>199633</td>\n",
       "    </tr>\n",
       "    <tr>\n",
       "      <th>3</th>\n",
       "      <td>Premium</td>\n",
       "      <td>1271</td>\n",
       "      <td>1</td>\n",
       "      <td>1584</td>\n",
       "    </tr>\n",
       "    <tr>\n",
       "      <th>4</th>\n",
       "      <td>Free</td>\n",
       "      <td>127507</td>\n",
       "      <td>2</td>\n",
       "      <td>199633</td>\n",
       "    </tr>\n",
       "    <tr>\n",
       "      <th>...</th>\n",
       "      <td>...</td>\n",
       "      <td>...</td>\n",
       "      <td>...</td>\n",
       "      <td>...</td>\n",
       "    </tr>\n",
       "    <tr>\n",
       "      <th>81</th>\n",
       "      <td>Premium</td>\n",
       "      <td>19</td>\n",
       "      <td>900</td>\n",
       "      <td>1584</td>\n",
       "    </tr>\n",
       "    <tr>\n",
       "      <th>82</th>\n",
       "      <td>Free</td>\n",
       "      <td>60</td>\n",
       "      <td>1000</td>\n",
       "      <td>199633</td>\n",
       "    </tr>\n",
       "    <tr>\n",
       "      <th>83</th>\n",
       "      <td>Premium</td>\n",
       "      <td>12</td>\n",
       "      <td>1000</td>\n",
       "      <td>1584</td>\n",
       "    </tr>\n",
       "    <tr>\n",
       "      <th>84</th>\n",
       "      <td>Free</td>\n",
       "      <td>50</td>\n",
       "      <td>1100</td>\n",
       "      <td>199633</td>\n",
       "    </tr>\n",
       "    <tr>\n",
       "      <th>85</th>\n",
       "      <td>Premium</td>\n",
       "      <td>7</td>\n",
       "      <td>1100</td>\n",
       "      <td>1584</td>\n",
       "    </tr>\n",
       "  </tbody>\n",
       "</table>\n",
       "<p>86 rows × 4 columns</p>\n",
       "</div>"
      ],
      "text/plain": [
       "   user_category  registered_users  min_orders  category_totals\n",
       "0           Free            199633           0           199633\n",
       "1        Premium              1584           0             1584\n",
       "2           Free            150055           1           199633\n",
       "3        Premium              1271           1             1584\n",
       "4           Free            127507           2           199633\n",
       "..           ...               ...         ...              ...\n",
       "81       Premium                19         900             1584\n",
       "82          Free                60        1000           199633\n",
       "83       Premium                12        1000             1584\n",
       "84          Free                50        1100           199633\n",
       "85       Premium                 7        1100             1584\n",
       "\n",
       "[86 rows x 4 columns]"
      ]
     },
     "execution_count": 158,
     "metadata": {},
     "output_type": "execute_result"
    }
   ],
   "source": [
    "graph_df"
   ]
  },
  {
   "cell_type": "code",
   "execution_count": 160,
   "metadata": {},
   "outputs": [],
   "source": [
    "graph_df['%_registered_users'] = graph_df['registered_users']/graph_df['category_totals']"
   ]
  },
  {
   "cell_type": "code",
   "execution_count": 161,
   "metadata": {},
   "outputs": [
    {
     "data": {
      "text/html": [
       "<div>\n",
       "<style scoped>\n",
       "    .dataframe tbody tr th:only-of-type {\n",
       "        vertical-align: middle;\n",
       "    }\n",
       "\n",
       "    .dataframe tbody tr th {\n",
       "        vertical-align: top;\n",
       "    }\n",
       "\n",
       "    .dataframe thead th {\n",
       "        text-align: right;\n",
       "    }\n",
       "</style>\n",
       "<table border=\"1\" class=\"dataframe\">\n",
       "  <thead>\n",
       "    <tr style=\"text-align: right;\">\n",
       "      <th></th>\n",
       "      <th>user_category</th>\n",
       "      <th>registered_users</th>\n",
       "      <th>min_orders</th>\n",
       "      <th>category_totals</th>\n",
       "      <th>%_registered_users</th>\n",
       "    </tr>\n",
       "  </thead>\n",
       "  <tbody>\n",
       "    <tr>\n",
       "      <th>0</th>\n",
       "      <td>Free</td>\n",
       "      <td>199633</td>\n",
       "      <td>0</td>\n",
       "      <td>199633</td>\n",
       "      <td>1.000000</td>\n",
       "    </tr>\n",
       "    <tr>\n",
       "      <th>1</th>\n",
       "      <td>Premium</td>\n",
       "      <td>1584</td>\n",
       "      <td>0</td>\n",
       "      <td>1584</td>\n",
       "      <td>1.000000</td>\n",
       "    </tr>\n",
       "    <tr>\n",
       "      <th>2</th>\n",
       "      <td>Free</td>\n",
       "      <td>150055</td>\n",
       "      <td>1</td>\n",
       "      <td>199633</td>\n",
       "      <td>0.751654</td>\n",
       "    </tr>\n",
       "    <tr>\n",
       "      <th>3</th>\n",
       "      <td>Premium</td>\n",
       "      <td>1271</td>\n",
       "      <td>1</td>\n",
       "      <td>1584</td>\n",
       "      <td>0.802399</td>\n",
       "    </tr>\n",
       "    <tr>\n",
       "      <th>4</th>\n",
       "      <td>Free</td>\n",
       "      <td>127507</td>\n",
       "      <td>2</td>\n",
       "      <td>199633</td>\n",
       "      <td>0.638707</td>\n",
       "    </tr>\n",
       "    <tr>\n",
       "      <th>...</th>\n",
       "      <td>...</td>\n",
       "      <td>...</td>\n",
       "      <td>...</td>\n",
       "      <td>...</td>\n",
       "      <td>...</td>\n",
       "    </tr>\n",
       "    <tr>\n",
       "      <th>81</th>\n",
       "      <td>Premium</td>\n",
       "      <td>19</td>\n",
       "      <td>900</td>\n",
       "      <td>1584</td>\n",
       "      <td>0.011995</td>\n",
       "    </tr>\n",
       "    <tr>\n",
       "      <th>82</th>\n",
       "      <td>Free</td>\n",
       "      <td>60</td>\n",
       "      <td>1000</td>\n",
       "      <td>199633</td>\n",
       "      <td>0.000301</td>\n",
       "    </tr>\n",
       "    <tr>\n",
       "      <th>83</th>\n",
       "      <td>Premium</td>\n",
       "      <td>12</td>\n",
       "      <td>1000</td>\n",
       "      <td>1584</td>\n",
       "      <td>0.007576</td>\n",
       "    </tr>\n",
       "    <tr>\n",
       "      <th>84</th>\n",
       "      <td>Free</td>\n",
       "      <td>50</td>\n",
       "      <td>1100</td>\n",
       "      <td>199633</td>\n",
       "      <td>0.000250</td>\n",
       "    </tr>\n",
       "    <tr>\n",
       "      <th>85</th>\n",
       "      <td>Premium</td>\n",
       "      <td>7</td>\n",
       "      <td>1100</td>\n",
       "      <td>1584</td>\n",
       "      <td>0.004419</td>\n",
       "    </tr>\n",
       "  </tbody>\n",
       "</table>\n",
       "<p>86 rows × 5 columns</p>\n",
       "</div>"
      ],
      "text/plain": [
       "   user_category  registered_users  min_orders  category_totals  \\\n",
       "0           Free            199633           0           199633   \n",
       "1        Premium              1584           0             1584   \n",
       "2           Free            150055           1           199633   \n",
       "3        Premium              1271           1             1584   \n",
       "4           Free            127507           2           199633   \n",
       "..           ...               ...         ...              ...   \n",
       "81       Premium                19         900             1584   \n",
       "82          Free                60        1000           199633   \n",
       "83       Premium                12        1000             1584   \n",
       "84          Free                50        1100           199633   \n",
       "85       Premium                 7        1100             1584   \n",
       "\n",
       "    %_registered_users  \n",
       "0             1.000000  \n",
       "1             1.000000  \n",
       "2             0.751654  \n",
       "3             0.802399  \n",
       "4             0.638707  \n",
       "..                 ...  \n",
       "81            0.011995  \n",
       "82            0.000301  \n",
       "83            0.007576  \n",
       "84            0.000250  \n",
       "85            0.004419  \n",
       "\n",
       "[86 rows x 5 columns]"
      ]
     },
     "execution_count": 161,
     "metadata": {},
     "output_type": "execute_result"
    }
   ],
   "source": [
    "graph_df"
   ]
  },
  {
   "cell_type": "code",
   "execution_count": 162,
   "metadata": {
    "scrolled": true
   },
   "outputs": [
    {
     "data": {
      "text/html": [
       "<div>\n",
       "<style scoped>\n",
       "    .dataframe tbody tr th:only-of-type {\n",
       "        vertical-align: middle;\n",
       "    }\n",
       "\n",
       "    .dataframe tbody tr th {\n",
       "        vertical-align: top;\n",
       "    }\n",
       "\n",
       "    .dataframe thead th {\n",
       "        text-align: right;\n",
       "    }\n",
       "</style>\n",
       "<table border=\"1\" class=\"dataframe\">\n",
       "  <thead>\n",
       "    <tr style=\"text-align: right;\">\n",
       "      <th></th>\n",
       "      <th>user_category</th>\n",
       "      <th>min_orders</th>\n",
       "      <th>%_registered_users</th>\n",
       "    </tr>\n",
       "  </thead>\n",
       "  <tbody>\n",
       "    <tr>\n",
       "      <th>0</th>\n",
       "      <td>Free</td>\n",
       "      <td>0</td>\n",
       "      <td>1.000000</td>\n",
       "    </tr>\n",
       "    <tr>\n",
       "      <th>1</th>\n",
       "      <td>Premium</td>\n",
       "      <td>0</td>\n",
       "      <td>1.000000</td>\n",
       "    </tr>\n",
       "    <tr>\n",
       "      <th>2</th>\n",
       "      <td>Free</td>\n",
       "      <td>1</td>\n",
       "      <td>0.751654</td>\n",
       "    </tr>\n",
       "    <tr>\n",
       "      <th>3</th>\n",
       "      <td>Premium</td>\n",
       "      <td>1</td>\n",
       "      <td>0.802399</td>\n",
       "    </tr>\n",
       "    <tr>\n",
       "      <th>4</th>\n",
       "      <td>Free</td>\n",
       "      <td>2</td>\n",
       "      <td>0.638707</td>\n",
       "    </tr>\n",
       "    <tr>\n",
       "      <th>...</th>\n",
       "      <td>...</td>\n",
       "      <td>...</td>\n",
       "      <td>...</td>\n",
       "    </tr>\n",
       "    <tr>\n",
       "      <th>81</th>\n",
       "      <td>Premium</td>\n",
       "      <td>900</td>\n",
       "      <td>0.011995</td>\n",
       "    </tr>\n",
       "    <tr>\n",
       "      <th>82</th>\n",
       "      <td>Free</td>\n",
       "      <td>1000</td>\n",
       "      <td>0.000301</td>\n",
       "    </tr>\n",
       "    <tr>\n",
       "      <th>83</th>\n",
       "      <td>Premium</td>\n",
       "      <td>1000</td>\n",
       "      <td>0.007576</td>\n",
       "    </tr>\n",
       "    <tr>\n",
       "      <th>84</th>\n",
       "      <td>Free</td>\n",
       "      <td>1100</td>\n",
       "      <td>0.000250</td>\n",
       "    </tr>\n",
       "    <tr>\n",
       "      <th>85</th>\n",
       "      <td>Premium</td>\n",
       "      <td>1100</td>\n",
       "      <td>0.004419</td>\n",
       "    </tr>\n",
       "  </tbody>\n",
       "</table>\n",
       "<p>86 rows × 3 columns</p>\n",
       "</div>"
      ],
      "text/plain": [
       "   user_category  min_orders  %_registered_users\n",
       "0           Free           0            1.000000\n",
       "1        Premium           0            1.000000\n",
       "2           Free           1            0.751654\n",
       "3        Premium           1            0.802399\n",
       "4           Free           2            0.638707\n",
       "..           ...         ...                 ...\n",
       "81       Premium         900            0.011995\n",
       "82          Free        1000            0.000301\n",
       "83       Premium        1000            0.007576\n",
       "84          Free        1100            0.000250\n",
       "85       Premium        1100            0.004419\n",
       "\n",
       "[86 rows x 3 columns]"
      ]
     },
     "execution_count": 162,
     "metadata": {},
     "output_type": "execute_result"
    }
   ],
   "source": [
    "graph_df = graph_df.drop(columns=['registered_users','category_totals'])\n",
    "graph_df"
   ]
  },
  {
   "cell_type": "markdown",
   "metadata": {},
   "source": [
    "## visualize data\n"
   ]
  },
  {
   "cell_type": "code",
   "execution_count": 178,
   "metadata": {},
   "outputs": [
    {
     "data": {
      "application/vnd.plotly.v1+json": {
       "config": {
        "plotlyServerURL": "https://plot.ly"
       },
       "data": [
        {
         "name": "Free Customers",
         "type": "scatter",
         "x": [
          0,
          1,
          2,
          3,
          4,
          5,
          6,
          7,
          8,
          10,
          12,
          15,
          20,
          25,
          30,
          35,
          40,
          45,
          50,
          55,
          60,
          70,
          80,
          90,
          100,
          120,
          140,
          160,
          180,
          200,
          250,
          300,
          350,
          400,
          450,
          500,
          550,
          600,
          700,
          800,
          900,
          1000,
          1100
         ],
         "y": [
          1,
          0.7516542856141019,
          0.6387070273952703,
          0.5262256240200769,
          0.4441900888129718,
          0.384029694489388,
          0.3349846969188461,
          0.29975505051769996,
          0.273026002714982,
          0.2329775137377087,
          0.2026869305174996,
          0.1708935897371677,
          0.1341311306246963,
          0.10989165117991515,
          0.09250474620929405,
          0.07908011200553015,
          0.068470643631063,
          0.05990993473022997,
          0.05285198338951977,
          0.04697119213757245,
          0.04233768966052707,
          0.03498920519152645,
          0.029664434236824574,
          0.025672108318764934,
          0.02225083027355197,
          0.01719154648780512,
          0.01383037874499707,
          0.011150461096111364,
          0.009041591320072333,
          0.007498760225012899,
          0.004768750657456433,
          0.0033461401672068244,
          0.0025096051254051184,
          0.001888465333887684,
          0.001482720792654521,
          0.0012122244318324125,
          0.0010268843327505973,
          0.0008265166580675539,
          0.000591084640314978,
          0.0004307905005685433,
          0.0003656710062965542,
          0.0003005515120245651,
          0.0002504595933538042
         ]
        },
        {
         "name": "Free Customers",
         "type": "scatter",
         "x": [
          0,
          1,
          2,
          3,
          4,
          5,
          6,
          7,
          8,
          10,
          12,
          15,
          20,
          25,
          30,
          35,
          40,
          45,
          50,
          55,
          60,
          70,
          80,
          90,
          100,
          120,
          140,
          160,
          180,
          200,
          250,
          300,
          350,
          400,
          450,
          500,
          550,
          600,
          700,
          800,
          900,
          1000,
          1100
         ],
         "y": [
          1,
          0.80239898989899,
          0.7335858585858586,
          0.6875,
          0.6515151515151515,
          0.6136363636363636,
          0.5776515151515151,
          0.5448232323232324,
          0.5075757575757576,
          0.4678030303030303,
          0.43686868686868685,
          0.4008838383838384,
          0.34595959595959597,
          0.3087121212121212,
          0.28724747474747475,
          0.2588383838383838,
          0.2398989898989899,
          0.22853535353535354,
          0.20833333333333334,
          0.20012626262626262,
          0.19381313131313133,
          0.17487373737373738,
          0.16224747474747475,
          0.1433080808080808,
          0.1268939393939394,
          0.10795454545454546,
          0.09659090909090909,
          0.08648989898989899,
          0.07133838383838384,
          0.06628787878787878,
          0.056818181818181816,
          0.046085858585858584,
          0.036616161616161616,
          0.032196969696969696,
          0.028409090909090908,
          0.027146464646464648,
          0.025883838383838384,
          0.02335858585858586,
          0.018308080808080808,
          0.015151515151515152,
          0.011994949494949494,
          0.007575757575757576,
          0.004419191919191919
         ]
        }
       ],
       "layout": {
        "template": {
         "data": {
          "bar": [
           {
            "error_x": {
             "color": "#2a3f5f"
            },
            "error_y": {
             "color": "#2a3f5f"
            },
            "marker": {
             "line": {
              "color": "#E5ECF6",
              "width": 0.5
             },
             "pattern": {
              "fillmode": "overlay",
              "size": 10,
              "solidity": 0.2
             }
            },
            "type": "bar"
           }
          ],
          "barpolar": [
           {
            "marker": {
             "line": {
              "color": "#E5ECF6",
              "width": 0.5
             },
             "pattern": {
              "fillmode": "overlay",
              "size": 10,
              "solidity": 0.2
             }
            },
            "type": "barpolar"
           }
          ],
          "carpet": [
           {
            "aaxis": {
             "endlinecolor": "#2a3f5f",
             "gridcolor": "white",
             "linecolor": "white",
             "minorgridcolor": "white",
             "startlinecolor": "#2a3f5f"
            },
            "baxis": {
             "endlinecolor": "#2a3f5f",
             "gridcolor": "white",
             "linecolor": "white",
             "minorgridcolor": "white",
             "startlinecolor": "#2a3f5f"
            },
            "type": "carpet"
           }
          ],
          "choropleth": [
           {
            "colorbar": {
             "outlinewidth": 0,
             "ticks": ""
            },
            "type": "choropleth"
           }
          ],
          "contour": [
           {
            "colorbar": {
             "outlinewidth": 0,
             "ticks": ""
            },
            "colorscale": [
             [
              0,
              "#0d0887"
             ],
             [
              0.1111111111111111,
              "#46039f"
             ],
             [
              0.2222222222222222,
              "#7201a8"
             ],
             [
              0.3333333333333333,
              "#9c179e"
             ],
             [
              0.4444444444444444,
              "#bd3786"
             ],
             [
              0.5555555555555556,
              "#d8576b"
             ],
             [
              0.6666666666666666,
              "#ed7953"
             ],
             [
              0.7777777777777778,
              "#fb9f3a"
             ],
             [
              0.8888888888888888,
              "#fdca26"
             ],
             [
              1,
              "#f0f921"
             ]
            ],
            "type": "contour"
           }
          ],
          "contourcarpet": [
           {
            "colorbar": {
             "outlinewidth": 0,
             "ticks": ""
            },
            "type": "contourcarpet"
           }
          ],
          "heatmap": [
           {
            "colorbar": {
             "outlinewidth": 0,
             "ticks": ""
            },
            "colorscale": [
             [
              0,
              "#0d0887"
             ],
             [
              0.1111111111111111,
              "#46039f"
             ],
             [
              0.2222222222222222,
              "#7201a8"
             ],
             [
              0.3333333333333333,
              "#9c179e"
             ],
             [
              0.4444444444444444,
              "#bd3786"
             ],
             [
              0.5555555555555556,
              "#d8576b"
             ],
             [
              0.6666666666666666,
              "#ed7953"
             ],
             [
              0.7777777777777778,
              "#fb9f3a"
             ],
             [
              0.8888888888888888,
              "#fdca26"
             ],
             [
              1,
              "#f0f921"
             ]
            ],
            "type": "heatmap"
           }
          ],
          "heatmapgl": [
           {
            "colorbar": {
             "outlinewidth": 0,
             "ticks": ""
            },
            "colorscale": [
             [
              0,
              "#0d0887"
             ],
             [
              0.1111111111111111,
              "#46039f"
             ],
             [
              0.2222222222222222,
              "#7201a8"
             ],
             [
              0.3333333333333333,
              "#9c179e"
             ],
             [
              0.4444444444444444,
              "#bd3786"
             ],
             [
              0.5555555555555556,
              "#d8576b"
             ],
             [
              0.6666666666666666,
              "#ed7953"
             ],
             [
              0.7777777777777778,
              "#fb9f3a"
             ],
             [
              0.8888888888888888,
              "#fdca26"
             ],
             [
              1,
              "#f0f921"
             ]
            ],
            "type": "heatmapgl"
           }
          ],
          "histogram": [
           {
            "marker": {
             "pattern": {
              "fillmode": "overlay",
              "size": 10,
              "solidity": 0.2
             }
            },
            "type": "histogram"
           }
          ],
          "histogram2d": [
           {
            "colorbar": {
             "outlinewidth": 0,
             "ticks": ""
            },
            "colorscale": [
             [
              0,
              "#0d0887"
             ],
             [
              0.1111111111111111,
              "#46039f"
             ],
             [
              0.2222222222222222,
              "#7201a8"
             ],
             [
              0.3333333333333333,
              "#9c179e"
             ],
             [
              0.4444444444444444,
              "#bd3786"
             ],
             [
              0.5555555555555556,
              "#d8576b"
             ],
             [
              0.6666666666666666,
              "#ed7953"
             ],
             [
              0.7777777777777778,
              "#fb9f3a"
             ],
             [
              0.8888888888888888,
              "#fdca26"
             ],
             [
              1,
              "#f0f921"
             ]
            ],
            "type": "histogram2d"
           }
          ],
          "histogram2dcontour": [
           {
            "colorbar": {
             "outlinewidth": 0,
             "ticks": ""
            },
            "colorscale": [
             [
              0,
              "#0d0887"
             ],
             [
              0.1111111111111111,
              "#46039f"
             ],
             [
              0.2222222222222222,
              "#7201a8"
             ],
             [
              0.3333333333333333,
              "#9c179e"
             ],
             [
              0.4444444444444444,
              "#bd3786"
             ],
             [
              0.5555555555555556,
              "#d8576b"
             ],
             [
              0.6666666666666666,
              "#ed7953"
             ],
             [
              0.7777777777777778,
              "#fb9f3a"
             ],
             [
              0.8888888888888888,
              "#fdca26"
             ],
             [
              1,
              "#f0f921"
             ]
            ],
            "type": "histogram2dcontour"
           }
          ],
          "mesh3d": [
           {
            "colorbar": {
             "outlinewidth": 0,
             "ticks": ""
            },
            "type": "mesh3d"
           }
          ],
          "parcoords": [
           {
            "line": {
             "colorbar": {
              "outlinewidth": 0,
              "ticks": ""
             }
            },
            "type": "parcoords"
           }
          ],
          "pie": [
           {
            "automargin": true,
            "type": "pie"
           }
          ],
          "scatter": [
           {
            "fillpattern": {
             "fillmode": "overlay",
             "size": 10,
             "solidity": 0.2
            },
            "type": "scatter"
           }
          ],
          "scatter3d": [
           {
            "line": {
             "colorbar": {
              "outlinewidth": 0,
              "ticks": ""
             }
            },
            "marker": {
             "colorbar": {
              "outlinewidth": 0,
              "ticks": ""
             }
            },
            "type": "scatter3d"
           }
          ],
          "scattercarpet": [
           {
            "marker": {
             "colorbar": {
              "outlinewidth": 0,
              "ticks": ""
             }
            },
            "type": "scattercarpet"
           }
          ],
          "scattergeo": [
           {
            "marker": {
             "colorbar": {
              "outlinewidth": 0,
              "ticks": ""
             }
            },
            "type": "scattergeo"
           }
          ],
          "scattergl": [
           {
            "marker": {
             "colorbar": {
              "outlinewidth": 0,
              "ticks": ""
             }
            },
            "type": "scattergl"
           }
          ],
          "scattermapbox": [
           {
            "marker": {
             "colorbar": {
              "outlinewidth": 0,
              "ticks": ""
             }
            },
            "type": "scattermapbox"
           }
          ],
          "scatterpolar": [
           {
            "marker": {
             "colorbar": {
              "outlinewidth": 0,
              "ticks": ""
             }
            },
            "type": "scatterpolar"
           }
          ],
          "scatterpolargl": [
           {
            "marker": {
             "colorbar": {
              "outlinewidth": 0,
              "ticks": ""
             }
            },
            "type": "scatterpolargl"
           }
          ],
          "scatterternary": [
           {
            "marker": {
             "colorbar": {
              "outlinewidth": 0,
              "ticks": ""
             }
            },
            "type": "scatterternary"
           }
          ],
          "surface": [
           {
            "colorbar": {
             "outlinewidth": 0,
             "ticks": ""
            },
            "colorscale": [
             [
              0,
              "#0d0887"
             ],
             [
              0.1111111111111111,
              "#46039f"
             ],
             [
              0.2222222222222222,
              "#7201a8"
             ],
             [
              0.3333333333333333,
              "#9c179e"
             ],
             [
              0.4444444444444444,
              "#bd3786"
             ],
             [
              0.5555555555555556,
              "#d8576b"
             ],
             [
              0.6666666666666666,
              "#ed7953"
             ],
             [
              0.7777777777777778,
              "#fb9f3a"
             ],
             [
              0.8888888888888888,
              "#fdca26"
             ],
             [
              1,
              "#f0f921"
             ]
            ],
            "type": "surface"
           }
          ],
          "table": [
           {
            "cells": {
             "fill": {
              "color": "#EBF0F8"
             },
             "line": {
              "color": "white"
             }
            },
            "header": {
             "fill": {
              "color": "#C8D4E3"
             },
             "line": {
              "color": "white"
             }
            },
            "type": "table"
           }
          ]
         },
         "layout": {
          "annotationdefaults": {
           "arrowcolor": "#2a3f5f",
           "arrowhead": 0,
           "arrowwidth": 1
          },
          "autotypenumbers": "strict",
          "coloraxis": {
           "colorbar": {
            "outlinewidth": 0,
            "ticks": ""
           }
          },
          "colorscale": {
           "diverging": [
            [
             0,
             "#8e0152"
            ],
            [
             0.1,
             "#c51b7d"
            ],
            [
             0.2,
             "#de77ae"
            ],
            [
             0.3,
             "#f1b6da"
            ],
            [
             0.4,
             "#fde0ef"
            ],
            [
             0.5,
             "#f7f7f7"
            ],
            [
             0.6,
             "#e6f5d0"
            ],
            [
             0.7,
             "#b8e186"
            ],
            [
             0.8,
             "#7fbc41"
            ],
            [
             0.9,
             "#4d9221"
            ],
            [
             1,
             "#276419"
            ]
           ],
           "sequential": [
            [
             0,
             "#0d0887"
            ],
            [
             0.1111111111111111,
             "#46039f"
            ],
            [
             0.2222222222222222,
             "#7201a8"
            ],
            [
             0.3333333333333333,
             "#9c179e"
            ],
            [
             0.4444444444444444,
             "#bd3786"
            ],
            [
             0.5555555555555556,
             "#d8576b"
            ],
            [
             0.6666666666666666,
             "#ed7953"
            ],
            [
             0.7777777777777778,
             "#fb9f3a"
            ],
            [
             0.8888888888888888,
             "#fdca26"
            ],
            [
             1,
             "#f0f921"
            ]
           ],
           "sequentialminus": [
            [
             0,
             "#0d0887"
            ],
            [
             0.1111111111111111,
             "#46039f"
            ],
            [
             0.2222222222222222,
             "#7201a8"
            ],
            [
             0.3333333333333333,
             "#9c179e"
            ],
            [
             0.4444444444444444,
             "#bd3786"
            ],
            [
             0.5555555555555556,
             "#d8576b"
            ],
            [
             0.6666666666666666,
             "#ed7953"
            ],
            [
             0.7777777777777778,
             "#fb9f3a"
            ],
            [
             0.8888888888888888,
             "#fdca26"
            ],
            [
             1,
             "#f0f921"
            ]
           ]
          },
          "colorway": [
           "#636efa",
           "#EF553B",
           "#00cc96",
           "#ab63fa",
           "#FFA15A",
           "#19d3f3",
           "#FF6692",
           "#B6E880",
           "#FF97FF",
           "#FECB52"
          ],
          "font": {
           "color": "#2a3f5f"
          },
          "geo": {
           "bgcolor": "white",
           "lakecolor": "white",
           "landcolor": "#E5ECF6",
           "showlakes": true,
           "showland": true,
           "subunitcolor": "white"
          },
          "hoverlabel": {
           "align": "left"
          },
          "hovermode": "closest",
          "mapbox": {
           "style": "light"
          },
          "paper_bgcolor": "white",
          "plot_bgcolor": "#E5ECF6",
          "polar": {
           "angularaxis": {
            "gridcolor": "white",
            "linecolor": "white",
            "ticks": ""
           },
           "bgcolor": "#E5ECF6",
           "radialaxis": {
            "gridcolor": "white",
            "linecolor": "white",
            "ticks": ""
           }
          },
          "scene": {
           "xaxis": {
            "backgroundcolor": "#E5ECF6",
            "gridcolor": "white",
            "gridwidth": 2,
            "linecolor": "white",
            "showbackground": true,
            "ticks": "",
            "zerolinecolor": "white"
           },
           "yaxis": {
            "backgroundcolor": "#E5ECF6",
            "gridcolor": "white",
            "gridwidth": 2,
            "linecolor": "white",
            "showbackground": true,
            "ticks": "",
            "zerolinecolor": "white"
           },
           "zaxis": {
            "backgroundcolor": "#E5ECF6",
            "gridcolor": "white",
            "gridwidth": 2,
            "linecolor": "white",
            "showbackground": true,
            "ticks": "",
            "zerolinecolor": "white"
           }
          },
          "shapedefaults": {
           "line": {
            "color": "#2a3f5f"
           }
          },
          "ternary": {
           "aaxis": {
            "gridcolor": "white",
            "linecolor": "white",
            "ticks": ""
           },
           "baxis": {
            "gridcolor": "white",
            "linecolor": "white",
            "ticks": ""
           },
           "bgcolor": "#E5ECF6",
           "caxis": {
            "gridcolor": "white",
            "linecolor": "white",
            "ticks": ""
           }
          },
          "title": {
           "x": 0.05
          },
          "xaxis": {
           "automargin": true,
           "gridcolor": "white",
           "linecolor": "white",
           "ticks": "",
           "title": {
            "standoff": 15
           },
           "zerolinecolor": "white",
           "zerolinewidth": 2
          },
          "yaxis": {
           "automargin": true,
           "gridcolor": "white",
           "linecolor": "white",
           "ticks": "",
           "title": {
            "standoff": 15
           },
           "zerolinecolor": "white",
           "zerolinewidth": 2
          }
         }
        }
       }
      },
      "text/html": [
       "<div>                            <div id=\"f0868d37-7fa0-41c7-88e3-50f880d44183\" class=\"plotly-graph-div\" style=\"height:525px; width:100%;\"></div>            <script type=\"text/javascript\">                require([\"plotly\"], function(Plotly) {                    window.PLOTLYENV=window.PLOTLYENV || {};                                    if (document.getElementById(\"f0868d37-7fa0-41c7-88e3-50f880d44183\")) {                    Plotly.newPlot(                        \"f0868d37-7fa0-41c7-88e3-50f880d44183\",                        [{\"name\":\"Free Customers\",\"x\":[0,1,2,3,4,5,6,7,8,10,12,15,20,25,30,35,40,45,50,55,60,70,80,90,100,120,140,160,180,200,250,300,350,400,450,500,550,600,700,800,900,1000,1100],\"y\":[1.0,0.7516542856141019,0.6387070273952703,0.5262256240200769,0.4441900888129718,0.384029694489388,0.3349846969188461,0.29975505051769996,0.273026002714982,0.2329775137377087,0.2026869305174996,0.1708935897371677,0.1341311306246963,0.10989165117991515,0.09250474620929405,0.07908011200553015,0.068470643631063,0.05990993473022997,0.05285198338951977,0.04697119213757245,0.04233768966052707,0.03498920519152645,0.029664434236824574,0.025672108318764934,0.02225083027355197,0.01719154648780512,0.01383037874499707,0.011150461096111364,0.009041591320072333,0.007498760225012899,0.004768750657456433,0.0033461401672068244,0.0025096051254051184,0.001888465333887684,0.001482720792654521,0.0012122244318324125,0.0010268843327505973,0.0008265166580675539,0.000591084640314978,0.0004307905005685433,0.0003656710062965542,0.0003005515120245651,0.0002504595933538042],\"type\":\"scatter\"},{\"name\":\"Free Customers\",\"x\":[0,1,2,3,4,5,6,7,8,10,12,15,20,25,30,35,40,45,50,55,60,70,80,90,100,120,140,160,180,200,250,300,350,400,450,500,550,600,700,800,900,1000,1100],\"y\":[1.0,0.80239898989899,0.7335858585858586,0.6875,0.6515151515151515,0.6136363636363636,0.5776515151515151,0.5448232323232324,0.5075757575757576,0.4678030303030303,0.43686868686868685,0.4008838383838384,0.34595959595959597,0.3087121212121212,0.28724747474747475,0.2588383838383838,0.2398989898989899,0.22853535353535354,0.20833333333333334,0.20012626262626262,0.19381313131313133,0.17487373737373738,0.16224747474747475,0.1433080808080808,0.1268939393939394,0.10795454545454546,0.09659090909090909,0.08648989898989899,0.07133838383838384,0.06628787878787878,0.056818181818181816,0.046085858585858584,0.036616161616161616,0.032196969696969696,0.028409090909090908,0.027146464646464648,0.025883838383838384,0.02335858585858586,0.018308080808080808,0.015151515151515152,0.011994949494949494,0.007575757575757576,0.004419191919191919],\"type\":\"scatter\"}],                        {\"template\":{\"data\":{\"histogram2dcontour\":[{\"type\":\"histogram2dcontour\",\"colorbar\":{\"outlinewidth\":0,\"ticks\":\"\"},\"colorscale\":[[0.0,\"#0d0887\"],[0.1111111111111111,\"#46039f\"],[0.2222222222222222,\"#7201a8\"],[0.3333333333333333,\"#9c179e\"],[0.4444444444444444,\"#bd3786\"],[0.5555555555555556,\"#d8576b\"],[0.6666666666666666,\"#ed7953\"],[0.7777777777777778,\"#fb9f3a\"],[0.8888888888888888,\"#fdca26\"],[1.0,\"#f0f921\"]]}],\"choropleth\":[{\"type\":\"choropleth\",\"colorbar\":{\"outlinewidth\":0,\"ticks\":\"\"}}],\"histogram2d\":[{\"type\":\"histogram2d\",\"colorbar\":{\"outlinewidth\":0,\"ticks\":\"\"},\"colorscale\":[[0.0,\"#0d0887\"],[0.1111111111111111,\"#46039f\"],[0.2222222222222222,\"#7201a8\"],[0.3333333333333333,\"#9c179e\"],[0.4444444444444444,\"#bd3786\"],[0.5555555555555556,\"#d8576b\"],[0.6666666666666666,\"#ed7953\"],[0.7777777777777778,\"#fb9f3a\"],[0.8888888888888888,\"#fdca26\"],[1.0,\"#f0f921\"]]}],\"heatmap\":[{\"type\":\"heatmap\",\"colorbar\":{\"outlinewidth\":0,\"ticks\":\"\"},\"colorscale\":[[0.0,\"#0d0887\"],[0.1111111111111111,\"#46039f\"],[0.2222222222222222,\"#7201a8\"],[0.3333333333333333,\"#9c179e\"],[0.4444444444444444,\"#bd3786\"],[0.5555555555555556,\"#d8576b\"],[0.6666666666666666,\"#ed7953\"],[0.7777777777777778,\"#fb9f3a\"],[0.8888888888888888,\"#fdca26\"],[1.0,\"#f0f921\"]]}],\"heatmapgl\":[{\"type\":\"heatmapgl\",\"colorbar\":{\"outlinewidth\":0,\"ticks\":\"\"},\"colorscale\":[[0.0,\"#0d0887\"],[0.1111111111111111,\"#46039f\"],[0.2222222222222222,\"#7201a8\"],[0.3333333333333333,\"#9c179e\"],[0.4444444444444444,\"#bd3786\"],[0.5555555555555556,\"#d8576b\"],[0.6666666666666666,\"#ed7953\"],[0.7777777777777778,\"#fb9f3a\"],[0.8888888888888888,\"#fdca26\"],[1.0,\"#f0f921\"]]}],\"contourcarpet\":[{\"type\":\"contourcarpet\",\"colorbar\":{\"outlinewidth\":0,\"ticks\":\"\"}}],\"contour\":[{\"type\":\"contour\",\"colorbar\":{\"outlinewidth\":0,\"ticks\":\"\"},\"colorscale\":[[0.0,\"#0d0887\"],[0.1111111111111111,\"#46039f\"],[0.2222222222222222,\"#7201a8\"],[0.3333333333333333,\"#9c179e\"],[0.4444444444444444,\"#bd3786\"],[0.5555555555555556,\"#d8576b\"],[0.6666666666666666,\"#ed7953\"],[0.7777777777777778,\"#fb9f3a\"],[0.8888888888888888,\"#fdca26\"],[1.0,\"#f0f921\"]]}],\"surface\":[{\"type\":\"surface\",\"colorbar\":{\"outlinewidth\":0,\"ticks\":\"\"},\"colorscale\":[[0.0,\"#0d0887\"],[0.1111111111111111,\"#46039f\"],[0.2222222222222222,\"#7201a8\"],[0.3333333333333333,\"#9c179e\"],[0.4444444444444444,\"#bd3786\"],[0.5555555555555556,\"#d8576b\"],[0.6666666666666666,\"#ed7953\"],[0.7777777777777778,\"#fb9f3a\"],[0.8888888888888888,\"#fdca26\"],[1.0,\"#f0f921\"]]}],\"mesh3d\":[{\"type\":\"mesh3d\",\"colorbar\":{\"outlinewidth\":0,\"ticks\":\"\"}}],\"scatter\":[{\"fillpattern\":{\"fillmode\":\"overlay\",\"size\":10,\"solidity\":0.2},\"type\":\"scatter\"}],\"parcoords\":[{\"type\":\"parcoords\",\"line\":{\"colorbar\":{\"outlinewidth\":0,\"ticks\":\"\"}}}],\"scatterpolargl\":[{\"type\":\"scatterpolargl\",\"marker\":{\"colorbar\":{\"outlinewidth\":0,\"ticks\":\"\"}}}],\"bar\":[{\"error_x\":{\"color\":\"#2a3f5f\"},\"error_y\":{\"color\":\"#2a3f5f\"},\"marker\":{\"line\":{\"color\":\"#E5ECF6\",\"width\":0.5},\"pattern\":{\"fillmode\":\"overlay\",\"size\":10,\"solidity\":0.2}},\"type\":\"bar\"}],\"scattergeo\":[{\"type\":\"scattergeo\",\"marker\":{\"colorbar\":{\"outlinewidth\":0,\"ticks\":\"\"}}}],\"scatterpolar\":[{\"type\":\"scatterpolar\",\"marker\":{\"colorbar\":{\"outlinewidth\":0,\"ticks\":\"\"}}}],\"histogram\":[{\"marker\":{\"pattern\":{\"fillmode\":\"overlay\",\"size\":10,\"solidity\":0.2}},\"type\":\"histogram\"}],\"scattergl\":[{\"type\":\"scattergl\",\"marker\":{\"colorbar\":{\"outlinewidth\":0,\"ticks\":\"\"}}}],\"scatter3d\":[{\"type\":\"scatter3d\",\"line\":{\"colorbar\":{\"outlinewidth\":0,\"ticks\":\"\"}},\"marker\":{\"colorbar\":{\"outlinewidth\":0,\"ticks\":\"\"}}}],\"scattermapbox\":[{\"type\":\"scattermapbox\",\"marker\":{\"colorbar\":{\"outlinewidth\":0,\"ticks\":\"\"}}}],\"scatterternary\":[{\"type\":\"scatterternary\",\"marker\":{\"colorbar\":{\"outlinewidth\":0,\"ticks\":\"\"}}}],\"scattercarpet\":[{\"type\":\"scattercarpet\",\"marker\":{\"colorbar\":{\"outlinewidth\":0,\"ticks\":\"\"}}}],\"carpet\":[{\"aaxis\":{\"endlinecolor\":\"#2a3f5f\",\"gridcolor\":\"white\",\"linecolor\":\"white\",\"minorgridcolor\":\"white\",\"startlinecolor\":\"#2a3f5f\"},\"baxis\":{\"endlinecolor\":\"#2a3f5f\",\"gridcolor\":\"white\",\"linecolor\":\"white\",\"minorgridcolor\":\"white\",\"startlinecolor\":\"#2a3f5f\"},\"type\":\"carpet\"}],\"table\":[{\"cells\":{\"fill\":{\"color\":\"#EBF0F8\"},\"line\":{\"color\":\"white\"}},\"header\":{\"fill\":{\"color\":\"#C8D4E3\"},\"line\":{\"color\":\"white\"}},\"type\":\"table\"}],\"barpolar\":[{\"marker\":{\"line\":{\"color\":\"#E5ECF6\",\"width\":0.5},\"pattern\":{\"fillmode\":\"overlay\",\"size\":10,\"solidity\":0.2}},\"type\":\"barpolar\"}],\"pie\":[{\"automargin\":true,\"type\":\"pie\"}]},\"layout\":{\"autotypenumbers\":\"strict\",\"colorway\":[\"#636efa\",\"#EF553B\",\"#00cc96\",\"#ab63fa\",\"#FFA15A\",\"#19d3f3\",\"#FF6692\",\"#B6E880\",\"#FF97FF\",\"#FECB52\"],\"font\":{\"color\":\"#2a3f5f\"},\"hovermode\":\"closest\",\"hoverlabel\":{\"align\":\"left\"},\"paper_bgcolor\":\"white\",\"plot_bgcolor\":\"#E5ECF6\",\"polar\":{\"bgcolor\":\"#E5ECF6\",\"angularaxis\":{\"gridcolor\":\"white\",\"linecolor\":\"white\",\"ticks\":\"\"},\"radialaxis\":{\"gridcolor\":\"white\",\"linecolor\":\"white\",\"ticks\":\"\"}},\"ternary\":{\"bgcolor\":\"#E5ECF6\",\"aaxis\":{\"gridcolor\":\"white\",\"linecolor\":\"white\",\"ticks\":\"\"},\"baxis\":{\"gridcolor\":\"white\",\"linecolor\":\"white\",\"ticks\":\"\"},\"caxis\":{\"gridcolor\":\"white\",\"linecolor\":\"white\",\"ticks\":\"\"}},\"coloraxis\":{\"colorbar\":{\"outlinewidth\":0,\"ticks\":\"\"}},\"colorscale\":{\"sequential\":[[0.0,\"#0d0887\"],[0.1111111111111111,\"#46039f\"],[0.2222222222222222,\"#7201a8\"],[0.3333333333333333,\"#9c179e\"],[0.4444444444444444,\"#bd3786\"],[0.5555555555555556,\"#d8576b\"],[0.6666666666666666,\"#ed7953\"],[0.7777777777777778,\"#fb9f3a\"],[0.8888888888888888,\"#fdca26\"],[1.0,\"#f0f921\"]],\"sequentialminus\":[[0.0,\"#0d0887\"],[0.1111111111111111,\"#46039f\"],[0.2222222222222222,\"#7201a8\"],[0.3333333333333333,\"#9c179e\"],[0.4444444444444444,\"#bd3786\"],[0.5555555555555556,\"#d8576b\"],[0.6666666666666666,\"#ed7953\"],[0.7777777777777778,\"#fb9f3a\"],[0.8888888888888888,\"#fdca26\"],[1.0,\"#f0f921\"]],\"diverging\":[[0,\"#8e0152\"],[0.1,\"#c51b7d\"],[0.2,\"#de77ae\"],[0.3,\"#f1b6da\"],[0.4,\"#fde0ef\"],[0.5,\"#f7f7f7\"],[0.6,\"#e6f5d0\"],[0.7,\"#b8e186\"],[0.8,\"#7fbc41\"],[0.9,\"#4d9221\"],[1,\"#276419\"]]},\"xaxis\":{\"gridcolor\":\"white\",\"linecolor\":\"white\",\"ticks\":\"\",\"title\":{\"standoff\":15},\"zerolinecolor\":\"white\",\"automargin\":true,\"zerolinewidth\":2},\"yaxis\":{\"gridcolor\":\"white\",\"linecolor\":\"white\",\"ticks\":\"\",\"title\":{\"standoff\":15},\"zerolinecolor\":\"white\",\"automargin\":true,\"zerolinewidth\":2},\"scene\":{\"xaxis\":{\"backgroundcolor\":\"#E5ECF6\",\"gridcolor\":\"white\",\"linecolor\":\"white\",\"showbackground\":true,\"ticks\":\"\",\"zerolinecolor\":\"white\",\"gridwidth\":2},\"yaxis\":{\"backgroundcolor\":\"#E5ECF6\",\"gridcolor\":\"white\",\"linecolor\":\"white\",\"showbackground\":true,\"ticks\":\"\",\"zerolinecolor\":\"white\",\"gridwidth\":2},\"zaxis\":{\"backgroundcolor\":\"#E5ECF6\",\"gridcolor\":\"white\",\"linecolor\":\"white\",\"showbackground\":true,\"ticks\":\"\",\"zerolinecolor\":\"white\",\"gridwidth\":2}},\"shapedefaults\":{\"line\":{\"color\":\"#2a3f5f\"}},\"annotationdefaults\":{\"arrowcolor\":\"#2a3f5f\",\"arrowhead\":0,\"arrowwidth\":1},\"geo\":{\"bgcolor\":\"white\",\"landcolor\":\"#E5ECF6\",\"subunitcolor\":\"white\",\"showland\":true,\"showlakes\":true,\"lakecolor\":\"white\"},\"title\":{\"x\":0.05},\"mapbox\":{\"style\":\"light\"}}}},                        {\"responsive\": true}                    ).then(function(){\n",
       "                            \n",
       "var gd = document.getElementById('f0868d37-7fa0-41c7-88e3-50f880d44183');\n",
       "var x = new MutationObserver(function (mutations, observer) {{\n",
       "        var display = window.getComputedStyle(gd).display;\n",
       "        if (!display || display === 'none') {{\n",
       "            console.log([gd, 'removed!']);\n",
       "            Plotly.purge(gd);\n",
       "            observer.disconnect();\n",
       "        }}\n",
       "}});\n",
       "\n",
       "// Listen for the removal of the full notebook cells\n",
       "var notebookContainer = gd.closest('#notebook-container');\n",
       "if (notebookContainer) {{\n",
       "    x.observe(notebookContainer, {childList: true});\n",
       "}}\n",
       "\n",
       "// Listen for the clearing of the current output cell\n",
       "var outputEl = gd.closest('.output');\n",
       "if (outputEl) {{\n",
       "    x.observe(outputEl, {childList: true});\n",
       "}}\n",
       "\n",
       "                        })                };                });            </script>        </div>"
      ]
     },
     "metadata": {},
     "output_type": "display_data"
    }
   ],
   "source": [
    "fig = go.Figure()\n",
    "\n",
    "fig.add_trace(go.Scatter(x=graph_df.loc[graph_df['user_category']== 'Free','min_orders'],\n",
    "                        y = graph_df.loc[graph_df['user_category']=='Free','%_registered_users'],\n",
    "                        name = 'Free Customers'))\n",
    "\n",
    "fig.add_trace(go.Scatter(x=graph_df.loc[graph_df['user_category']== 'Premium','min_orders'],\n",
    "                        y = graph_df.loc[graph_df['user_category']=='Premium','%_registered_users'],\n",
    "                        name = 'Free Customers'))\n",
    "\n",
    "fig.show()"
   ]
  },
  {
   "cell_type": "code",
   "execution_count": 184,
   "metadata": {},
   "outputs": [
    {
     "data": {
      "application/vnd.plotly.v1+json": {
       "config": {
        "plotlyServerURL": "https://plot.ly"
       },
       "data": [
        {
         "mode": "markers+lines",
         "name": "FreeUsers",
         "type": "scatter",
         "x": [
          0,
          1,
          2,
          3,
          4,
          5,
          6,
          7,
          8,
          10,
          12,
          15,
          20,
          25,
          30,
          35,
          40,
          45,
          50,
          55,
          60,
          70,
          80,
          90,
          100,
          120,
          140,
          160,
          180,
          200,
          250,
          300,
          350,
          400,
          450,
          500,
          550,
          600,
          700,
          800,
          900,
          1000,
          1100
         ],
         "y": [
          1,
          0.7516542856141019,
          0.6387070273952703,
          0.5262256240200769,
          0.4441900888129718,
          0.384029694489388,
          0.3349846969188461,
          0.29975505051769996,
          0.273026002714982,
          0.2329775137377087,
          0.2026869305174996,
          0.1708935897371677,
          0.1341311306246963,
          0.10989165117991515,
          0.09250474620929405,
          0.07908011200553015,
          0.068470643631063,
          0.05990993473022997,
          0.05285198338951977,
          0.04697119213757245,
          0.04233768966052707,
          0.03498920519152645,
          0.029664434236824574,
          0.025672108318764934,
          0.02225083027355197,
          0.01719154648780512,
          0.01383037874499707,
          0.011150461096111364,
          0.009041591320072333,
          0.007498760225012899,
          0.004768750657456433,
          0.0033461401672068244,
          0.0025096051254051184,
          0.001888465333887684,
          0.001482720792654521,
          0.0012122244318324125,
          0.0010268843327505973,
          0.0008265166580675539,
          0.000591084640314978,
          0.0004307905005685433,
          0.0003656710062965542,
          0.0003005515120245651,
          0.0002504595933538042
         ]
        },
        {
         "mode": "markers+lines",
         "name": "PremiumUsers",
         "type": "scatter",
         "x": [
          0,
          1,
          2,
          3,
          4,
          5,
          6,
          7,
          8,
          10,
          12,
          15,
          20,
          25,
          30,
          35,
          40,
          45,
          50,
          55,
          60,
          70,
          80,
          90,
          100,
          120,
          140,
          160,
          180,
          200,
          250,
          300,
          350,
          400,
          450,
          500,
          550,
          600,
          700,
          800,
          900,
          1000,
          1100
         ],
         "y": [
          1,
          0.80239898989899,
          0.7335858585858586,
          0.6875,
          0.6515151515151515,
          0.6136363636363636,
          0.5776515151515151,
          0.5448232323232324,
          0.5075757575757576,
          0.4678030303030303,
          0.43686868686868685,
          0.4008838383838384,
          0.34595959595959597,
          0.3087121212121212,
          0.28724747474747475,
          0.2588383838383838,
          0.2398989898989899,
          0.22853535353535354,
          0.20833333333333334,
          0.20012626262626262,
          0.19381313131313133,
          0.17487373737373738,
          0.16224747474747475,
          0.1433080808080808,
          0.1268939393939394,
          0.10795454545454546,
          0.09659090909090909,
          0.08648989898989899,
          0.07133838383838384,
          0.06628787878787878,
          0.056818181818181816,
          0.046085858585858584,
          0.036616161616161616,
          0.032196969696969696,
          0.028409090909090908,
          0.027146464646464648,
          0.025883838383838384,
          0.02335858585858586,
          0.018308080808080808,
          0.015151515151515152,
          0.011994949494949494,
          0.007575757575757576,
          0.004419191919191919
         ]
        }
       ],
       "layout": {
        "hovermode": "x unified",
        "template": {
         "data": {
          "bar": [
           {
            "error_x": {
             "color": "#2a3f5f"
            },
            "error_y": {
             "color": "#2a3f5f"
            },
            "marker": {
             "line": {
              "color": "#E5ECF6",
              "width": 0.5
             },
             "pattern": {
              "fillmode": "overlay",
              "size": 10,
              "solidity": 0.2
             }
            },
            "type": "bar"
           }
          ],
          "barpolar": [
           {
            "marker": {
             "line": {
              "color": "#E5ECF6",
              "width": 0.5
             },
             "pattern": {
              "fillmode": "overlay",
              "size": 10,
              "solidity": 0.2
             }
            },
            "type": "barpolar"
           }
          ],
          "carpet": [
           {
            "aaxis": {
             "endlinecolor": "#2a3f5f",
             "gridcolor": "white",
             "linecolor": "white",
             "minorgridcolor": "white",
             "startlinecolor": "#2a3f5f"
            },
            "baxis": {
             "endlinecolor": "#2a3f5f",
             "gridcolor": "white",
             "linecolor": "white",
             "minorgridcolor": "white",
             "startlinecolor": "#2a3f5f"
            },
            "type": "carpet"
           }
          ],
          "choropleth": [
           {
            "colorbar": {
             "outlinewidth": 0,
             "ticks": ""
            },
            "type": "choropleth"
           }
          ],
          "contour": [
           {
            "colorbar": {
             "outlinewidth": 0,
             "ticks": ""
            },
            "colorscale": [
             [
              0,
              "#0d0887"
             ],
             [
              0.1111111111111111,
              "#46039f"
             ],
             [
              0.2222222222222222,
              "#7201a8"
             ],
             [
              0.3333333333333333,
              "#9c179e"
             ],
             [
              0.4444444444444444,
              "#bd3786"
             ],
             [
              0.5555555555555556,
              "#d8576b"
             ],
             [
              0.6666666666666666,
              "#ed7953"
             ],
             [
              0.7777777777777778,
              "#fb9f3a"
             ],
             [
              0.8888888888888888,
              "#fdca26"
             ],
             [
              1,
              "#f0f921"
             ]
            ],
            "type": "contour"
           }
          ],
          "contourcarpet": [
           {
            "colorbar": {
             "outlinewidth": 0,
             "ticks": ""
            },
            "type": "contourcarpet"
           }
          ],
          "heatmap": [
           {
            "colorbar": {
             "outlinewidth": 0,
             "ticks": ""
            },
            "colorscale": [
             [
              0,
              "#0d0887"
             ],
             [
              0.1111111111111111,
              "#46039f"
             ],
             [
              0.2222222222222222,
              "#7201a8"
             ],
             [
              0.3333333333333333,
              "#9c179e"
             ],
             [
              0.4444444444444444,
              "#bd3786"
             ],
             [
              0.5555555555555556,
              "#d8576b"
             ],
             [
              0.6666666666666666,
              "#ed7953"
             ],
             [
              0.7777777777777778,
              "#fb9f3a"
             ],
             [
              0.8888888888888888,
              "#fdca26"
             ],
             [
              1,
              "#f0f921"
             ]
            ],
            "type": "heatmap"
           }
          ],
          "heatmapgl": [
           {
            "colorbar": {
             "outlinewidth": 0,
             "ticks": ""
            },
            "colorscale": [
             [
              0,
              "#0d0887"
             ],
             [
              0.1111111111111111,
              "#46039f"
             ],
             [
              0.2222222222222222,
              "#7201a8"
             ],
             [
              0.3333333333333333,
              "#9c179e"
             ],
             [
              0.4444444444444444,
              "#bd3786"
             ],
             [
              0.5555555555555556,
              "#d8576b"
             ],
             [
              0.6666666666666666,
              "#ed7953"
             ],
             [
              0.7777777777777778,
              "#fb9f3a"
             ],
             [
              0.8888888888888888,
              "#fdca26"
             ],
             [
              1,
              "#f0f921"
             ]
            ],
            "type": "heatmapgl"
           }
          ],
          "histogram": [
           {
            "marker": {
             "pattern": {
              "fillmode": "overlay",
              "size": 10,
              "solidity": 0.2
             }
            },
            "type": "histogram"
           }
          ],
          "histogram2d": [
           {
            "colorbar": {
             "outlinewidth": 0,
             "ticks": ""
            },
            "colorscale": [
             [
              0,
              "#0d0887"
             ],
             [
              0.1111111111111111,
              "#46039f"
             ],
             [
              0.2222222222222222,
              "#7201a8"
             ],
             [
              0.3333333333333333,
              "#9c179e"
             ],
             [
              0.4444444444444444,
              "#bd3786"
             ],
             [
              0.5555555555555556,
              "#d8576b"
             ],
             [
              0.6666666666666666,
              "#ed7953"
             ],
             [
              0.7777777777777778,
              "#fb9f3a"
             ],
             [
              0.8888888888888888,
              "#fdca26"
             ],
             [
              1,
              "#f0f921"
             ]
            ],
            "type": "histogram2d"
           }
          ],
          "histogram2dcontour": [
           {
            "colorbar": {
             "outlinewidth": 0,
             "ticks": ""
            },
            "colorscale": [
             [
              0,
              "#0d0887"
             ],
             [
              0.1111111111111111,
              "#46039f"
             ],
             [
              0.2222222222222222,
              "#7201a8"
             ],
             [
              0.3333333333333333,
              "#9c179e"
             ],
             [
              0.4444444444444444,
              "#bd3786"
             ],
             [
              0.5555555555555556,
              "#d8576b"
             ],
             [
              0.6666666666666666,
              "#ed7953"
             ],
             [
              0.7777777777777778,
              "#fb9f3a"
             ],
             [
              0.8888888888888888,
              "#fdca26"
             ],
             [
              1,
              "#f0f921"
             ]
            ],
            "type": "histogram2dcontour"
           }
          ],
          "mesh3d": [
           {
            "colorbar": {
             "outlinewidth": 0,
             "ticks": ""
            },
            "type": "mesh3d"
           }
          ],
          "parcoords": [
           {
            "line": {
             "colorbar": {
              "outlinewidth": 0,
              "ticks": ""
             }
            },
            "type": "parcoords"
           }
          ],
          "pie": [
           {
            "automargin": true,
            "type": "pie"
           }
          ],
          "scatter": [
           {
            "fillpattern": {
             "fillmode": "overlay",
             "size": 10,
             "solidity": 0.2
            },
            "type": "scatter"
           }
          ],
          "scatter3d": [
           {
            "line": {
             "colorbar": {
              "outlinewidth": 0,
              "ticks": ""
             }
            },
            "marker": {
             "colorbar": {
              "outlinewidth": 0,
              "ticks": ""
             }
            },
            "type": "scatter3d"
           }
          ],
          "scattercarpet": [
           {
            "marker": {
             "colorbar": {
              "outlinewidth": 0,
              "ticks": ""
             }
            },
            "type": "scattercarpet"
           }
          ],
          "scattergeo": [
           {
            "marker": {
             "colorbar": {
              "outlinewidth": 0,
              "ticks": ""
             }
            },
            "type": "scattergeo"
           }
          ],
          "scattergl": [
           {
            "marker": {
             "colorbar": {
              "outlinewidth": 0,
              "ticks": ""
             }
            },
            "type": "scattergl"
           }
          ],
          "scattermapbox": [
           {
            "marker": {
             "colorbar": {
              "outlinewidth": 0,
              "ticks": ""
             }
            },
            "type": "scattermapbox"
           }
          ],
          "scatterpolar": [
           {
            "marker": {
             "colorbar": {
              "outlinewidth": 0,
              "ticks": ""
             }
            },
            "type": "scatterpolar"
           }
          ],
          "scatterpolargl": [
           {
            "marker": {
             "colorbar": {
              "outlinewidth": 0,
              "ticks": ""
             }
            },
            "type": "scatterpolargl"
           }
          ],
          "scatterternary": [
           {
            "marker": {
             "colorbar": {
              "outlinewidth": 0,
              "ticks": ""
             }
            },
            "type": "scatterternary"
           }
          ],
          "surface": [
           {
            "colorbar": {
             "outlinewidth": 0,
             "ticks": ""
            },
            "colorscale": [
             [
              0,
              "#0d0887"
             ],
             [
              0.1111111111111111,
              "#46039f"
             ],
             [
              0.2222222222222222,
              "#7201a8"
             ],
             [
              0.3333333333333333,
              "#9c179e"
             ],
             [
              0.4444444444444444,
              "#bd3786"
             ],
             [
              0.5555555555555556,
              "#d8576b"
             ],
             [
              0.6666666666666666,
              "#ed7953"
             ],
             [
              0.7777777777777778,
              "#fb9f3a"
             ],
             [
              0.8888888888888888,
              "#fdca26"
             ],
             [
              1,
              "#f0f921"
             ]
            ],
            "type": "surface"
           }
          ],
          "table": [
           {
            "cells": {
             "fill": {
              "color": "#EBF0F8"
             },
             "line": {
              "color": "white"
             }
            },
            "header": {
             "fill": {
              "color": "#C8D4E3"
             },
             "line": {
              "color": "white"
             }
            },
            "type": "table"
           }
          ]
         },
         "layout": {
          "annotationdefaults": {
           "arrowcolor": "#2a3f5f",
           "arrowhead": 0,
           "arrowwidth": 1
          },
          "autotypenumbers": "strict",
          "coloraxis": {
           "colorbar": {
            "outlinewidth": 0,
            "ticks": ""
           }
          },
          "colorscale": {
           "diverging": [
            [
             0,
             "#8e0152"
            ],
            [
             0.1,
             "#c51b7d"
            ],
            [
             0.2,
             "#de77ae"
            ],
            [
             0.3,
             "#f1b6da"
            ],
            [
             0.4,
             "#fde0ef"
            ],
            [
             0.5,
             "#f7f7f7"
            ],
            [
             0.6,
             "#e6f5d0"
            ],
            [
             0.7,
             "#b8e186"
            ],
            [
             0.8,
             "#7fbc41"
            ],
            [
             0.9,
             "#4d9221"
            ],
            [
             1,
             "#276419"
            ]
           ],
           "sequential": [
            [
             0,
             "#0d0887"
            ],
            [
             0.1111111111111111,
             "#46039f"
            ],
            [
             0.2222222222222222,
             "#7201a8"
            ],
            [
             0.3333333333333333,
             "#9c179e"
            ],
            [
             0.4444444444444444,
             "#bd3786"
            ],
            [
             0.5555555555555556,
             "#d8576b"
            ],
            [
             0.6666666666666666,
             "#ed7953"
            ],
            [
             0.7777777777777778,
             "#fb9f3a"
            ],
            [
             0.8888888888888888,
             "#fdca26"
            ],
            [
             1,
             "#f0f921"
            ]
           ],
           "sequentialminus": [
            [
             0,
             "#0d0887"
            ],
            [
             0.1111111111111111,
             "#46039f"
            ],
            [
             0.2222222222222222,
             "#7201a8"
            ],
            [
             0.3333333333333333,
             "#9c179e"
            ],
            [
             0.4444444444444444,
             "#bd3786"
            ],
            [
             0.5555555555555556,
             "#d8576b"
            ],
            [
             0.6666666666666666,
             "#ed7953"
            ],
            [
             0.7777777777777778,
             "#fb9f3a"
            ],
            [
             0.8888888888888888,
             "#fdca26"
            ],
            [
             1,
             "#f0f921"
            ]
           ]
          },
          "colorway": [
           "#636efa",
           "#EF553B",
           "#00cc96",
           "#ab63fa",
           "#FFA15A",
           "#19d3f3",
           "#FF6692",
           "#B6E880",
           "#FF97FF",
           "#FECB52"
          ],
          "font": {
           "color": "#2a3f5f"
          },
          "geo": {
           "bgcolor": "white",
           "lakecolor": "white",
           "landcolor": "#E5ECF6",
           "showlakes": true,
           "showland": true,
           "subunitcolor": "white"
          },
          "hoverlabel": {
           "align": "left"
          },
          "hovermode": "closest",
          "mapbox": {
           "style": "light"
          },
          "paper_bgcolor": "white",
          "plot_bgcolor": "#E5ECF6",
          "polar": {
           "angularaxis": {
            "gridcolor": "white",
            "linecolor": "white",
            "ticks": ""
           },
           "bgcolor": "#E5ECF6",
           "radialaxis": {
            "gridcolor": "white",
            "linecolor": "white",
            "ticks": ""
           }
          },
          "scene": {
           "xaxis": {
            "backgroundcolor": "#E5ECF6",
            "gridcolor": "white",
            "gridwidth": 2,
            "linecolor": "white",
            "showbackground": true,
            "ticks": "",
            "zerolinecolor": "white"
           },
           "yaxis": {
            "backgroundcolor": "#E5ECF6",
            "gridcolor": "white",
            "gridwidth": 2,
            "linecolor": "white",
            "showbackground": true,
            "ticks": "",
            "zerolinecolor": "white"
           },
           "zaxis": {
            "backgroundcolor": "#E5ECF6",
            "gridcolor": "white",
            "gridwidth": 2,
            "linecolor": "white",
            "showbackground": true,
            "ticks": "",
            "zerolinecolor": "white"
           }
          },
          "shapedefaults": {
           "line": {
            "color": "#2a3f5f"
           }
          },
          "ternary": {
           "aaxis": {
            "gridcolor": "white",
            "linecolor": "white",
            "ticks": ""
           },
           "baxis": {
            "gridcolor": "white",
            "linecolor": "white",
            "ticks": ""
           },
           "bgcolor": "#E5ECF6",
           "caxis": {
            "gridcolor": "white",
            "linecolor": "white",
            "ticks": ""
           }
          },
          "title": {
           "x": 0.05
          },
          "xaxis": {
           "automargin": true,
           "gridcolor": "white",
           "linecolor": "white",
           "ticks": "",
           "title": {
            "standoff": 15
           },
           "zerolinecolor": "white",
           "zerolinewidth": 2
          },
          "yaxis": {
           "automargin": true,
           "gridcolor": "white",
           "linecolor": "white",
           "ticks": "",
           "title": {
            "standoff": 15
           },
           "zerolinecolor": "white",
           "zerolinewidth": 2
          }
         }
        },
        "xaxis": {
         "title": {
          "text": "Minimum Total Orders"
         }
        },
        "yaxis": {
         "title": {
          "text": "% of registered users who ordered 0times"
         }
        }
       }
      },
      "text/html": [
       "<div>                            <div id=\"4c3f8c4e-46bb-4b03-94d9-c8183bcfaf63\" class=\"plotly-graph-div\" style=\"height:525px; width:100%;\"></div>            <script type=\"text/javascript\">                require([\"plotly\"], function(Plotly) {                    window.PLOTLYENV=window.PLOTLYENV || {};                                    if (document.getElementById(\"4c3f8c4e-46bb-4b03-94d9-c8183bcfaf63\")) {                    Plotly.newPlot(                        \"4c3f8c4e-46bb-4b03-94d9-c8183bcfaf63\",                        [{\"name\":\"FreeUsers\",\"x\":[0,1,2,3,4,5,6,7,8,10,12,15,20,25,30,35,40,45,50,55,60,70,80,90,100,120,140,160,180,200,250,300,350,400,450,500,550,600,700,800,900,1000,1100],\"y\":[1.0,0.7516542856141019,0.6387070273952703,0.5262256240200769,0.4441900888129718,0.384029694489388,0.3349846969188461,0.29975505051769996,0.273026002714982,0.2329775137377087,0.2026869305174996,0.1708935897371677,0.1341311306246963,0.10989165117991515,0.09250474620929405,0.07908011200553015,0.068470643631063,0.05990993473022997,0.05285198338951977,0.04697119213757245,0.04233768966052707,0.03498920519152645,0.029664434236824574,0.025672108318764934,0.02225083027355197,0.01719154648780512,0.01383037874499707,0.011150461096111364,0.009041591320072333,0.007498760225012899,0.004768750657456433,0.0033461401672068244,0.0025096051254051184,0.001888465333887684,0.001482720792654521,0.0012122244318324125,0.0010268843327505973,0.0008265166580675539,0.000591084640314978,0.0004307905005685433,0.0003656710062965542,0.0003005515120245651,0.0002504595933538042],\"type\":\"scatter\",\"mode\":\"markers+lines\"},{\"name\":\"PremiumUsers\",\"x\":[0,1,2,3,4,5,6,7,8,10,12,15,20,25,30,35,40,45,50,55,60,70,80,90,100,120,140,160,180,200,250,300,350,400,450,500,550,600,700,800,900,1000,1100],\"y\":[1.0,0.80239898989899,0.7335858585858586,0.6875,0.6515151515151515,0.6136363636363636,0.5776515151515151,0.5448232323232324,0.5075757575757576,0.4678030303030303,0.43686868686868685,0.4008838383838384,0.34595959595959597,0.3087121212121212,0.28724747474747475,0.2588383838383838,0.2398989898989899,0.22853535353535354,0.20833333333333334,0.20012626262626262,0.19381313131313133,0.17487373737373738,0.16224747474747475,0.1433080808080808,0.1268939393939394,0.10795454545454546,0.09659090909090909,0.08648989898989899,0.07133838383838384,0.06628787878787878,0.056818181818181816,0.046085858585858584,0.036616161616161616,0.032196969696969696,0.028409090909090908,0.027146464646464648,0.025883838383838384,0.02335858585858586,0.018308080808080808,0.015151515151515152,0.011994949494949494,0.007575757575757576,0.004419191919191919],\"type\":\"scatter\",\"mode\":\"markers+lines\"}],                        {\"template\":{\"data\":{\"histogram2dcontour\":[{\"type\":\"histogram2dcontour\",\"colorbar\":{\"outlinewidth\":0,\"ticks\":\"\"},\"colorscale\":[[0.0,\"#0d0887\"],[0.1111111111111111,\"#46039f\"],[0.2222222222222222,\"#7201a8\"],[0.3333333333333333,\"#9c179e\"],[0.4444444444444444,\"#bd3786\"],[0.5555555555555556,\"#d8576b\"],[0.6666666666666666,\"#ed7953\"],[0.7777777777777778,\"#fb9f3a\"],[0.8888888888888888,\"#fdca26\"],[1.0,\"#f0f921\"]]}],\"choropleth\":[{\"type\":\"choropleth\",\"colorbar\":{\"outlinewidth\":0,\"ticks\":\"\"}}],\"histogram2d\":[{\"type\":\"histogram2d\",\"colorbar\":{\"outlinewidth\":0,\"ticks\":\"\"},\"colorscale\":[[0.0,\"#0d0887\"],[0.1111111111111111,\"#46039f\"],[0.2222222222222222,\"#7201a8\"],[0.3333333333333333,\"#9c179e\"],[0.4444444444444444,\"#bd3786\"],[0.5555555555555556,\"#d8576b\"],[0.6666666666666666,\"#ed7953\"],[0.7777777777777778,\"#fb9f3a\"],[0.8888888888888888,\"#fdca26\"],[1.0,\"#f0f921\"]]}],\"heatmap\":[{\"type\":\"heatmap\",\"colorbar\":{\"outlinewidth\":0,\"ticks\":\"\"},\"colorscale\":[[0.0,\"#0d0887\"],[0.1111111111111111,\"#46039f\"],[0.2222222222222222,\"#7201a8\"],[0.3333333333333333,\"#9c179e\"],[0.4444444444444444,\"#bd3786\"],[0.5555555555555556,\"#d8576b\"],[0.6666666666666666,\"#ed7953\"],[0.7777777777777778,\"#fb9f3a\"],[0.8888888888888888,\"#fdca26\"],[1.0,\"#f0f921\"]]}],\"heatmapgl\":[{\"type\":\"heatmapgl\",\"colorbar\":{\"outlinewidth\":0,\"ticks\":\"\"},\"colorscale\":[[0.0,\"#0d0887\"],[0.1111111111111111,\"#46039f\"],[0.2222222222222222,\"#7201a8\"],[0.3333333333333333,\"#9c179e\"],[0.4444444444444444,\"#bd3786\"],[0.5555555555555556,\"#d8576b\"],[0.6666666666666666,\"#ed7953\"],[0.7777777777777778,\"#fb9f3a\"],[0.8888888888888888,\"#fdca26\"],[1.0,\"#f0f921\"]]}],\"contourcarpet\":[{\"type\":\"contourcarpet\",\"colorbar\":{\"outlinewidth\":0,\"ticks\":\"\"}}],\"contour\":[{\"type\":\"contour\",\"colorbar\":{\"outlinewidth\":0,\"ticks\":\"\"},\"colorscale\":[[0.0,\"#0d0887\"],[0.1111111111111111,\"#46039f\"],[0.2222222222222222,\"#7201a8\"],[0.3333333333333333,\"#9c179e\"],[0.4444444444444444,\"#bd3786\"],[0.5555555555555556,\"#d8576b\"],[0.6666666666666666,\"#ed7953\"],[0.7777777777777778,\"#fb9f3a\"],[0.8888888888888888,\"#fdca26\"],[1.0,\"#f0f921\"]]}],\"surface\":[{\"type\":\"surface\",\"colorbar\":{\"outlinewidth\":0,\"ticks\":\"\"},\"colorscale\":[[0.0,\"#0d0887\"],[0.1111111111111111,\"#46039f\"],[0.2222222222222222,\"#7201a8\"],[0.3333333333333333,\"#9c179e\"],[0.4444444444444444,\"#bd3786\"],[0.5555555555555556,\"#d8576b\"],[0.6666666666666666,\"#ed7953\"],[0.7777777777777778,\"#fb9f3a\"],[0.8888888888888888,\"#fdca26\"],[1.0,\"#f0f921\"]]}],\"mesh3d\":[{\"type\":\"mesh3d\",\"colorbar\":{\"outlinewidth\":0,\"ticks\":\"\"}}],\"scatter\":[{\"fillpattern\":{\"fillmode\":\"overlay\",\"size\":10,\"solidity\":0.2},\"type\":\"scatter\"}],\"parcoords\":[{\"type\":\"parcoords\",\"line\":{\"colorbar\":{\"outlinewidth\":0,\"ticks\":\"\"}}}],\"scatterpolargl\":[{\"type\":\"scatterpolargl\",\"marker\":{\"colorbar\":{\"outlinewidth\":0,\"ticks\":\"\"}}}],\"bar\":[{\"error_x\":{\"color\":\"#2a3f5f\"},\"error_y\":{\"color\":\"#2a3f5f\"},\"marker\":{\"line\":{\"color\":\"#E5ECF6\",\"width\":0.5},\"pattern\":{\"fillmode\":\"overlay\",\"size\":10,\"solidity\":0.2}},\"type\":\"bar\"}],\"scattergeo\":[{\"type\":\"scattergeo\",\"marker\":{\"colorbar\":{\"outlinewidth\":0,\"ticks\":\"\"}}}],\"scatterpolar\":[{\"type\":\"scatterpolar\",\"marker\":{\"colorbar\":{\"outlinewidth\":0,\"ticks\":\"\"}}}],\"histogram\":[{\"marker\":{\"pattern\":{\"fillmode\":\"overlay\",\"size\":10,\"solidity\":0.2}},\"type\":\"histogram\"}],\"scattergl\":[{\"type\":\"scattergl\",\"marker\":{\"colorbar\":{\"outlinewidth\":0,\"ticks\":\"\"}}}],\"scatter3d\":[{\"type\":\"scatter3d\",\"line\":{\"colorbar\":{\"outlinewidth\":0,\"ticks\":\"\"}},\"marker\":{\"colorbar\":{\"outlinewidth\":0,\"ticks\":\"\"}}}],\"scattermapbox\":[{\"type\":\"scattermapbox\",\"marker\":{\"colorbar\":{\"outlinewidth\":0,\"ticks\":\"\"}}}],\"scatterternary\":[{\"type\":\"scatterternary\",\"marker\":{\"colorbar\":{\"outlinewidth\":0,\"ticks\":\"\"}}}],\"scattercarpet\":[{\"type\":\"scattercarpet\",\"marker\":{\"colorbar\":{\"outlinewidth\":0,\"ticks\":\"\"}}}],\"carpet\":[{\"aaxis\":{\"endlinecolor\":\"#2a3f5f\",\"gridcolor\":\"white\",\"linecolor\":\"white\",\"minorgridcolor\":\"white\",\"startlinecolor\":\"#2a3f5f\"},\"baxis\":{\"endlinecolor\":\"#2a3f5f\",\"gridcolor\":\"white\",\"linecolor\":\"white\",\"minorgridcolor\":\"white\",\"startlinecolor\":\"#2a3f5f\"},\"type\":\"carpet\"}],\"table\":[{\"cells\":{\"fill\":{\"color\":\"#EBF0F8\"},\"line\":{\"color\":\"white\"}},\"header\":{\"fill\":{\"color\":\"#C8D4E3\"},\"line\":{\"color\":\"white\"}},\"type\":\"table\"}],\"barpolar\":[{\"marker\":{\"line\":{\"color\":\"#E5ECF6\",\"width\":0.5},\"pattern\":{\"fillmode\":\"overlay\",\"size\":10,\"solidity\":0.2}},\"type\":\"barpolar\"}],\"pie\":[{\"automargin\":true,\"type\":\"pie\"}]},\"layout\":{\"autotypenumbers\":\"strict\",\"colorway\":[\"#636efa\",\"#EF553B\",\"#00cc96\",\"#ab63fa\",\"#FFA15A\",\"#19d3f3\",\"#FF6692\",\"#B6E880\",\"#FF97FF\",\"#FECB52\"],\"font\":{\"color\":\"#2a3f5f\"},\"hovermode\":\"closest\",\"hoverlabel\":{\"align\":\"left\"},\"paper_bgcolor\":\"white\",\"plot_bgcolor\":\"#E5ECF6\",\"polar\":{\"bgcolor\":\"#E5ECF6\",\"angularaxis\":{\"gridcolor\":\"white\",\"linecolor\":\"white\",\"ticks\":\"\"},\"radialaxis\":{\"gridcolor\":\"white\",\"linecolor\":\"white\",\"ticks\":\"\"}},\"ternary\":{\"bgcolor\":\"#E5ECF6\",\"aaxis\":{\"gridcolor\":\"white\",\"linecolor\":\"white\",\"ticks\":\"\"},\"baxis\":{\"gridcolor\":\"white\",\"linecolor\":\"white\",\"ticks\":\"\"},\"caxis\":{\"gridcolor\":\"white\",\"linecolor\":\"white\",\"ticks\":\"\"}},\"coloraxis\":{\"colorbar\":{\"outlinewidth\":0,\"ticks\":\"\"}},\"colorscale\":{\"sequential\":[[0.0,\"#0d0887\"],[0.1111111111111111,\"#46039f\"],[0.2222222222222222,\"#7201a8\"],[0.3333333333333333,\"#9c179e\"],[0.4444444444444444,\"#bd3786\"],[0.5555555555555556,\"#d8576b\"],[0.6666666666666666,\"#ed7953\"],[0.7777777777777778,\"#fb9f3a\"],[0.8888888888888888,\"#fdca26\"],[1.0,\"#f0f921\"]],\"sequentialminus\":[[0.0,\"#0d0887\"],[0.1111111111111111,\"#46039f\"],[0.2222222222222222,\"#7201a8\"],[0.3333333333333333,\"#9c179e\"],[0.4444444444444444,\"#bd3786\"],[0.5555555555555556,\"#d8576b\"],[0.6666666666666666,\"#ed7953\"],[0.7777777777777778,\"#fb9f3a\"],[0.8888888888888888,\"#fdca26\"],[1.0,\"#f0f921\"]],\"diverging\":[[0,\"#8e0152\"],[0.1,\"#c51b7d\"],[0.2,\"#de77ae\"],[0.3,\"#f1b6da\"],[0.4,\"#fde0ef\"],[0.5,\"#f7f7f7\"],[0.6,\"#e6f5d0\"],[0.7,\"#b8e186\"],[0.8,\"#7fbc41\"],[0.9,\"#4d9221\"],[1,\"#276419\"]]},\"xaxis\":{\"gridcolor\":\"white\",\"linecolor\":\"white\",\"ticks\":\"\",\"title\":{\"standoff\":15},\"zerolinecolor\":\"white\",\"automargin\":true,\"zerolinewidth\":2},\"yaxis\":{\"gridcolor\":\"white\",\"linecolor\":\"white\",\"ticks\":\"\",\"title\":{\"standoff\":15},\"zerolinecolor\":\"white\",\"automargin\":true,\"zerolinewidth\":2},\"scene\":{\"xaxis\":{\"backgroundcolor\":\"#E5ECF6\",\"gridcolor\":\"white\",\"linecolor\":\"white\",\"showbackground\":true,\"ticks\":\"\",\"zerolinecolor\":\"white\",\"gridwidth\":2},\"yaxis\":{\"backgroundcolor\":\"#E5ECF6\",\"gridcolor\":\"white\",\"linecolor\":\"white\",\"showbackground\":true,\"ticks\":\"\",\"zerolinecolor\":\"white\",\"gridwidth\":2},\"zaxis\":{\"backgroundcolor\":\"#E5ECF6\",\"gridcolor\":\"white\",\"linecolor\":\"white\",\"showbackground\":true,\"ticks\":\"\",\"zerolinecolor\":\"white\",\"gridwidth\":2}},\"shapedefaults\":{\"line\":{\"color\":\"#2a3f5f\"}},\"annotationdefaults\":{\"arrowcolor\":\"#2a3f5f\",\"arrowhead\":0,\"arrowwidth\":1},\"geo\":{\"bgcolor\":\"white\",\"landcolor\":\"#E5ECF6\",\"subunitcolor\":\"white\",\"showland\":true,\"showlakes\":true,\"lakecolor\":\"white\"},\"title\":{\"x\":0.05},\"mapbox\":{\"style\":\"light\"}}},\"hovermode\":\"x unified\",\"xaxis\":{\"title\":{\"text\":\"Minimum Total Orders\"}},\"yaxis\":{\"title\":{\"text\":\"% of registered users who ordered 0times\"}}},                        {\"responsive\": true}                    ).then(function(){\n",
       "                            \n",
       "var gd = document.getElementById('4c3f8c4e-46bb-4b03-94d9-c8183bcfaf63');\n",
       "var x = new MutationObserver(function (mutations, observer) {{\n",
       "        var display = window.getComputedStyle(gd).display;\n",
       "        if (!display || display === 'none') {{\n",
       "            console.log([gd, 'removed!']);\n",
       "            Plotly.purge(gd);\n",
       "            observer.disconnect();\n",
       "        }}\n",
       "}});\n",
       "\n",
       "// Listen for the removal of the full notebook cells\n",
       "var notebookContainer = gd.closest('#notebook-container');\n",
       "if (notebookContainer) {{\n",
       "    x.observe(notebookContainer, {childList: true});\n",
       "}}\n",
       "\n",
       "// Listen for the clearing of the current output cell\n",
       "var outputEl = gd.closest('.output');\n",
       "if (outputEl) {{\n",
       "    x.observe(outputEl, {childList: true});\n",
       "}}\n",
       "\n",
       "                        })                };                });            </script>        </div>"
      ]
     },
     "metadata": {},
     "output_type": "display_data"
    }
   ],
   "source": [
    "## use for loop\n",
    "\n",
    "fig = go.Figure()\n",
    "\n",
    "for i in graph_df['user_category'].unique():\n",
    "    fig.add_trace(go.Scatter(x=graph_df.loc[graph_df['user_category']== i,'min_orders'],\n",
    "                        y = graph_df.loc[graph_df['user_category']== i,'%_registered_users'],\n",
    "                        name = i+'Users'))\n",
    "\n",
    "fig.update_traces(mode = 'markers+lines')\n",
    "fig.update_layout(hovermode = 'x unified', xaxis_title = 'Minimum Total Orders',\n",
    "                  yaxis_title = '% of registered users who ordered '+ str(baseline)+'times')\n",
    "\n",
    "fig.show()"
   ]
  },
  {
   "cell_type": "code",
   "execution_count": null,
   "metadata": {},
   "outputs": [],
   "source": []
  }
 ],
 "metadata": {
  "kernelspec": {
   "display_name": "Python 3",
   "language": "python",
   "name": "python3"
  },
  "language_info": {
   "codemirror_mode": {
    "name": "ipython",
    "version": 3
   },
   "file_extension": ".py",
   "mimetype": "text/x-python",
   "name": "python",
   "nbconvert_exporter": "python",
   "pygments_lexer": "ipython3",
   "version": "3.8.3"
  }
 },
 "nbformat": 4,
 "nbformat_minor": 4
}
